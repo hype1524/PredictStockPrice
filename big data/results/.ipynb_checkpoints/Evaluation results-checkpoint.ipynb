{
 "cells": [
  {
   "cell_type": "code",
   "execution_count": 10,
   "id": "79746c11-f535-4f10-bfec-574c7c9ff656",
   "metadata": {},
   "outputs": [
    {
     "name": "stdout",
     "output_type": "stream",
     "text": [
      "Win count: {'gelu': 46, 'relu': 50}\n",
      "Win ratio: {'gelu': 0.4791666666666667, 'relu': 0.5208333333333334}\n"
     ]
    }
   ],
   "source": [
    "import pandas as pd\n",
    "\n",
    "df_1 = pd.read_csv('results_double_stacked_lstm.csv')\n",
    "df_2 = pd.read_csv('results_triple_stacked_lstm.csv')\n",
    "df_3 = pd.read_csv('results_bidirectional_lstm.csv')\n",
    "df_4 = pd.read_csv('results_bidirectional_stacked_lstm.csv')\n",
    "df_5 = pd.read_csv('results_cnn_lstm.csv')\n",
    "df_6 = pd.read_csv('results_bidirectional_cnn_lstm.csv')\n",
    "\n",
    "grouped_1 = df_1.groupby(['a', 'b', 'loss_function'])\n",
    "grouped_2 = df_2.groupby(['a', 'b', 'loss_function'])\n",
    "grouped_3 = df_3.groupby(['a', 'b', 'loss_function'])\n",
    "grouped_4 = df_4.groupby(['a', 'b', 'loss_function'])\n",
    "grouped_5 = df_5.groupby(['a', 'b', 'loss_function'])\n",
    "grouped_6 = df_6.groupby(['a', 'b', 'loss_function'])\n",
    "\n",
    "win_count = {}\n",
    "\n",
    "\n",
    "for _, group in grouped_1:\n",
    "    min_loss_row = group.loc[group['final_loss'].idxmin()]\n",
    "    activation = min_loss_row['activation']\n",
    "    \n",
    "    win_count[activation] = win_count.get(activation, 0) + 1\n",
    "\n",
    "for _, group in grouped_2:\n",
    "    min_loss_row = group.loc[group['final_loss'].idxmin()]\n",
    "    activation = min_loss_row['activation']\n",
    "    \n",
    "    win_count[activation] = win_count.get(activation, 0) + 1\n",
    "\n",
    "for _, group in grouped_3:\n",
    "    min_loss_row = group.loc[group['final_loss'].idxmin()]\n",
    "    activation = min_loss_row['activation']\n",
    "    \n",
    "    win_count[activation] = win_count.get(activation, 0) + 1\n",
    "\n",
    "for _, group in grouped_4:\n",
    "    min_loss_row = group.loc[group['final_loss'].idxmin()]\n",
    "    activation = min_loss_row['activation']\n",
    "    \n",
    "    win_count[activation] = win_count.get(activation, 0) + 1\n",
    "\n",
    "for _, group in grouped_5:\n",
    "    min_loss_row = group.loc[group['final_loss'].idxmin()]\n",
    "    activation = min_loss_row['activation']\n",
    "    \n",
    "    win_count[activation] = win_count.get(activation, 0) + 1\n",
    "\n",
    "for _, group in grouped_6:\n",
    "    min_loss_row = group.loc[group['final_loss'].idxmin()]\n",
    "    activation = min_loss_row['activation']\n",
    "    \n",
    "    win_count[activation] = win_count.get(activation, 0) + 1\n",
    "\n",
    "total_groups = len(grouped_1) + len(grouped_2) + len(grouped_3) + len(grouped_4) + len(grouped_5) + len(grouped_6)\n",
    "\n",
    "win_ratio = {act: count / total_groups for act, count in win_count.items()}\n",
    "\n",
    "print(\"Win count:\", win_count)\n",
    "print(\"Win ratio:\", win_ratio)\n"
   ]
  }
 ],
 "metadata": {
  "kernelspec": {
   "display_name": "Python 3 (ipykernel)",
   "language": "python",
   "name": "python3"
  },
  "language_info": {
   "codemirror_mode": {
    "name": "ipython",
    "version": 3
   },
   "file_extension": ".py",
   "mimetype": "text/x-python",
   "name": "python",
   "nbconvert_exporter": "python",
   "pygments_lexer": "ipython3",
   "version": "3.12.6"
  }
 },
 "nbformat": 4,
 "nbformat_minor": 5
}
