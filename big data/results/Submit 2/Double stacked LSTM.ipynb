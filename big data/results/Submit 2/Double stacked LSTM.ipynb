{
 "cells": [
  {
   "cell_type": "code",
   "execution_count": 1,
   "id": "1153aaeb",
   "metadata": {
    "_cell_guid": "b1076dfc-b9ad-4769-8c92-a6c4dae69d19",
    "_uuid": "8f2839f25d086af736a60e9eeb907d3b93b6e0e5",
    "execution": {
     "iopub.execute_input": "2025-05-11T01:33:10.063993Z",
     "iopub.status.busy": "2025-05-11T01:33:10.063587Z",
     "iopub.status.idle": "2025-05-11T01:33:12.010864Z",
     "shell.execute_reply": "2025-05-11T01:33:12.009804Z"
    },
    "papermill": {
     "duration": 1.954644,
     "end_time": "2025-05-11T01:33:12.012779",
     "exception": false,
     "start_time": "2025-05-11T01:33:10.058135",
     "status": "completed"
    },
    "tags": []
   },
   "outputs": [
    {
     "name": "stdout",
     "output_type": "stream",
     "text": [
      "/kaggle/input/mydataset/data_train.csv\n"
     ]
    }
   ],
   "source": [
    "# This Python 3 environment comes with many helpful analytics libraries installed\n",
    "# It is defined by the kaggle/python Docker image: https://github.com/kaggle/docker-python\n",
    "# For example, here's several helpful packages to load\n",
    "\n",
    "import numpy as np # linear algebra\n",
    "import pandas as pd # data processing, CSV file I/O (e.g. pd.read_csv)\n",
    "\n",
    "# Input data files are available in the read-only \"../input/\" directory\n",
    "# For example, running this (by clicking run or pressing Shift+Enter) will list all files under the input directory\n",
    "\n",
    "import os\n",
    "for dirname, _, filenames in os.walk('/kaggle/input'):\n",
    "    for filename in filenames:\n",
    "        print(os.path.join(dirname, filename))\n",
    "\n",
    "# You can write up to 20GB to the current directory (/kaggle/working/) that gets preserved as output when you create a version using \"Save & Run All\" \n",
    "# You can also write temporary files to /kaggle/temp/, but they won't be saved outside of the current session"
   ]
  },
  {
   "cell_type": "code",
   "execution_count": 2,
   "id": "6983d45a",
   "metadata": {
    "execution": {
     "iopub.execute_input": "2025-05-11T01:33:12.021854Z",
     "iopub.status.busy": "2025-05-11T01:33:12.021021Z",
     "iopub.status.idle": "2025-05-11T01:33:31.191013Z",
     "shell.execute_reply": "2025-05-11T01:33:31.189899Z"
    },
    "papermill": {
     "duration": 19.176538,
     "end_time": "2025-05-11T01:33:31.193159",
     "exception": false,
     "start_time": "2025-05-11T01:33:12.016621",
     "status": "completed"
    },
    "tags": []
   },
   "outputs": [
    {
     "name": "stderr",
     "output_type": "stream",
     "text": [
      "2025-05-11 01:33:14.242128: E external/local_xla/xla/stream_executor/cuda/cuda_fft.cc:477] Unable to register cuFFT factory: Attempting to register factory for plugin cuFFT when one has already been registered\n",
      "WARNING: All log messages before absl::InitializeLog() is called are written to STDERR\n",
      "E0000 00:00:1746927194.519090      13 cuda_dnn.cc:8310] Unable to register cuDNN factory: Attempting to register factory for plugin cuDNN when one has already been registered\n",
      "E0000 00:00:1746927194.593360      13 cuda_blas.cc:1418] Unable to register cuBLAS factory: Attempting to register factory for plugin cuBLAS when one has already been registered\n"
     ]
    }
   ],
   "source": [
    "from numpy import array\n",
    "from numpy import hstack\n",
    "from keras.models import Sequential\n",
    "from keras.layers import LSTM, Dense, Flatten, Bidirectional, TimeDistributed, Conv1D, MaxPooling1D, RepeatVector\n",
    "from sklearn.model_selection import train_test_split\n",
    "from sklearn.metrics import r2_score\n",
    "import math\n",
    "from sklearn.preprocessing import StandardScaler\n",
    "import csv"
   ]
  },
  {
   "cell_type": "code",
   "execution_count": 3,
   "id": "3ec3b7f7",
   "metadata": {
    "execution": {
     "iopub.execute_input": "2025-05-11T01:33:31.203642Z",
     "iopub.status.busy": "2025-05-11T01:33:31.203009Z",
     "iopub.status.idle": "2025-05-11T01:33:31.253202Z",
     "shell.execute_reply": "2025-05-11T01:33:31.252341Z"
    },
    "papermill": {
     "duration": 0.057073,
     "end_time": "2025-05-11T01:33:31.255189",
     "exception": false,
     "start_time": "2025-05-11T01:33:31.198116",
     "status": "completed"
    },
    "tags": []
   },
   "outputs": [],
   "source": [
    "df = pd.read_csv('/kaggle/input/mydataset/data_train.csv')\n",
    "\n",
    "df = df.sort_values(by=['company_id', 'quarter'])"
   ]
  },
  {
   "cell_type": "code",
   "execution_count": 4,
   "id": "bf3e9761",
   "metadata": {
    "execution": {
     "iopub.execute_input": "2025-05-11T01:33:31.263793Z",
     "iopub.status.busy": "2025-05-11T01:33:31.263460Z",
     "iopub.status.idle": "2025-05-11T01:33:31.345534Z",
     "shell.execute_reply": "2025-05-11T01:33:31.344537Z"
    },
    "papermill": {
     "duration": 0.088424,
     "end_time": "2025-05-11T01:33:31.347285",
     "exception": false,
     "start_time": "2025-05-11T01:33:31.258861",
     "status": "completed"
    },
    "tags": []
   },
   "outputs": [],
   "source": [
    "scaler = StandardScaler()\n",
    "\n",
    "X = df[['P', 'EPS', 'D/E', 'SIZE']]\n",
    "\n",
    "X_scaled = scaler.fit_transform(X)\n",
    "\n",
    "df_scaled = pd.DataFrame(X_scaled, columns=['P', 'EPS', 'D/E', 'SIZE'])\n",
    "\n",
    "df_scaled['quarter'] = df['quarter'].values\n",
    "df_scaled['company_id'] = df['company_id'].values\n",
    "\n",
    "df_scaled.to_csv('data_scaled.csv', index=False)"
   ]
  },
  {
   "cell_type": "code",
   "execution_count": 5,
   "id": "d6fef869",
   "metadata": {
    "execution": {
     "iopub.execute_input": "2025-05-11T01:33:31.357357Z",
     "iopub.status.busy": "2025-05-11T01:33:31.356965Z",
     "iopub.status.idle": "2025-05-11T01:33:31.363026Z",
     "shell.execute_reply": "2025-05-11T01:33:31.362063Z"
    },
    "papermill": {
     "duration": 0.012477,
     "end_time": "2025-05-11T01:33:31.364937",
     "exception": false,
     "start_time": "2025-05-11T01:33:31.352460",
     "status": "completed"
    },
    "tags": []
   },
   "outputs": [],
   "source": [
    "def split_sequence(sequence, n_steps_in, n_steps_out):\n",
    "    X, y = list(), list()\n",
    "    for i in range(len(sequence)):\n",
    "\n",
    "        end_ix = i + n_steps_in\n",
    "        out_end_ix = end_ix + n_steps_out\n",
    "\n",
    "        if out_end_ix > len(sequence):\n",
    "            break\n",
    "\n",
    "        seq_x, seq_y = sequence[i:end_ix], sequence[end_ix:out_end_ix][:, 0]\n",
    "        X.append(seq_x)\n",
    "        y.append(seq_y)\n",
    "    return array(X), array(y)\n"
   ]
  },
  {
   "cell_type": "code",
   "execution_count": 6,
   "id": "1c5f1907",
   "metadata": {
    "execution": {
     "iopub.execute_input": "2025-05-11T01:33:31.373754Z",
     "iopub.status.busy": "2025-05-11T01:33:31.373465Z",
     "iopub.status.idle": "2025-05-11T01:33:31.393885Z",
     "shell.execute_reply": "2025-05-11T01:33:31.392828Z"
    },
    "papermill": {
     "duration": 0.026889,
     "end_time": "2025-05-11T01:33:31.395710",
     "exception": false,
     "start_time": "2025-05-11T01:33:31.368821",
     "status": "completed"
    },
    "tags": []
   },
   "outputs": [],
   "source": [
    "df = pd.read_csv('/kaggle/working/data_scaled.csv')\n",
    "\n",
    "df = df.sort_values(by=['company_id', 'quarter'])\n",
    "\n",
    "company_ids = df['company_id'].unique()"
   ]
  },
  {
   "cell_type": "code",
   "execution_count": 7,
   "id": "60d209b3",
   "metadata": {
    "execution": {
     "iopub.execute_input": "2025-05-11T01:33:31.404562Z",
     "iopub.status.busy": "2025-05-11T01:33:31.404154Z",
     "iopub.status.idle": "2025-05-11T01:33:31.413192Z",
     "shell.execute_reply": "2025-05-11T01:33:31.412354Z"
    },
    "papermill": {
     "duration": 0.015145,
     "end_time": "2025-05-11T01:33:31.414654",
     "exception": false,
     "start_time": "2025-05-11T01:33:31.399509",
     "status": "completed"
    },
    "tags": []
   },
   "outputs": [],
   "source": [
    "def train_double_stacked_lstm(n_steps_in, n_steps_out, activation, loss, epochs):\n",
    "    X_list, y_list = list(), list()\n",
    "\n",
    "    for company_id in company_ids:\n",
    "        company_data = df[df['company_id'] == company_id]\n",
    "    \n",
    "        p = array(company_data['P']).reshape((len(company_data), 1))\n",
    "        eps = array(company_data['EPS']).reshape((len(company_data), 1))\n",
    "        de = array(company_data['D/E']).reshape((len(company_data), 1))\n",
    "        size = array(company_data['SIZE']).reshape((len(company_data), 1))\n",
    "    \n",
    "        dataset = hstack((p, eps, de, size))\n",
    "    \n",
    "        X, y = split_sequence(dataset, n_steps_in, n_steps_out)\n",
    "\n",
    "        X_list.extend(X)\n",
    "        y_list.extend(y)\n",
    "\n",
    "    X = array(X_list)\n",
    "    y = array(y_list)\n",
    "    \n",
    "    n_features = X.shape[2]\n",
    "\n",
    "    X_train, X_test, y_train, y_test = train_test_split(X, y, test_size=0.3, shuffle=True)\n",
    "\n",
    "    model = Sequential()\n",
    "    model.add(LSTM(100, activation=activation, return_sequences=True, input_shape=(n_steps_in, n_features)))\n",
    "    model.add(LSTM(100, activation=activation))\n",
    "    model.add(Dense(n_steps_out))\n",
    "    model.compile(optimizer='adam', loss=loss)\n",
    "\n",
    "    model.fit(X_train, y_train, epochs=epochs, verbose=0)\n",
    "\n",
    "    loss = model.evaluate(X_test, y_test, verbose=0)\n",
    "    \n",
    "    return loss"
   ]
  },
  {
   "cell_type": "code",
   "execution_count": 8,
   "id": "f49d6119",
   "metadata": {
    "execution": {
     "iopub.execute_input": "2025-05-11T01:33:31.423231Z",
     "iopub.status.busy": "2025-05-11T01:33:31.422757Z",
     "iopub.status.idle": "2025-05-11T01:33:31.431551Z",
     "shell.execute_reply": "2025-05-11T01:33:31.430818Z"
    },
    "papermill": {
     "duration": 0.014751,
     "end_time": "2025-05-11T01:33:31.432967",
     "exception": false,
     "start_time": "2025-05-11T01:33:31.418216",
     "status": "completed"
    },
    "tags": []
   },
   "outputs": [],
   "source": [
    "def train_triple_stacked_lstm(n_steps_in, n_steps_out, activation, loss, epochs):\n",
    "    X_list, y_list = list(), list()\n",
    "\n",
    "    for company_id in company_ids:\n",
    "        company_data = df[df['company_id'] == company_id]\n",
    "    \n",
    "        p = array(company_data['P']).reshape((len(company_data), 1))\n",
    "        eps = array(company_data['EPS']).reshape((len(company_data), 1))\n",
    "        de = array(company_data['D/E']).reshape((len(company_data), 1))\n",
    "        size = array(company_data['SIZE']).reshape((len(company_data), 1))\n",
    "    \n",
    "        dataset = hstack((p, eps, de, size))\n",
    "    \n",
    "        X, y = split_sequence(dataset, n_steps_in, n_steps_out)\n",
    "\n",
    "        X_list.extend(X)\n",
    "        y_list.extend(y)\n",
    "\n",
    "    X = array(X_list)\n",
    "    y = array(y_list)\n",
    "    \n",
    "    n_features = X.shape[2]\n",
    "\n",
    "    X_train, X_test, y_train, y_test = train_test_split(X, y, test_size=0.3, shuffle=True)\n",
    "\n",
    "    model = Sequential()\n",
    "    model.add(LSTM(100, activation=activation, return_sequences=True, input_shape=(n_steps_in, n_features)))\n",
    "    model.add(LSTM(100, activation=activation, return_sequences=True, input_shape=(n_steps_in, n_features)))\n",
    "    model.add(LSTM(100, activation=activation))\n",
    "    model.add(Dense(n_steps_out))\n",
    "    model.compile(optimizer='adam', loss=loss)\n",
    "\n",
    "    model.fit(X_train, y_train, epochs=epochs, verbose=0)\n",
    "\n",
    "    loss = model.evaluate(X_test, y_test, verbose=0)\n",
    "    \n",
    "    return loss"
   ]
  },
  {
   "cell_type": "code",
   "execution_count": 9,
   "id": "45563e89",
   "metadata": {
    "execution": {
     "iopub.execute_input": "2025-05-11T01:33:31.441648Z",
     "iopub.status.busy": "2025-05-11T01:33:31.441313Z",
     "iopub.status.idle": "2025-05-11T01:33:31.449644Z",
     "shell.execute_reply": "2025-05-11T01:33:31.448786Z"
    },
    "papermill": {
     "duration": 0.014312,
     "end_time": "2025-05-11T01:33:31.451007",
     "exception": false,
     "start_time": "2025-05-11T01:33:31.436695",
     "status": "completed"
    },
    "tags": []
   },
   "outputs": [],
   "source": [
    "def train_bidirectional_lstm(n_steps_in, n_steps_out, activation, loss, epochs):\n",
    "    X_list, y_list = list(), list()\n",
    "\n",
    "    for company_id in company_ids:\n",
    "        company_data = df[df['company_id'] == company_id]\n",
    "    \n",
    "        p = array(company_data['P']).reshape((len(company_data), 1))\n",
    "        eps = array(company_data['EPS']).reshape((len(company_data), 1))\n",
    "        de = array(company_data['D/E']).reshape((len(company_data), 1))\n",
    "        size = array(company_data['SIZE']).reshape((len(company_data), 1))\n",
    "    \n",
    "        dataset = hstack((p, eps, de, size))\n",
    "    \n",
    "        X, y = split_sequence(dataset, n_steps_in, n_steps_out)\n",
    "\n",
    "        X_list.extend(X)\n",
    "        y_list.extend(y)\n",
    "\n",
    "    X = array(X_list)\n",
    "    y = array(y_list)\n",
    "    \n",
    "    n_features = X.shape[2]\n",
    "\n",
    "    X_train, X_test, y_train, y_test = train_test_split(X, y, test_size=0.3, shuffle=True)\n",
    "\n",
    "    model = Sequential()\n",
    "    model.add(Bidirectional(LSTM(100, activation=activation), input_shape=(n_steps_in, n_features)))\n",
    "    model.add(Dense(n_steps_out))\n",
    "    model.compile(optimizer='adam', loss=loss)\n",
    "\n",
    "    model.fit(X_train, y_train, epochs=epochs, verbose=0)\n",
    "\n",
    "    loss = model.evaluate(X_test, y_test, verbose=0)\n",
    "    \n",
    "    return loss"
   ]
  },
  {
   "cell_type": "code",
   "execution_count": 10,
   "id": "c7b5448d",
   "metadata": {
    "execution": {
     "iopub.execute_input": "2025-05-11T01:33:31.459553Z",
     "iopub.status.busy": "2025-05-11T01:33:31.459217Z",
     "iopub.status.idle": "2025-05-11T01:33:31.469225Z",
     "shell.execute_reply": "2025-05-11T01:33:31.468327Z"
    },
    "papermill": {
     "duration": 0.016007,
     "end_time": "2025-05-11T01:33:31.470677",
     "exception": false,
     "start_time": "2025-05-11T01:33:31.454670",
     "status": "completed"
    },
    "tags": []
   },
   "outputs": [],
   "source": [
    "def train_cnn_lstm(n_steps_in, n_seq, n_steps_out, activation, loss, epochs):\n",
    "    X_list, y_list = list(), list()\n",
    "\n",
    "    for company_id in company_ids:\n",
    "        company_data = df[df['company_id'] == company_id]\n",
    "    \n",
    "        p = array(company_data['P']).reshape((len(company_data), 1))\n",
    "        eps = array(company_data['EPS']).reshape((len(company_data), 1))\n",
    "        de = array(company_data['D/E']).reshape((len(company_data), 1))\n",
    "        size = array(company_data['SIZE']).reshape((len(company_data), 1))\n",
    "    \n",
    "        dataset = hstack((p, eps, de, size))\n",
    "    \n",
    "        X, y = split_sequence(dataset, n_steps_in * n_seq, n_steps_out)\n",
    "\n",
    "        X_list.extend(X)\n",
    "        y_list.extend(y)\n",
    "\n",
    "    X = array(X_list)\n",
    "    y = array(y_list)\n",
    "    \n",
    "    n_features = X.shape[2]\n",
    "    \n",
    "    X = X.reshape((X.shape[0], n_seq, n_steps_in, n_features))\n",
    "\n",
    "    X_train, X_test, y_train, y_test = train_test_split(X, y, test_size=0.3, shuffle=True)\n",
    "\n",
    "    model = Sequential()\n",
    "    model.add(TimeDistributed(Conv1D(filters=64, kernel_size=1, activation=activation), input_shape=(None, n_steps_in, n_features)))\n",
    "    model.add(TimeDistributed(MaxPooling1D(pool_size=2)))\n",
    "    model.add(TimeDistributed(Flatten()))\n",
    "    model.add(LSTM(100, activation=activation))\n",
    "    model.add(Dense(n_steps_out))\n",
    "    model.compile(optimizer='adam', loss=loss)\n",
    "\n",
    "    model.fit(X_train, y_train, epochs=epochs, verbose=0)\n",
    "\n",
    "    loss = model.evaluate(X_test, y_test, verbose=0)\n",
    "    \n",
    "    return loss"
   ]
  },
  {
   "cell_type": "code",
   "execution_count": 11,
   "id": "29722dec",
   "metadata": {
    "execution": {
     "iopub.execute_input": "2025-05-11T01:33:31.479904Z",
     "iopub.status.busy": "2025-05-11T01:33:31.479226Z",
     "iopub.status.idle": "2025-05-11T01:33:31.487734Z",
     "shell.execute_reply": "2025-05-11T01:33:31.486718Z"
    },
    "papermill": {
     "duration": 0.014736,
     "end_time": "2025-05-11T01:33:31.489299",
     "exception": false,
     "start_time": "2025-05-11T01:33:31.474563",
     "status": "completed"
    },
    "tags": []
   },
   "outputs": [],
   "source": [
    "def train_bidirectional_stacked_lstm(n_steps_in, n_steps_out, activation, loss, epochs):\n",
    "    X_list, y_list = list(), list()\n",
    "\n",
    "    for company_id in company_ids:\n",
    "        company_data = df[df['company_id'] == company_id]\n",
    "    \n",
    "        p = array(company_data['P']).reshape((len(company_data), 1))\n",
    "        eps = array(company_data['EPS']).reshape((len(company_data), 1))\n",
    "        de = array(company_data['D/E']).reshape((len(company_data), 1))\n",
    "        size = array(company_data['SIZE']).reshape((len(company_data), 1))\n",
    "    \n",
    "        dataset = hstack((p, eps, de, size))\n",
    "    \n",
    "        X, y = split_sequence(dataset, n_steps_in, n_steps_out)\n",
    "\n",
    "        X_list.extend(X)\n",
    "        y_list.extend(y)\n",
    "\n",
    "    X = array(X_list)\n",
    "    y = array(y_list)\n",
    "    \n",
    "    n_features = X.shape[2]\n",
    "\n",
    "    X_train, X_test, y_train, y_test = train_test_split(X, y, test_size=0.3, shuffle=True)\n",
    "\n",
    "    model = Sequential()\n",
    "    model.add(LSTM(100, activation=activation, return_sequences=True, input_shape=(n_steps_in, n_features)))\n",
    "    model.add(Bidirectional(LSTM(100, activation=activation)))\n",
    "    model.add(Dense(n_steps_out))\n",
    "    model.compile(optimizer='adam', loss=loss)\n",
    "\n",
    "    model.fit(X_train, y_train, epochs=epochs, verbose=0)\n",
    "\n",
    "    loss = model.evaluate(X_test, y_test, verbose=0)\n",
    "    \n",
    "    return loss"
   ]
  },
  {
   "cell_type": "code",
   "execution_count": 12,
   "id": "d8a78520",
   "metadata": {
    "execution": {
     "iopub.execute_input": "2025-05-11T01:33:31.498225Z",
     "iopub.status.busy": "2025-05-11T01:33:31.497868Z",
     "iopub.status.idle": "2025-05-11T01:33:31.506996Z",
     "shell.execute_reply": "2025-05-11T01:33:31.506107Z"
    },
    "papermill": {
     "duration": 0.015588,
     "end_time": "2025-05-11T01:33:31.508796",
     "exception": false,
     "start_time": "2025-05-11T01:33:31.493208",
     "status": "completed"
    },
    "tags": []
   },
   "outputs": [],
   "source": [
    "def train_bidirectional_cnn_lstm(n_steps_in, n_seq, n_steps_out, activation, loss, epochs):\n",
    "    X_list, y_list = list(), list()\n",
    "\n",
    "    for company_id in company_ids:\n",
    "        company_data = df[df['company_id'] == company_id]\n",
    "    \n",
    "        p = array(company_data['P']).reshape((len(company_data), 1))\n",
    "        eps = array(company_data['EPS']).reshape((len(company_data), 1))\n",
    "        de = array(company_data['D/E']).reshape((len(company_data), 1))\n",
    "        size = array(company_data['SIZE']).reshape((len(company_data), 1))\n",
    "    \n",
    "        dataset = hstack((p, eps, de, size))\n",
    "    \n",
    "        X, y = split_sequence(dataset, n_steps_in * n_seq, n_steps_out)\n",
    "\n",
    "        X_list.extend(X)\n",
    "        y_list.extend(y)\n",
    "\n",
    "    X = array(X_list)\n",
    "    y = array(y_list)\n",
    "    \n",
    "    n_features = X.shape[2]\n",
    "    \n",
    "    X = X.reshape((X.shape[0], n_seq, n_steps_in, n_features))\n",
    "\n",
    "    X_train, X_test, y_train, y_test = train_test_split(X, y, test_size=0.3, shuffle=True)\n",
    "\n",
    "    model = Sequential()\n",
    "    model.add(TimeDistributed(Conv1D(filters=64, kernel_size=1, activation=activation), input_shape=(None, n_steps_in, n_features)))\n",
    "    model.add(TimeDistributed(MaxPooling1D(pool_size=2)))\n",
    "    model.add(TimeDistributed(Flatten()))\n",
    "    model.add(Bidirectional(LSTM(100, activation=activation)))\n",
    "    model.add(Dense(n_steps_out))\n",
    "    model.compile(optimizer='adam', loss=loss)\n",
    "\n",
    "    model.fit(X_train, y_train, epochs=epochs, verbose=0)\n",
    "\n",
    "    loss = model.evaluate(X_test, y_test, verbose=0)\n",
    "    \n",
    "    return loss"
   ]
  },
  {
   "cell_type": "code",
   "execution_count": 13,
   "id": "f25490bc",
   "metadata": {
    "execution": {
     "iopub.execute_input": "2025-05-11T01:33:31.517847Z",
     "iopub.status.busy": "2025-05-11T01:33:31.517556Z",
     "iopub.status.idle": "2025-05-11T01:33:31.521845Z",
     "shell.execute_reply": "2025-05-11T01:33:31.521023Z"
    },
    "papermill": {
     "duration": 0.010378,
     "end_time": "2025-05-11T01:33:31.523337",
     "exception": false,
     "start_time": "2025-05-11T01:33:31.512959",
     "status": "completed"
    },
    "tags": []
   },
   "outputs": [],
   "source": [
    "activations = ['gelu', 'relu', 'linear']\n",
    "losses = ['mse', 'mape']"
   ]
  },
  {
   "cell_type": "code",
   "execution_count": 14,
   "id": "18ecafda",
   "metadata": {
    "execution": {
     "iopub.execute_input": "2025-05-11T01:33:31.532286Z",
     "iopub.status.busy": "2025-05-11T01:33:31.531934Z",
     "iopub.status.idle": "2025-05-11T08:05:39.942224Z",
     "shell.execute_reply": "2025-05-11T08:05:39.940791Z"
    },
    "papermill": {
     "duration": 23528.417537,
     "end_time": "2025-05-11T08:05:39.944816",
     "exception": false,
     "start_time": "2025-05-11T01:33:31.527279",
     "status": "completed"
    },
    "tags": []
   },
   "outputs": [
    {
     "name": "stdout",
     "output_type": "stream",
     "text": [
      "Running: a=1, b=1, activation=gelu, loss=mse\n"
     ]
    },
    {
     "name": "stderr",
     "output_type": "stream",
     "text": [
      "2025-05-11 01:33:31.740224: E external/local_xla/xla/stream_executor/cuda/cuda_driver.cc:152] failed call to cuInit: INTERNAL: CUDA error: Failed call to cuInit: UNKNOWN ERROR (303)\n",
      "/usr/local/lib/python3.11/dist-packages/keras/src/layers/rnn/rnn.py:204: UserWarning: Do not pass an `input_shape`/`input_dim` argument to a layer. When using Sequential models, prefer using an `Input(shape)` object as the first layer in the model instead.\n",
      "  super().__init__(**kwargs)\n"
     ]
    },
    {
     "name": "stdout",
     "output_type": "stream",
     "text": [
      "Running: a=1, b=1, activation=gelu, loss=mape\n",
      "Running: a=1, b=1, activation=relu, loss=mse\n",
      "Running: a=1, b=1, activation=relu, loss=mape\n",
      "Running: a=1, b=1, activation=linear, loss=mse\n",
      "Running: a=1, b=1, activation=linear, loss=mape\n",
      "Running: a=1, b=2, activation=gelu, loss=mse\n",
      "Running: a=1, b=2, activation=gelu, loss=mape\n",
      "Running: a=1, b=2, activation=relu, loss=mse\n",
      "Running: a=1, b=2, activation=relu, loss=mape\n",
      "Running: a=1, b=2, activation=linear, loss=mse\n",
      "Running: a=1, b=2, activation=linear, loss=mape\n",
      "Running: a=1, b=3, activation=gelu, loss=mse\n",
      "Running: a=1, b=3, activation=gelu, loss=mape\n",
      "Running: a=1, b=3, activation=relu, loss=mse\n",
      "Running: a=1, b=3, activation=relu, loss=mape\n",
      "Running: a=1, b=3, activation=linear, loss=mse\n",
      "Running: a=1, b=3, activation=linear, loss=mape\n",
      "Running: a=1, b=4, activation=gelu, loss=mse\n",
      "Running: a=1, b=4, activation=gelu, loss=mape\n",
      "Running: a=1, b=4, activation=relu, loss=mse\n",
      "Running: a=1, b=4, activation=relu, loss=mape\n",
      "Running: a=1, b=4, activation=linear, loss=mse\n",
      "Running: a=1, b=4, activation=linear, loss=mape\n",
      "Running: a=1, b=5, activation=gelu, loss=mse\n",
      "Running: a=1, b=5, activation=gelu, loss=mape\n",
      "Running: a=1, b=5, activation=relu, loss=mse\n",
      "Running: a=1, b=5, activation=relu, loss=mape\n",
      "Running: a=1, b=5, activation=linear, loss=mse\n",
      "Running: a=1, b=5, activation=linear, loss=mape\n",
      "Running: a=2, b=1, activation=gelu, loss=mse\n",
      "Running: a=2, b=1, activation=gelu, loss=mape\n",
      "Running: a=2, b=1, activation=relu, loss=mse\n",
      "Running: a=2, b=1, activation=relu, loss=mape\n",
      "Running: a=2, b=1, activation=linear, loss=mse\n",
      "Running: a=2, b=1, activation=linear, loss=mape\n",
      "Running: a=2, b=2, activation=gelu, loss=mse\n",
      "Running: a=2, b=2, activation=gelu, loss=mape\n",
      "Running: a=2, b=2, activation=relu, loss=mse\n",
      "Running: a=2, b=2, activation=relu, loss=mape\n",
      "Running: a=2, b=2, activation=linear, loss=mse\n",
      "Running: a=2, b=2, activation=linear, loss=mape\n",
      "Running: a=2, b=3, activation=gelu, loss=mse\n",
      "Running: a=2, b=3, activation=gelu, loss=mape\n",
      "Running: a=2, b=3, activation=relu, loss=mse\n",
      "Running: a=2, b=3, activation=relu, loss=mape\n",
      "Running: a=2, b=3, activation=linear, loss=mse\n",
      "Running: a=2, b=3, activation=linear, loss=mape\n",
      "Running: a=2, b=4, activation=gelu, loss=mse\n",
      "Running: a=2, b=4, activation=gelu, loss=mape\n",
      "Running: a=2, b=4, activation=relu, loss=mse\n",
      "Running: a=2, b=4, activation=relu, loss=mape\n",
      "Running: a=2, b=4, activation=linear, loss=mse\n",
      "Running: a=2, b=4, activation=linear, loss=mape\n",
      "Running: a=2, b=5, activation=gelu, loss=mse\n",
      "Running: a=2, b=5, activation=gelu, loss=mape\n",
      "Running: a=2, b=5, activation=relu, loss=mse\n",
      "Running: a=2, b=5, activation=relu, loss=mape\n",
      "Running: a=2, b=5, activation=linear, loss=mse\n",
      "Running: a=2, b=5, activation=linear, loss=mape\n",
      "Running: a=3, b=1, activation=gelu, loss=mse\n",
      "Running: a=3, b=1, activation=gelu, loss=mape\n",
      "Running: a=3, b=1, activation=relu, loss=mse\n",
      "Running: a=3, b=1, activation=relu, loss=mape\n",
      "Running: a=3, b=1, activation=linear, loss=mse\n",
      "Running: a=3, b=1, activation=linear, loss=mape\n",
      "Running: a=3, b=2, activation=gelu, loss=mse\n",
      "Running: a=3, b=2, activation=gelu, loss=mape\n",
      "Running: a=3, b=2, activation=relu, loss=mse\n",
      "Running: a=3, b=2, activation=relu, loss=mape\n",
      "Running: a=3, b=2, activation=linear, loss=mse\n",
      "Running: a=3, b=2, activation=linear, loss=mape\n",
      "Running: a=3, b=3, activation=gelu, loss=mse\n",
      "Running: a=3, b=3, activation=gelu, loss=mape\n",
      "Running: a=3, b=3, activation=relu, loss=mse\n",
      "Running: a=3, b=3, activation=relu, loss=mape\n",
      "Running: a=3, b=3, activation=linear, loss=mse\n",
      "Running: a=3, b=3, activation=linear, loss=mape\n",
      "Running: a=3, b=4, activation=gelu, loss=mse\n",
      "Running: a=3, b=4, activation=gelu, loss=mape\n",
      "Running: a=3, b=4, activation=relu, loss=mse\n",
      "Running: a=3, b=4, activation=relu, loss=mape\n",
      "Running: a=3, b=4, activation=linear, loss=mse\n",
      "Running: a=3, b=4, activation=linear, loss=mape\n",
      "Running: a=3, b=5, activation=gelu, loss=mse\n",
      "Running: a=3, b=5, activation=gelu, loss=mape\n",
      "Running: a=3, b=5, activation=relu, loss=mse\n",
      "Running: a=3, b=5, activation=relu, loss=mape\n",
      "Running: a=3, b=5, activation=linear, loss=mse\n",
      "Running: a=3, b=5, activation=linear, loss=mape\n",
      "Running: a=4, b=1, activation=gelu, loss=mse\n",
      "Running: a=4, b=1, activation=gelu, loss=mape\n",
      "Running: a=4, b=1, activation=relu, loss=mse\n",
      "Running: a=4, b=1, activation=relu, loss=mape\n",
      "Running: a=4, b=1, activation=linear, loss=mse\n",
      "Running: a=4, b=1, activation=linear, loss=mape\n",
      "Running: a=4, b=2, activation=gelu, loss=mse\n",
      "Running: a=4, b=2, activation=gelu, loss=mape\n",
      "Running: a=4, b=2, activation=relu, loss=mse\n",
      "Running: a=4, b=2, activation=relu, loss=mape\n",
      "Running: a=4, b=2, activation=linear, loss=mse\n",
      "Running: a=4, b=2, activation=linear, loss=mape\n",
      "Running: a=4, b=3, activation=gelu, loss=mse\n",
      "Running: a=4, b=3, activation=gelu, loss=mape\n",
      "Running: a=4, b=3, activation=relu, loss=mse\n",
      "Running: a=4, b=3, activation=relu, loss=mape\n",
      "Running: a=4, b=3, activation=linear, loss=mse\n",
      "Running: a=4, b=3, activation=linear, loss=mape\n",
      "Running: a=4, b=4, activation=gelu, loss=mse\n",
      "Running: a=4, b=4, activation=gelu, loss=mape\n",
      "Running: a=4, b=4, activation=relu, loss=mse\n",
      "Running: a=4, b=4, activation=relu, loss=mape\n",
      "Running: a=4, b=4, activation=linear, loss=mse\n",
      "Running: a=4, b=4, activation=linear, loss=mape\n",
      "Running: a=4, b=5, activation=gelu, loss=mse\n",
      "Running: a=4, b=5, activation=gelu, loss=mape\n",
      "Running: a=4, b=5, activation=relu, loss=mse\n",
      "Running: a=4, b=5, activation=relu, loss=mape\n",
      "Running: a=4, b=5, activation=linear, loss=mse\n",
      "Running: a=4, b=5, activation=linear, loss=mape\n",
      "Running: a=5, b=1, activation=gelu, loss=mse\n",
      "Running: a=5, b=1, activation=gelu, loss=mape\n",
      "Running: a=5, b=1, activation=relu, loss=mse\n",
      "Running: a=5, b=1, activation=relu, loss=mape\n",
      "Running: a=5, b=1, activation=linear, loss=mse\n",
      "Running: a=5, b=1, activation=linear, loss=mape\n",
      "Running: a=5, b=2, activation=gelu, loss=mse\n",
      "Running: a=5, b=2, activation=gelu, loss=mape\n",
      "Running: a=5, b=2, activation=relu, loss=mse\n",
      "Running: a=5, b=2, activation=relu, loss=mape\n",
      "Running: a=5, b=2, activation=linear, loss=mse\n",
      "Running: a=5, b=2, activation=linear, loss=mape\n",
      "Running: a=5, b=3, activation=gelu, loss=mse\n",
      "Running: a=5, b=3, activation=gelu, loss=mape\n",
      "Running: a=5, b=3, activation=relu, loss=mse\n",
      "Running: a=5, b=3, activation=relu, loss=mape\n",
      "Running: a=5, b=3, activation=linear, loss=mse\n",
      "Running: a=5, b=3, activation=linear, loss=mape\n",
      "Running: a=5, b=4, activation=gelu, loss=mse\n",
      "Running: a=5, b=4, activation=gelu, loss=mape\n",
      "Running: a=5, b=4, activation=relu, loss=mse\n",
      "Running: a=5, b=4, activation=relu, loss=mape\n",
      "Running: a=5, b=4, activation=linear, loss=mse\n",
      "Running: a=5, b=4, activation=linear, loss=mape\n",
      "Running: a=5, b=5, activation=gelu, loss=mse\n",
      "Running: a=5, b=5, activation=gelu, loss=mape\n",
      "Running: a=5, b=5, activation=relu, loss=mse\n",
      "Running: a=5, b=5, activation=relu, loss=mape\n",
      "Running: a=5, b=5, activation=linear, loss=mse\n",
      "Running: a=5, b=5, activation=linear, loss=mape\n"
     ]
    }
   ],
   "source": [
    "with open('results_double_stacked_lstm.csv', mode='w', newline='') as file:\n",
    "    writer = csv.writer(file)\n",
    "    writer.writerow(['a', 'b', 'activation', 'loss_function', 'final_loss'])  # Header\n",
    "\n",
    "    for a in range(1, 6):\n",
    "        for b in range(1, 6):\n",
    "            for act in activations:\n",
    "                for loss_fn in losses:\n",
    "                    print(f\"Running: a={a}, b={b}, activation={act}, loss={loss_fn}\")\n",
    "                    final_loss = train_double_stacked_lstm(a, b, act, loss_fn, 200)\n",
    "                    writer.writerow([a, b, act, loss_fn, final_loss])"
   ]
  },
  {
   "cell_type": "code",
   "execution_count": 15,
   "id": "d3c1a722",
   "metadata": {
    "execution": {
     "iopub.execute_input": "2025-05-11T08:05:39.969152Z",
     "iopub.status.busy": "2025-05-11T08:05:39.967989Z",
     "iopub.status.idle": "2025-05-11T08:05:39.972939Z",
     "shell.execute_reply": "2025-05-11T08:05:39.972121Z"
    },
    "papermill": {
     "duration": 0.018438,
     "end_time": "2025-05-11T08:05:39.974546",
     "exception": false,
     "start_time": "2025-05-11T08:05:39.956108",
     "status": "completed"
    },
    "tags": []
   },
   "outputs": [],
   "source": [
    "# with open('results_triple_stacked_lstm.csv', mode='w', newline='') as file:\n",
    "#     writer = csv.writer(file)\n",
    "#     writer.writerow(['a', 'b', 'activation', 'loss_function', 'final_loss'])  # Header\n",
    "\n",
    "#     for a in range(1, 4):\n",
    "#         for b in range(1, 3):\n",
    "#             for act in activations:\n",
    "#                 for loss_fn in losses:\n",
    "#                     print(f\"Running: a={a}, b={b}, activation={act}, loss={loss_fn}\")\n",
    "#                     final_loss = train_triple_stacked_lstm(a, b, act, loss_fn, 200)\n",
    "#                     writer.writerow([a, b, act, loss_fn, final_loss])"
   ]
  },
  {
   "cell_type": "code",
   "execution_count": 16,
   "id": "2d4c204c",
   "metadata": {
    "execution": {
     "iopub.execute_input": "2025-05-11T08:05:39.998021Z",
     "iopub.status.busy": "2025-05-11T08:05:39.997683Z",
     "iopub.status.idle": "2025-05-11T08:05:40.002002Z",
     "shell.execute_reply": "2025-05-11T08:05:40.001114Z"
    },
    "papermill": {
     "duration": 0.018282,
     "end_time": "2025-05-11T08:05:40.003674",
     "exception": false,
     "start_time": "2025-05-11T08:05:39.985392",
     "status": "completed"
    },
    "tags": []
   },
   "outputs": [],
   "source": [
    "# with open('results_bidirectional_lstm.csv', mode='w', newline='') as file:\n",
    "#     writer = csv.writer(file)\n",
    "#     writer.writerow(['a', 'b', 'activation', 'loss_function', 'final_loss'])  # Header\n",
    "\n",
    "#     for a in range(1, 4):\n",
    "#         for b in range(1, 3):\n",
    "#             for act in activations:\n",
    "#                 for loss_fn in losses:\n",
    "#                     print(f\"Running: a={a}, b={b}, activation={act}, loss={loss_fn}\")\n",
    "#                     final_loss = train_bidirectional_lstm(a, b, act, loss_fn, 200)\n",
    "#                     writer.writerow([a, b, act, loss_fn, final_loss])"
   ]
  },
  {
   "cell_type": "code",
   "execution_count": 17,
   "id": "ba073c1b",
   "metadata": {
    "execution": {
     "iopub.execute_input": "2025-05-11T08:05:40.155918Z",
     "iopub.status.busy": "2025-05-11T08:05:40.155578Z",
     "iopub.status.idle": "2025-05-11T08:05:40.160296Z",
     "shell.execute_reply": "2025-05-11T08:05:40.159418Z"
    },
    "papermill": {
     "duration": 0.146564,
     "end_time": "2025-05-11T08:05:40.161902",
     "exception": false,
     "start_time": "2025-05-11T08:05:40.015338",
     "status": "completed"
    },
    "tags": []
   },
   "outputs": [],
   "source": [
    "# with open('results_cnn_lstm.csv', mode='w', newline='') as file:\n",
    "#     writer = csv.writer(file)\n",
    "#     writer.writerow(['a', 'b', 'activation', 'loss_function', 'final_loss'])  # Header\n",
    "\n",
    "#     for a in range(2, 4):\n",
    "#         for b in range(1, 4):\n",
    "#             for c in range (1, 3):\n",
    "#                 for act in activations:\n",
    "#                     for loss_fn in losses:\n",
    "#                         print(f\"Running: a={a}, b={b}, activation={act}, loss={loss_fn}\")\n",
    "#                         final_loss = train_cnn_lstm(a, b, c, act, loss_fn, 200)\n",
    "#                         writer.writerow([a, b, act, loss_fn, final_loss])"
   ]
  },
  {
   "cell_type": "code",
   "execution_count": 18,
   "id": "67db1e51",
   "metadata": {
    "execution": {
     "iopub.execute_input": "2025-05-11T08:05:40.185461Z",
     "iopub.status.busy": "2025-05-11T08:05:40.185118Z",
     "iopub.status.idle": "2025-05-11T08:05:40.189695Z",
     "shell.execute_reply": "2025-05-11T08:05:40.188817Z"
    },
    "papermill": {
     "duration": 0.018455,
     "end_time": "2025-05-11T08:05:40.191410",
     "exception": false,
     "start_time": "2025-05-11T08:05:40.172955",
     "status": "completed"
    },
    "tags": []
   },
   "outputs": [],
   "source": [
    "# with open('results_bidirectional_stacked_lstm.csv', mode='w', newline='') as file:\n",
    "#     writer = csv.writer(file)\n",
    "#     writer.writerow(['a', 'b', 'activation', 'loss_function', 'final_loss'])  # Header\n",
    "\n",
    "#     for a in range(1, 4):\n",
    "#         for b in range(1, 3):\n",
    "#                 for act in activations:\n",
    "#                     for loss_fn in losses:\n",
    "#                         print(f\"Running: a={a}, b={b}, activation={act}, loss={loss_fn}\")\n",
    "#                         final_loss = train_bidirectional_stacked_lstm(a, b, act, loss_fn, 200)\n",
    "#                         writer.writerow([a, b, act, loss_fn, final_loss])"
   ]
  },
  {
   "cell_type": "code",
   "execution_count": 19,
   "id": "2b478ce5",
   "metadata": {
    "execution": {
     "iopub.execute_input": "2025-05-11T08:05:40.214775Z",
     "iopub.status.busy": "2025-05-11T08:05:40.214394Z",
     "iopub.status.idle": "2025-05-11T08:05:40.219480Z",
     "shell.execute_reply": "2025-05-11T08:05:40.218246Z"
    },
    "papermill": {
     "duration": 0.018687,
     "end_time": "2025-05-11T08:05:40.221123",
     "exception": false,
     "start_time": "2025-05-11T08:05:40.202436",
     "status": "completed"
    },
    "tags": []
   },
   "outputs": [],
   "source": [
    "# with open('results_bidirectional_cnn_lstm.csv', mode='w', newline='') as file:\n",
    "#     writer = csv.writer(file)\n",
    "#     writer.writerow(['a', 'b', 'activation', 'loss_function', 'final_loss'])  # Header\n",
    "\n",
    "#     for a in range(2, 4):\n",
    "#         for b in range(1, 4):\n",
    "#             for c in range(1, 3):\n",
    "#                 for act in activations:\n",
    "#                     for loss_fn in losses:\n",
    "#                         print(f\"Running: a={a}, b={b}, activation={act}, loss={loss_fn}\")\n",
    "#                         final_loss = train_bidirectional_cnn_lstm(a, b, c, act, loss_fn, 200)\n",
    "#                         writer.writerow([a, b, act, loss_fn, final_loss])"
   ]
  }
 ],
 "metadata": {
  "kaggle": {
   "accelerator": "none",
   "dataSources": [
    {
     "datasetId": 7382161,
     "sourceId": 11759269,
     "sourceType": "datasetVersion"
    }
   ],
   "dockerImageVersionId": 31012,
   "isGpuEnabled": false,
   "isInternetEnabled": true,
   "language": "python",
   "sourceType": "notebook"
  },
  "kernelspec": {
   "display_name": "Python 3",
   "language": "python",
   "name": "python3"
  },
  "language_info": {
   "codemirror_mode": {
    "name": "ipython",
    "version": 3
   },
   "file_extension": ".py",
   "mimetype": "text/x-python",
   "name": "python",
   "nbconvert_exporter": "python",
   "pygments_lexer": "ipython3",
   "version": "3.11.11"
  },
  "papermill": {
   "default_parameters": {},
   "duration": 23558.836319,
   "end_time": "2025-05-11T08:05:43.779112",
   "environment_variables": {},
   "exception": null,
   "input_path": "__notebook__.ipynb",
   "output_path": "__notebook__.ipynb",
   "parameters": {},
   "start_time": "2025-05-11T01:33:04.942793",
   "version": "2.6.0"
  }
 },
 "nbformat": 4,
 "nbformat_minor": 5
}
