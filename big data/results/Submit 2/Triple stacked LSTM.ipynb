{
 "cells": [
  {
   "cell_type": "code",
   "execution_count": 1,
   "id": "8bca5ac2",
   "metadata": {
    "_cell_guid": "b1076dfc-b9ad-4769-8c92-a6c4dae69d19",
    "_uuid": "8f2839f25d086af736a60e9eeb907d3b93b6e0e5",
    "execution": {
     "iopub.execute_input": "2025-05-11T01:31:11.679944Z",
     "iopub.status.busy": "2025-05-11T01:31:11.679591Z",
     "iopub.status.idle": "2025-05-11T01:31:13.628222Z",
     "shell.execute_reply": "2025-05-11T01:31:13.627244Z"
    },
    "papermill": {
     "duration": 1.954065,
     "end_time": "2025-05-11T01:31:13.629716",
     "exception": false,
     "start_time": "2025-05-11T01:31:11.675651",
     "status": "completed"
    },
    "tags": []
   },
   "outputs": [
    {
     "name": "stdout",
     "output_type": "stream",
     "text": [
      "/kaggle/input/mydataset/data_train.csv\n"
     ]
    }
   ],
   "source": [
    "# This Python 3 environment comes with many helpful analytics libraries installed\n",
    "# It is defined by the kaggle/python Docker image: https://github.com/kaggle/docker-python\n",
    "# For example, here's several helpful packages to load\n",
    "\n",
    "import numpy as np # linear algebra\n",
    "import pandas as pd # data processing, CSV file I/O (e.g. pd.read_csv)\n",
    "\n",
    "# Input data files are available in the read-only \"../input/\" directory\n",
    "# For example, running this (by clicking run or pressing Shift+Enter) will list all files under the input directory\n",
    "\n",
    "import os\n",
    "for dirname, _, filenames in os.walk('/kaggle/input'):\n",
    "    for filename in filenames:\n",
    "        print(os.path.join(dirname, filename))\n",
    "\n",
    "# You can write up to 20GB to the current directory (/kaggle/working/) that gets preserved as output when you create a version using \"Save & Run All\" \n",
    "# You can also write temporary files to /kaggle/temp/, but they won't be saved outside of the current session"
   ]
  },
  {
   "cell_type": "code",
   "execution_count": 2,
   "id": "55caea8c",
   "metadata": {
    "execution": {
     "iopub.execute_input": "2025-05-11T01:31:13.636309Z",
     "iopub.status.busy": "2025-05-11T01:31:13.635538Z",
     "iopub.status.idle": "2025-05-11T01:31:31.467046Z",
     "shell.execute_reply": "2025-05-11T01:31:31.466164Z"
    },
    "papermill": {
     "duration": 17.836438,
     "end_time": "2025-05-11T01:31:31.468819",
     "exception": false,
     "start_time": "2025-05-11T01:31:13.632381",
     "status": "completed"
    },
    "tags": []
   },
   "outputs": [
    {
     "name": "stderr",
     "output_type": "stream",
     "text": [
      "2025-05-11 01:31:15.524028: E external/local_xla/xla/stream_executor/cuda/cuda_fft.cc:477] Unable to register cuFFT factory: Attempting to register factory for plugin cuFFT when one has already been registered\n",
      "WARNING: All log messages before absl::InitializeLog() is called are written to STDERR\n",
      "E0000 00:00:1746927075.756752      13 cuda_dnn.cc:8310] Unable to register cuDNN factory: Attempting to register factory for plugin cuDNN when one has already been registered\n",
      "E0000 00:00:1746927075.829285      13 cuda_blas.cc:1418] Unable to register cuBLAS factory: Attempting to register factory for plugin cuBLAS when one has already been registered\n"
     ]
    }
   ],
   "source": [
    "from numpy import array\n",
    "from numpy import hstack\n",
    "from keras.models import Sequential\n",
    "from keras.layers import LSTM, Dense, Flatten, Bidirectional, TimeDistributed, Conv1D, MaxPooling1D, RepeatVector\n",
    "from sklearn.model_selection import train_test_split\n",
    "from sklearn.metrics import r2_score\n",
    "import math\n",
    "from sklearn.preprocessing import StandardScaler\n",
    "import csv"
   ]
  },
  {
   "cell_type": "code",
   "execution_count": 3,
   "id": "3c4430c5",
   "metadata": {
    "execution": {
     "iopub.execute_input": "2025-05-11T01:31:31.475090Z",
     "iopub.status.busy": "2025-05-11T01:31:31.474492Z",
     "iopub.status.idle": "2025-05-11T01:31:31.522747Z",
     "shell.execute_reply": "2025-05-11T01:31:31.521820Z"
    },
    "papermill": {
     "duration": 0.053161,
     "end_time": "2025-05-11T01:31:31.524442",
     "exception": false,
     "start_time": "2025-05-11T01:31:31.471281",
     "status": "completed"
    },
    "tags": []
   },
   "outputs": [],
   "source": [
    "df = pd.read_csv('/kaggle/input/mydataset/data_train.csv')\n",
    "\n",
    "df = df.sort_values(by=['company_id', 'quarter'])"
   ]
  },
  {
   "cell_type": "code",
   "execution_count": 4,
   "id": "2a1b95b0",
   "metadata": {
    "execution": {
     "iopub.execute_input": "2025-05-11T01:31:31.530633Z",
     "iopub.status.busy": "2025-05-11T01:31:31.530328Z",
     "iopub.status.idle": "2025-05-11T01:31:31.608108Z",
     "shell.execute_reply": "2025-05-11T01:31:31.606911Z"
    },
    "papermill": {
     "duration": 0.082808,
     "end_time": "2025-05-11T01:31:31.609822",
     "exception": false,
     "start_time": "2025-05-11T01:31:31.527014",
     "status": "completed"
    },
    "tags": []
   },
   "outputs": [],
   "source": [
    "scaler = StandardScaler()\n",
    "\n",
    "X = df[['P', 'EPS', 'D/E', 'SIZE']]\n",
    "\n",
    "X_scaled = scaler.fit_transform(X)\n",
    "\n",
    "df_scaled = pd.DataFrame(X_scaled, columns=['P', 'EPS', 'D/E', 'SIZE'])\n",
    "\n",
    "df_scaled['quarter'] = df['quarter'].values\n",
    "df_scaled['company_id'] = df['company_id'].values\n",
    "\n",
    "df_scaled.to_csv('data_scaled.csv', index=False)"
   ]
  },
  {
   "cell_type": "code",
   "execution_count": 5,
   "id": "3e95c0e3",
   "metadata": {
    "execution": {
     "iopub.execute_input": "2025-05-11T01:31:31.624467Z",
     "iopub.status.busy": "2025-05-11T01:31:31.624110Z",
     "iopub.status.idle": "2025-05-11T01:31:31.630640Z",
     "shell.execute_reply": "2025-05-11T01:31:31.629738Z"
    },
    "papermill": {
     "duration": 0.011826,
     "end_time": "2025-05-11T01:31:31.632283",
     "exception": false,
     "start_time": "2025-05-11T01:31:31.620457",
     "status": "completed"
    },
    "tags": []
   },
   "outputs": [],
   "source": [
    "def split_sequence(sequence, n_steps_in, n_steps_out):\n",
    "    X, y = list(), list()\n",
    "    for i in range(len(sequence)):\n",
    "\n",
    "        end_ix = i + n_steps_in\n",
    "        out_end_ix = end_ix + n_steps_out\n",
    "\n",
    "        if out_end_ix > len(sequence):\n",
    "            break\n",
    "\n",
    "        seq_x, seq_y = sequence[i:end_ix], sequence[end_ix:out_end_ix][:, 0]\n",
    "        X.append(seq_x)\n",
    "        y.append(seq_y)\n",
    "    return array(X), array(y)\n"
   ]
  },
  {
   "cell_type": "code",
   "execution_count": 6,
   "id": "a941f89b",
   "metadata": {
    "execution": {
     "iopub.execute_input": "2025-05-11T01:31:31.638143Z",
     "iopub.status.busy": "2025-05-11T01:31:31.637806Z",
     "iopub.status.idle": "2025-05-11T01:31:31.657585Z",
     "shell.execute_reply": "2025-05-11T01:31:31.656593Z"
    },
    "papermill": {
     "duration": 0.024727,
     "end_time": "2025-05-11T01:31:31.659436",
     "exception": false,
     "start_time": "2025-05-11T01:31:31.634709",
     "status": "completed"
    },
    "tags": []
   },
   "outputs": [],
   "source": [
    "df = pd.read_csv('/kaggle/working/data_scaled.csv')\n",
    "\n",
    "df = df.sort_values(by=['company_id', 'quarter'])\n",
    "\n",
    "company_ids = df['company_id'].unique()"
   ]
  },
  {
   "cell_type": "code",
   "execution_count": 7,
   "id": "9c7ca9f1",
   "metadata": {
    "execution": {
     "iopub.execute_input": "2025-05-11T01:31:31.665865Z",
     "iopub.status.busy": "2025-05-11T01:31:31.665515Z",
     "iopub.status.idle": "2025-05-11T01:31:31.676175Z",
     "shell.execute_reply": "2025-05-11T01:31:31.675149Z"
    },
    "papermill": {
     "duration": 0.01569,
     "end_time": "2025-05-11T01:31:31.677812",
     "exception": false,
     "start_time": "2025-05-11T01:31:31.662122",
     "status": "completed"
    },
    "tags": []
   },
   "outputs": [],
   "source": [
    "def train_triple_stacked_lstm(n_steps_in, n_steps_out, activation, loss, epochs):\n",
    "    X_list, y_list = list(), list()\n",
    "\n",
    "    for company_id in company_ids:\n",
    "        company_data = df[df['company_id'] == company_id]\n",
    "    \n",
    "        p = array(company_data['P']).reshape((len(company_data), 1))\n",
    "        eps = array(company_data['EPS']).reshape((len(company_data), 1))\n",
    "        de = array(company_data['D/E']).reshape((len(company_data), 1))\n",
    "        size = array(company_data['SIZE']).reshape((len(company_data), 1))\n",
    "    \n",
    "        dataset = hstack((p, eps, de, size))\n",
    "    \n",
    "        X, y = split_sequence(dataset, n_steps_in, n_steps_out)\n",
    "\n",
    "        X_list.extend(X)\n",
    "        y_list.extend(y)\n",
    "\n",
    "    X = array(X_list)\n",
    "    y = array(y_list)\n",
    "    \n",
    "    n_features = X.shape[2]\n",
    "\n",
    "    X_train, X_test, y_train, y_test = train_test_split(X, y, test_size=0.3, shuffle=True)\n",
    "\n",
    "    model = Sequential()\n",
    "    model.add(LSTM(100, activation=activation, return_sequences=True, input_shape=(n_steps_in, n_features)))\n",
    "    model.add(LSTM(100, activation=activation, return_sequences=True, input_shape=(n_steps_in, n_features)))\n",
    "    model.add(LSTM(100, activation=activation))\n",
    "    model.add(Dense(n_steps_out))\n",
    "    model.compile(optimizer='adam', loss=loss)\n",
    "\n",
    "    model.fit(X_train, y_train, epochs=epochs, verbose=0)\n",
    "\n",
    "    loss = model.evaluate(X_test, y_test, verbose=0)\n",
    "    \n",
    "    return loss"
   ]
  },
  {
   "cell_type": "code",
   "execution_count": 8,
   "id": "bc745c2a",
   "metadata": {
    "execution": {
     "iopub.execute_input": "2025-05-11T01:31:31.685435Z",
     "iopub.status.busy": "2025-05-11T01:31:31.685136Z",
     "iopub.status.idle": "2025-05-11T01:31:31.689687Z",
     "shell.execute_reply": "2025-05-11T01:31:31.688804Z"
    },
    "papermill": {
     "duration": 0.01081,
     "end_time": "2025-05-11T01:31:31.691253",
     "exception": false,
     "start_time": "2025-05-11T01:31:31.680443",
     "status": "completed"
    },
    "tags": []
   },
   "outputs": [],
   "source": [
    "activations = ['gelu', 'relu', 'linear']\n",
    "losses = ['mse', 'mape']"
   ]
  },
  {
   "cell_type": "code",
   "execution_count": 9,
   "id": "51bf0b01",
   "metadata": {
    "execution": {
     "iopub.execute_input": "2025-05-11T01:31:31.697422Z",
     "iopub.status.busy": "2025-05-11T01:31:31.697118Z",
     "iopub.status.idle": "2025-05-11T09:35:31.266615Z",
     "shell.execute_reply": "2025-05-11T09:35:31.265277Z"
    },
    "papermill": {
     "duration": 29039.57464,
     "end_time": "2025-05-11T09:35:31.268561",
     "exception": false,
     "start_time": "2025-05-11T01:31:31.693921",
     "status": "completed"
    },
    "tags": []
   },
   "outputs": [
    {
     "name": "stdout",
     "output_type": "stream",
     "text": [
      "Running: a=1, b=1, activation=gelu, loss=mse\n"
     ]
    },
    {
     "name": "stderr",
     "output_type": "stream",
     "text": [
      "2025-05-11 01:31:31.910193: E external/local_xla/xla/stream_executor/cuda/cuda_driver.cc:152] failed call to cuInit: INTERNAL: CUDA error: Failed call to cuInit: UNKNOWN ERROR (303)\n",
      "/usr/local/lib/python3.11/dist-packages/keras/src/layers/rnn/rnn.py:204: UserWarning: Do not pass an `input_shape`/`input_dim` argument to a layer. When using Sequential models, prefer using an `Input(shape)` object as the first layer in the model instead.\n",
      "  super().__init__(**kwargs)\n"
     ]
    },
    {
     "name": "stdout",
     "output_type": "stream",
     "text": [
      "Running: a=1, b=1, activation=gelu, loss=mape\n",
      "Running: a=1, b=1, activation=relu, loss=mse\n",
      "Running: a=1, b=1, activation=relu, loss=mape\n",
      "Running: a=1, b=1, activation=linear, loss=mse\n",
      "Running: a=1, b=1, activation=linear, loss=mape\n",
      "Running: a=1, b=2, activation=gelu, loss=mse\n",
      "Running: a=1, b=2, activation=gelu, loss=mape\n",
      "Running: a=1, b=2, activation=relu, loss=mse\n",
      "Running: a=1, b=2, activation=relu, loss=mape\n",
      "Running: a=1, b=2, activation=linear, loss=mse\n",
      "Running: a=1, b=2, activation=linear, loss=mape\n",
      "Running: a=1, b=3, activation=gelu, loss=mse\n",
      "Running: a=1, b=3, activation=gelu, loss=mape\n",
      "Running: a=1, b=3, activation=relu, loss=mse\n",
      "Running: a=1, b=3, activation=relu, loss=mape\n",
      "Running: a=1, b=3, activation=linear, loss=mse\n",
      "Running: a=1, b=3, activation=linear, loss=mape\n",
      "Running: a=1, b=4, activation=gelu, loss=mse\n",
      "Running: a=1, b=4, activation=gelu, loss=mape\n",
      "Running: a=1, b=4, activation=relu, loss=mse\n",
      "Running: a=1, b=4, activation=relu, loss=mape\n",
      "Running: a=1, b=4, activation=linear, loss=mse\n",
      "Running: a=1, b=4, activation=linear, loss=mape\n",
      "Running: a=1, b=5, activation=gelu, loss=mse\n",
      "Running: a=1, b=5, activation=gelu, loss=mape\n",
      "Running: a=1, b=5, activation=relu, loss=mse\n",
      "Running: a=1, b=5, activation=relu, loss=mape\n",
      "Running: a=1, b=5, activation=linear, loss=mse\n",
      "Running: a=1, b=5, activation=linear, loss=mape\n",
      "Running: a=2, b=1, activation=gelu, loss=mse\n",
      "Running: a=2, b=1, activation=gelu, loss=mape\n",
      "Running: a=2, b=1, activation=relu, loss=mse\n",
      "Running: a=2, b=1, activation=relu, loss=mape\n",
      "Running: a=2, b=1, activation=linear, loss=mse\n",
      "Running: a=2, b=1, activation=linear, loss=mape\n",
      "Running: a=2, b=2, activation=gelu, loss=mse\n",
      "Running: a=2, b=2, activation=gelu, loss=mape\n",
      "Running: a=2, b=2, activation=relu, loss=mse\n",
      "Running: a=2, b=2, activation=relu, loss=mape\n",
      "Running: a=2, b=2, activation=linear, loss=mse\n",
      "Running: a=2, b=2, activation=linear, loss=mape\n",
      "Running: a=2, b=3, activation=gelu, loss=mse\n",
      "Running: a=2, b=3, activation=gelu, loss=mape\n",
      "Running: a=2, b=3, activation=relu, loss=mse\n",
      "Running: a=2, b=3, activation=relu, loss=mape\n",
      "Running: a=2, b=3, activation=linear, loss=mse\n",
      "Running: a=2, b=3, activation=linear, loss=mape\n",
      "Running: a=2, b=4, activation=gelu, loss=mse\n",
      "Running: a=2, b=4, activation=gelu, loss=mape\n",
      "Running: a=2, b=4, activation=relu, loss=mse\n",
      "Running: a=2, b=4, activation=relu, loss=mape\n",
      "Running: a=2, b=4, activation=linear, loss=mse\n",
      "Running: a=2, b=4, activation=linear, loss=mape\n",
      "Running: a=2, b=5, activation=gelu, loss=mse\n",
      "Running: a=2, b=5, activation=gelu, loss=mape\n",
      "Running: a=2, b=5, activation=relu, loss=mse\n",
      "Running: a=2, b=5, activation=relu, loss=mape\n",
      "Running: a=2, b=5, activation=linear, loss=mse\n",
      "Running: a=2, b=5, activation=linear, loss=mape\n",
      "Running: a=3, b=1, activation=gelu, loss=mse\n",
      "Running: a=3, b=1, activation=gelu, loss=mape\n",
      "Running: a=3, b=1, activation=relu, loss=mse\n",
      "Running: a=3, b=1, activation=relu, loss=mape\n",
      "Running: a=3, b=1, activation=linear, loss=mse\n",
      "Running: a=3, b=1, activation=linear, loss=mape\n",
      "Running: a=3, b=2, activation=gelu, loss=mse\n",
      "Running: a=3, b=2, activation=gelu, loss=mape\n",
      "Running: a=3, b=2, activation=relu, loss=mse\n",
      "Running: a=3, b=2, activation=relu, loss=mape\n",
      "Running: a=3, b=2, activation=linear, loss=mse\n",
      "Running: a=3, b=2, activation=linear, loss=mape\n",
      "Running: a=3, b=3, activation=gelu, loss=mse\n",
      "Running: a=3, b=3, activation=gelu, loss=mape\n",
      "Running: a=3, b=3, activation=relu, loss=mse\n",
      "Running: a=3, b=3, activation=relu, loss=mape\n",
      "Running: a=3, b=3, activation=linear, loss=mse\n",
      "Running: a=3, b=3, activation=linear, loss=mape\n",
      "Running: a=3, b=4, activation=gelu, loss=mse\n",
      "Running: a=3, b=4, activation=gelu, loss=mape\n",
      "Running: a=3, b=4, activation=relu, loss=mse\n",
      "Running: a=3, b=4, activation=relu, loss=mape\n",
      "Running: a=3, b=4, activation=linear, loss=mse\n",
      "Running: a=3, b=4, activation=linear, loss=mape\n",
      "Running: a=3, b=5, activation=gelu, loss=mse\n",
      "Running: a=3, b=5, activation=gelu, loss=mape\n",
      "Running: a=3, b=5, activation=relu, loss=mse\n",
      "Running: a=3, b=5, activation=relu, loss=mape\n",
      "Running: a=3, b=5, activation=linear, loss=mse\n",
      "Running: a=3, b=5, activation=linear, loss=mape\n",
      "Running: a=4, b=1, activation=gelu, loss=mse\n",
      "Running: a=4, b=1, activation=gelu, loss=mape\n",
      "Running: a=4, b=1, activation=relu, loss=mse\n",
      "Running: a=4, b=1, activation=relu, loss=mape\n",
      "Running: a=4, b=1, activation=linear, loss=mse\n",
      "Running: a=4, b=1, activation=linear, loss=mape\n",
      "Running: a=4, b=2, activation=gelu, loss=mse\n",
      "Running: a=4, b=2, activation=gelu, loss=mape\n",
      "Running: a=4, b=2, activation=relu, loss=mse\n",
      "Running: a=4, b=2, activation=relu, loss=mape\n",
      "Running: a=4, b=2, activation=linear, loss=mse\n",
      "Running: a=4, b=2, activation=linear, loss=mape\n",
      "Running: a=4, b=3, activation=gelu, loss=mse\n",
      "Running: a=4, b=3, activation=gelu, loss=mape\n",
      "Running: a=4, b=3, activation=relu, loss=mse\n",
      "Running: a=4, b=3, activation=relu, loss=mape\n",
      "Running: a=4, b=3, activation=linear, loss=mse\n",
      "Running: a=4, b=3, activation=linear, loss=mape\n",
      "Running: a=4, b=4, activation=gelu, loss=mse\n",
      "Running: a=4, b=4, activation=gelu, loss=mape\n",
      "Running: a=4, b=4, activation=relu, loss=mse\n",
      "Running: a=4, b=4, activation=relu, loss=mape\n",
      "Running: a=4, b=4, activation=linear, loss=mse\n",
      "Running: a=4, b=4, activation=linear, loss=mape\n",
      "Running: a=4, b=5, activation=gelu, loss=mse\n",
      "Running: a=4, b=5, activation=gelu, loss=mape\n",
      "Running: a=4, b=5, activation=relu, loss=mse\n",
      "Running: a=4, b=5, activation=relu, loss=mape\n",
      "Running: a=4, b=5, activation=linear, loss=mse\n",
      "Running: a=4, b=5, activation=linear, loss=mape\n",
      "Running: a=5, b=1, activation=gelu, loss=mse\n",
      "Running: a=5, b=1, activation=gelu, loss=mape\n",
      "Running: a=5, b=1, activation=relu, loss=mse\n",
      "Running: a=5, b=1, activation=relu, loss=mape\n",
      "Running: a=5, b=1, activation=linear, loss=mse\n",
      "Running: a=5, b=1, activation=linear, loss=mape\n",
      "Running: a=5, b=2, activation=gelu, loss=mse\n",
      "Running: a=5, b=2, activation=gelu, loss=mape\n",
      "Running: a=5, b=2, activation=relu, loss=mse\n",
      "Running: a=5, b=2, activation=relu, loss=mape\n",
      "Running: a=5, b=2, activation=linear, loss=mse\n",
      "Running: a=5, b=2, activation=linear, loss=mape\n",
      "Running: a=5, b=3, activation=gelu, loss=mse\n",
      "Running: a=5, b=3, activation=gelu, loss=mape\n",
      "Running: a=5, b=3, activation=relu, loss=mse\n",
      "Running: a=5, b=3, activation=relu, loss=mape\n",
      "Running: a=5, b=3, activation=linear, loss=mse\n",
      "Running: a=5, b=3, activation=linear, loss=mape\n",
      "Running: a=5, b=4, activation=gelu, loss=mse\n",
      "Running: a=5, b=4, activation=gelu, loss=mape\n",
      "Running: a=5, b=4, activation=relu, loss=mse\n",
      "Running: a=5, b=4, activation=relu, loss=mape\n",
      "Running: a=5, b=4, activation=linear, loss=mse\n",
      "Running: a=5, b=4, activation=linear, loss=mape\n",
      "Running: a=5, b=5, activation=gelu, loss=mse\n",
      "Running: a=5, b=5, activation=gelu, loss=mape\n",
      "Running: a=5, b=5, activation=relu, loss=mse\n",
      "Running: a=5, b=5, activation=relu, loss=mape\n",
      "Running: a=5, b=5, activation=linear, loss=mse\n",
      "Running: a=5, b=5, activation=linear, loss=mape\n"
     ]
    }
   ],
   "source": [
    "with open('results_triple_stacked_lstm.csv', mode='w', newline='') as file:\n",
    "    writer = csv.writer(file)\n",
    "    writer.writerow(['a', 'b', 'activation', 'loss_function', 'final_loss'])  # Header\n",
    "\n",
    "    for a in range(1, 6):\n",
    "        for b in range(1, 6):\n",
    "            for act in activations:\n",
    "                for loss_fn in losses:\n",
    "                    print(f\"Running: a={a}, b={b}, activation={act}, loss={loss_fn}\")\n",
    "                    final_loss = train_triple_stacked_lstm(a, b, act, loss_fn, 200)\n",
    "                    writer.writerow([a, b, act, loss_fn, final_loss])"
   ]
  }
 ],
 "metadata": {
  "kaggle": {
   "accelerator": "none",
   "dataSources": [
    {
     "datasetId": 7384888,
     "sourceId": 11763260,
     "sourceType": "datasetVersion"
    }
   ],
   "dockerImageVersionId": 31012,
   "isGpuEnabled": false,
   "isInternetEnabled": false,
   "language": "python",
   "sourceType": "notebook"
  },
  "kernelspec": {
   "display_name": "Python 3",
   "language": "python",
   "name": "python3"
  },
  "language_info": {
   "codemirror_mode": {
    "name": "ipython",
    "version": 3
   },
   "file_extension": ".py",
   "mimetype": "text/x-python",
   "name": "python",
   "nbconvert_exporter": "python",
   "pygments_lexer": "ipython3",
   "version": "3.11.11"
  },
  "papermill": {
   "default_parameters": {},
   "duration": 29068.101961,
   "end_time": "2025-05-11T09:35:35.040028",
   "environment_variables": {},
   "exception": null,
   "input_path": "__notebook__.ipynb",
   "output_path": "__notebook__.ipynb",
   "parameters": {},
   "start_time": "2025-05-11T01:31:06.938067",
   "version": "2.6.0"
  }
 },
 "nbformat": 4,
 "nbformat_minor": 5
}
