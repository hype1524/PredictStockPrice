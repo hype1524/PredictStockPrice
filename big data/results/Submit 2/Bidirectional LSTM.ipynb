{
 "cells": [
  {
   "cell_type": "code",
   "execution_count": 1,
   "id": "68b199e9",
   "metadata": {
    "_cell_guid": "b1076dfc-b9ad-4769-8c92-a6c4dae69d19",
    "_uuid": "8f2839f25d086af736a60e9eeb907d3b93b6e0e5",
    "execution": {
     "iopub.execute_input": "2025-05-11T01:41:46.324969Z",
     "iopub.status.busy": "2025-05-11T01:41:46.324297Z",
     "iopub.status.idle": "2025-05-11T01:41:47.938369Z",
     "shell.execute_reply": "2025-05-11T01:41:47.937404Z"
    },
    "papermill": {
     "duration": 1.619081,
     "end_time": "2025-05-11T01:41:47.939624",
     "exception": false,
     "start_time": "2025-05-11T01:41:46.320543",
     "status": "completed"
    },
    "tags": []
   },
   "outputs": [
    {
     "name": "stdout",
     "output_type": "stream",
     "text": [
      "/kaggle/input/mydataset/data_train.csv\n"
     ]
    }
   ],
   "source": [
    "# This Python 3 environment comes with many helpful analytics libraries installed\n",
    "# It is defined by the kaggle/python Docker image: https://github.com/kaggle/docker-python\n",
    "# For example, here's several helpful packages to load\n",
    "\n",
    "import numpy as np # linear algebra\n",
    "import pandas as pd # data processing, CSV file I/O (e.g. pd.read_csv)\n",
    "\n",
    "# Input data files are available in the read-only \"../input/\" directory\n",
    "# For example, running this (by clicking run or pressing Shift+Enter) will list all files under the input directory\n",
    "\n",
    "import os\n",
    "for dirname, _, filenames in os.walk('/kaggle/input'):\n",
    "    for filename in filenames:\n",
    "        print(os.path.join(dirname, filename))\n",
    "\n",
    "# You can write up to 20GB to the current directory (/kaggle/working/) that gets preserved as output when you create a version using \"Save & Run All\" \n",
    "# You can also write temporary files to /kaggle/temp/, but they won't be saved outside of the current session"
   ]
  },
  {
   "cell_type": "code",
   "execution_count": 2,
   "id": "756404ce",
   "metadata": {
    "execution": {
     "iopub.execute_input": "2025-05-11T01:41:47.945523Z",
     "iopub.status.busy": "2025-05-11T01:41:47.944724Z",
     "iopub.status.idle": "2025-05-11T01:42:03.077126Z",
     "shell.execute_reply": "2025-05-11T01:42:03.076258Z"
    },
    "papermill": {
     "duration": 15.136578,
     "end_time": "2025-05-11T01:42:03.078724",
     "exception": false,
     "start_time": "2025-05-11T01:41:47.942146",
     "status": "completed"
    },
    "tags": []
   },
   "outputs": [
    {
     "name": "stderr",
     "output_type": "stream",
     "text": [
      "2025-05-11 01:41:49.635734: E external/local_xla/xla/stream_executor/cuda/cuda_fft.cc:477] Unable to register cuFFT factory: Attempting to register factory for plugin cuFFT when one has already been registered\n",
      "WARNING: All log messages before absl::InitializeLog() is called are written to STDERR\n",
      "E0000 00:00:1746927709.856667      13 cuda_dnn.cc:8310] Unable to register cuDNN factory: Attempting to register factory for plugin cuDNN when one has already been registered\n",
      "E0000 00:00:1746927709.924445      13 cuda_blas.cc:1418] Unable to register cuBLAS factory: Attempting to register factory for plugin cuBLAS when one has already been registered\n"
     ]
    }
   ],
   "source": [
    "from numpy import array\n",
    "from numpy import hstack\n",
    "from keras.models import Sequential\n",
    "from keras.layers import LSTM, Dense, Flatten, Bidirectional, TimeDistributed, Conv1D, MaxPooling1D, RepeatVector\n",
    "from sklearn.model_selection import train_test_split\n",
    "from sklearn.metrics import r2_score\n",
    "import math\n",
    "from sklearn.preprocessing import StandardScaler\n",
    "import csv"
   ]
  },
  {
   "cell_type": "code",
   "execution_count": 3,
   "id": "22d91340",
   "metadata": {
    "execution": {
     "iopub.execute_input": "2025-05-11T01:42:03.084268Z",
     "iopub.status.busy": "2025-05-11T01:42:03.083764Z",
     "iopub.status.idle": "2025-05-11T01:42:03.121065Z",
     "shell.execute_reply": "2025-05-11T01:42:03.120481Z"
    },
    "papermill": {
     "duration": 0.041286,
     "end_time": "2025-05-11T01:42:03.122362",
     "exception": false,
     "start_time": "2025-05-11T01:42:03.081076",
     "status": "completed"
    },
    "tags": []
   },
   "outputs": [],
   "source": [
    "df = pd.read_csv('/kaggle/input/mydataset/data_train.csv')\n",
    "\n",
    "df = df.sort_values(by=['company_id', 'quarter'])"
   ]
  },
  {
   "cell_type": "code",
   "execution_count": 4,
   "id": "7b3f8f15",
   "metadata": {
    "execution": {
     "iopub.execute_input": "2025-05-11T01:42:03.127907Z",
     "iopub.status.busy": "2025-05-11T01:42:03.127452Z",
     "iopub.status.idle": "2025-05-11T01:42:03.202990Z",
     "shell.execute_reply": "2025-05-11T01:42:03.202158Z"
    },
    "papermill": {
     "duration": 0.079839,
     "end_time": "2025-05-11T01:42:03.204481",
     "exception": false,
     "start_time": "2025-05-11T01:42:03.124642",
     "status": "completed"
    },
    "tags": []
   },
   "outputs": [],
   "source": [
    "scaler = StandardScaler()\n",
    "\n",
    "X = df[['P', 'EPS', 'D/E', 'SIZE']]\n",
    "\n",
    "X_scaled = scaler.fit_transform(X)\n",
    "\n",
    "df_scaled = pd.DataFrame(X_scaled, columns=['P', 'EPS', 'D/E', 'SIZE'])\n",
    "\n",
    "df_scaled['quarter'] = df['quarter'].values\n",
    "df_scaled['company_id'] = df['company_id'].values\n",
    "\n",
    "df_scaled.to_csv('data_scaled.csv', index=False)"
   ]
  },
  {
   "cell_type": "code",
   "execution_count": 5,
   "id": "c68a897b",
   "metadata": {
    "execution": {
     "iopub.execute_input": "2025-05-11T01:42:03.210288Z",
     "iopub.status.busy": "2025-05-11T01:42:03.209779Z",
     "iopub.status.idle": "2025-05-11T01:42:03.214718Z",
     "shell.execute_reply": "2025-05-11T01:42:03.213967Z"
    },
    "papermill": {
     "duration": 0.008923,
     "end_time": "2025-05-11T01:42:03.215909",
     "exception": false,
     "start_time": "2025-05-11T01:42:03.206986",
     "status": "completed"
    },
    "tags": []
   },
   "outputs": [],
   "source": [
    "def split_sequence(sequence, n_steps_in, n_steps_out):\n",
    "    X, y = list(), list()\n",
    "    for i in range(len(sequence)):\n",
    "\n",
    "        end_ix = i + n_steps_in\n",
    "        out_end_ix = end_ix + n_steps_out\n",
    "\n",
    "        if out_end_ix > len(sequence):\n",
    "            break\n",
    "\n",
    "        seq_x, seq_y = sequence[i:end_ix], sequence[end_ix:out_end_ix][:, 0]\n",
    "        X.append(seq_x)\n",
    "        y.append(seq_y)\n",
    "    return array(X), array(y)\n"
   ]
  },
  {
   "cell_type": "code",
   "execution_count": 6,
   "id": "b770b587",
   "metadata": {
    "execution": {
     "iopub.execute_input": "2025-05-11T01:42:03.221430Z",
     "iopub.status.busy": "2025-05-11T01:42:03.220614Z",
     "iopub.status.idle": "2025-05-11T01:42:03.237951Z",
     "shell.execute_reply": "2025-05-11T01:42:03.237160Z"
    },
    "papermill": {
     "duration": 0.021218,
     "end_time": "2025-05-11T01:42:03.239258",
     "exception": false,
     "start_time": "2025-05-11T01:42:03.218040",
     "status": "completed"
    },
    "tags": []
   },
   "outputs": [],
   "source": [
    "df = pd.read_csv('/kaggle/working/data_scaled.csv')\n",
    "\n",
    "df = df.sort_values(by=['company_id', 'quarter'])\n",
    "\n",
    "company_ids = df['company_id'].unique()"
   ]
  },
  {
   "cell_type": "code",
   "execution_count": 7,
   "id": "0ee803bb",
   "metadata": {
    "execution": {
     "iopub.execute_input": "2025-05-11T01:42:03.244331Z",
     "iopub.status.busy": "2025-05-11T01:42:03.244071Z",
     "iopub.status.idle": "2025-05-11T01:42:03.251040Z",
     "shell.execute_reply": "2025-05-11T01:42:03.250494Z"
    },
    "papermill": {
     "duration": 0.010776,
     "end_time": "2025-05-11T01:42:03.252245",
     "exception": false,
     "start_time": "2025-05-11T01:42:03.241469",
     "status": "completed"
    },
    "tags": []
   },
   "outputs": [],
   "source": [
    "def train_bidirectional_lstm(n_steps_in, n_steps_out, activation, loss, epochs):\n",
    "    X_list, y_list = list(), list()\n",
    "\n",
    "    for company_id in company_ids:\n",
    "        company_data = df[df['company_id'] == company_id]\n",
    "    \n",
    "        p = array(company_data['P']).reshape((len(company_data), 1))\n",
    "        eps = array(company_data['EPS']).reshape((len(company_data), 1))\n",
    "        de = array(company_data['D/E']).reshape((len(company_data), 1))\n",
    "        size = array(company_data['SIZE']).reshape((len(company_data), 1))\n",
    "    \n",
    "        dataset = hstack((p, eps, de, size))\n",
    "    \n",
    "        X, y = split_sequence(dataset, n_steps_in, n_steps_out)\n",
    "\n",
    "        X_list.extend(X)\n",
    "        y_list.extend(y)\n",
    "\n",
    "    X = array(X_list)\n",
    "    y = array(y_list)\n",
    "    \n",
    "    n_features = X.shape[2]\n",
    "\n",
    "    X_train, X_test, y_train, y_test = train_test_split(X, y, test_size=0.3, shuffle=True)\n",
    "\n",
    "    model = Sequential()\n",
    "    model.add(Bidirectional(LSTM(100, activation=activation), input_shape=(n_steps_in, n_features)))\n",
    "    model.add(Dense(n_steps_out))\n",
    "    model.compile(optimizer='adam', loss=loss)\n",
    "\n",
    "    model.fit(X_train, y_train, epochs=epochs, verbose=0)\n",
    "\n",
    "    loss = model.evaluate(X_test, y_test, verbose=0)\n",
    "    \n",
    "    return loss"
   ]
  },
  {
   "cell_type": "code",
   "execution_count": 8,
   "id": "c57a2330",
   "metadata": {
    "execution": {
     "iopub.execute_input": "2025-05-11T01:42:03.258501Z",
     "iopub.status.busy": "2025-05-11T01:42:03.258271Z",
     "iopub.status.idle": "2025-05-11T01:42:03.261857Z",
     "shell.execute_reply": "2025-05-11T01:42:03.261125Z"
    },
    "papermill": {
     "duration": 0.008699,
     "end_time": "2025-05-11T01:42:03.263082",
     "exception": false,
     "start_time": "2025-05-11T01:42:03.254383",
     "status": "completed"
    },
    "tags": []
   },
   "outputs": [],
   "source": [
    "activations = ['gelu', 'relu', 'linear']\n",
    "losses = ['mse', 'mape']"
   ]
  },
  {
   "cell_type": "code",
   "execution_count": 9,
   "id": "7dc80a8c",
   "metadata": {
    "execution": {
     "iopub.execute_input": "2025-05-11T01:42:03.268189Z",
     "iopub.status.busy": "2025-05-11T01:42:03.267932Z",
     "iopub.status.idle": "2025-05-11T04:47:49.638819Z",
     "shell.execute_reply": "2025-05-11T04:47:49.638170Z"
    },
    "papermill": {
     "duration": 11146.375139,
     "end_time": "2025-05-11T04:47:49.640428",
     "exception": false,
     "start_time": "2025-05-11T01:42:03.265289",
     "status": "completed"
    },
    "tags": []
   },
   "outputs": [
    {
     "name": "stdout",
     "output_type": "stream",
     "text": [
      "Running: a=1, b=1, activation=gelu, loss=mse\n"
     ]
    },
    {
     "name": "stderr",
     "output_type": "stream",
     "text": [
      "2025-05-11 01:42:03.484324: E external/local_xla/xla/stream_executor/cuda/cuda_driver.cc:152] failed call to cuInit: INTERNAL: CUDA error: Failed call to cuInit: UNKNOWN ERROR (303)\n",
      "/usr/local/lib/python3.11/dist-packages/keras/src/layers/rnn/bidirectional.py:107: UserWarning: Do not pass an `input_shape`/`input_dim` argument to a layer. When using Sequential models, prefer using an `Input(shape)` object as the first layer in the model instead.\n",
      "  super().__init__(**kwargs)\n"
     ]
    },
    {
     "name": "stdout",
     "output_type": "stream",
     "text": [
      "Running: a=1, b=1, activation=gelu, loss=mape\n",
      "Running: a=1, b=1, activation=relu, loss=mse\n",
      "Running: a=1, b=1, activation=relu, loss=mape\n",
      "Running: a=1, b=1, activation=linear, loss=mse\n",
      "Running: a=1, b=1, activation=linear, loss=mape\n",
      "Running: a=1, b=2, activation=gelu, loss=mse\n",
      "Running: a=1, b=2, activation=gelu, loss=mape\n",
      "Running: a=1, b=2, activation=relu, loss=mse\n",
      "Running: a=1, b=2, activation=relu, loss=mape\n",
      "Running: a=1, b=2, activation=linear, loss=mse\n",
      "Running: a=1, b=2, activation=linear, loss=mape\n",
      "Running: a=1, b=3, activation=gelu, loss=mse\n",
      "Running: a=1, b=3, activation=gelu, loss=mape\n",
      "Running: a=1, b=3, activation=relu, loss=mse\n",
      "Running: a=1, b=3, activation=relu, loss=mape\n",
      "Running: a=1, b=3, activation=linear, loss=mse\n",
      "Running: a=1, b=3, activation=linear, loss=mape\n",
      "Running: a=1, b=4, activation=gelu, loss=mse\n",
      "Running: a=1, b=4, activation=gelu, loss=mape\n",
      "Running: a=1, b=4, activation=relu, loss=mse\n",
      "Running: a=1, b=4, activation=relu, loss=mape\n",
      "Running: a=1, b=4, activation=linear, loss=mse\n",
      "Running: a=1, b=4, activation=linear, loss=mape\n",
      "Running: a=1, b=5, activation=gelu, loss=mse\n",
      "Running: a=1, b=5, activation=gelu, loss=mape\n",
      "Running: a=1, b=5, activation=relu, loss=mse\n",
      "Running: a=1, b=5, activation=relu, loss=mape\n",
      "Running: a=1, b=5, activation=linear, loss=mse\n",
      "Running: a=1, b=5, activation=linear, loss=mape\n",
      "Running: a=2, b=1, activation=gelu, loss=mse\n",
      "Running: a=2, b=1, activation=gelu, loss=mape\n",
      "Running: a=2, b=1, activation=relu, loss=mse\n",
      "Running: a=2, b=1, activation=relu, loss=mape\n",
      "Running: a=2, b=1, activation=linear, loss=mse\n",
      "Running: a=2, b=1, activation=linear, loss=mape\n",
      "Running: a=2, b=2, activation=gelu, loss=mse\n",
      "Running: a=2, b=2, activation=gelu, loss=mape\n",
      "Running: a=2, b=2, activation=relu, loss=mse\n",
      "Running: a=2, b=2, activation=relu, loss=mape\n",
      "Running: a=2, b=2, activation=linear, loss=mse\n",
      "Running: a=2, b=2, activation=linear, loss=mape\n",
      "Running: a=2, b=3, activation=gelu, loss=mse\n",
      "Running: a=2, b=3, activation=gelu, loss=mape\n",
      "Running: a=2, b=3, activation=relu, loss=mse\n",
      "Running: a=2, b=3, activation=relu, loss=mape\n",
      "Running: a=2, b=3, activation=linear, loss=mse\n",
      "Running: a=2, b=3, activation=linear, loss=mape\n",
      "Running: a=2, b=4, activation=gelu, loss=mse\n",
      "Running: a=2, b=4, activation=gelu, loss=mape\n",
      "Running: a=2, b=4, activation=relu, loss=mse\n",
      "Running: a=2, b=4, activation=relu, loss=mape\n",
      "Running: a=2, b=4, activation=linear, loss=mse\n",
      "Running: a=2, b=4, activation=linear, loss=mape\n",
      "Running: a=2, b=5, activation=gelu, loss=mse\n",
      "Running: a=2, b=5, activation=gelu, loss=mape\n",
      "Running: a=2, b=5, activation=relu, loss=mse\n",
      "Running: a=2, b=5, activation=relu, loss=mape\n",
      "Running: a=2, b=5, activation=linear, loss=mse\n",
      "Running: a=2, b=5, activation=linear, loss=mape\n",
      "Running: a=3, b=1, activation=gelu, loss=mse\n",
      "Running: a=3, b=1, activation=gelu, loss=mape\n",
      "Running: a=3, b=1, activation=relu, loss=mse\n",
      "Running: a=3, b=1, activation=relu, loss=mape\n",
      "Running: a=3, b=1, activation=linear, loss=mse\n",
      "Running: a=3, b=1, activation=linear, loss=mape\n",
      "Running: a=3, b=2, activation=gelu, loss=mse\n",
      "Running: a=3, b=2, activation=gelu, loss=mape\n",
      "Running: a=3, b=2, activation=relu, loss=mse\n",
      "Running: a=3, b=2, activation=relu, loss=mape\n",
      "Running: a=3, b=2, activation=linear, loss=mse\n",
      "Running: a=3, b=2, activation=linear, loss=mape\n",
      "Running: a=3, b=3, activation=gelu, loss=mse\n",
      "Running: a=3, b=3, activation=gelu, loss=mape\n",
      "Running: a=3, b=3, activation=relu, loss=mse\n",
      "Running: a=3, b=3, activation=relu, loss=mape\n",
      "Running: a=3, b=3, activation=linear, loss=mse\n",
      "Running: a=3, b=3, activation=linear, loss=mape\n",
      "Running: a=3, b=4, activation=gelu, loss=mse\n",
      "Running: a=3, b=4, activation=gelu, loss=mape\n",
      "Running: a=3, b=4, activation=relu, loss=mse\n",
      "Running: a=3, b=4, activation=relu, loss=mape\n",
      "Running: a=3, b=4, activation=linear, loss=mse\n",
      "Running: a=3, b=4, activation=linear, loss=mape\n",
      "Running: a=3, b=5, activation=gelu, loss=mse\n",
      "Running: a=3, b=5, activation=gelu, loss=mape\n",
      "Running: a=3, b=5, activation=relu, loss=mse\n",
      "Running: a=3, b=5, activation=relu, loss=mape\n",
      "Running: a=3, b=5, activation=linear, loss=mse\n",
      "Running: a=3, b=5, activation=linear, loss=mape\n",
      "Running: a=4, b=1, activation=gelu, loss=mse\n",
      "Running: a=4, b=1, activation=gelu, loss=mape\n",
      "Running: a=4, b=1, activation=relu, loss=mse\n",
      "Running: a=4, b=1, activation=relu, loss=mape\n",
      "Running: a=4, b=1, activation=linear, loss=mse\n",
      "Running: a=4, b=1, activation=linear, loss=mape\n",
      "Running: a=4, b=2, activation=gelu, loss=mse\n",
      "Running: a=4, b=2, activation=gelu, loss=mape\n",
      "Running: a=4, b=2, activation=relu, loss=mse\n",
      "Running: a=4, b=2, activation=relu, loss=mape\n",
      "Running: a=4, b=2, activation=linear, loss=mse\n",
      "Running: a=4, b=2, activation=linear, loss=mape\n",
      "Running: a=4, b=3, activation=gelu, loss=mse\n",
      "Running: a=4, b=3, activation=gelu, loss=mape\n",
      "Running: a=4, b=3, activation=relu, loss=mse\n",
      "Running: a=4, b=3, activation=relu, loss=mape\n",
      "Running: a=4, b=3, activation=linear, loss=mse\n",
      "Running: a=4, b=3, activation=linear, loss=mape\n",
      "Running: a=4, b=4, activation=gelu, loss=mse\n",
      "Running: a=4, b=4, activation=gelu, loss=mape\n",
      "Running: a=4, b=4, activation=relu, loss=mse\n",
      "Running: a=4, b=4, activation=relu, loss=mape\n",
      "Running: a=4, b=4, activation=linear, loss=mse\n",
      "Running: a=4, b=4, activation=linear, loss=mape\n",
      "Running: a=4, b=5, activation=gelu, loss=mse\n",
      "Running: a=4, b=5, activation=gelu, loss=mape\n",
      "Running: a=4, b=5, activation=relu, loss=mse\n",
      "Running: a=4, b=5, activation=relu, loss=mape\n",
      "Running: a=4, b=5, activation=linear, loss=mse\n",
      "Running: a=4, b=5, activation=linear, loss=mape\n",
      "Running: a=5, b=1, activation=gelu, loss=mse\n",
      "Running: a=5, b=1, activation=gelu, loss=mape\n",
      "Running: a=5, b=1, activation=relu, loss=mse\n",
      "Running: a=5, b=1, activation=relu, loss=mape\n",
      "Running: a=5, b=1, activation=linear, loss=mse\n",
      "Running: a=5, b=1, activation=linear, loss=mape\n",
      "Running: a=5, b=2, activation=gelu, loss=mse\n",
      "Running: a=5, b=2, activation=gelu, loss=mape\n",
      "Running: a=5, b=2, activation=relu, loss=mse\n",
      "Running: a=5, b=2, activation=relu, loss=mape\n",
      "Running: a=5, b=2, activation=linear, loss=mse\n",
      "Running: a=5, b=2, activation=linear, loss=mape\n",
      "Running: a=5, b=3, activation=gelu, loss=mse\n",
      "Running: a=5, b=3, activation=gelu, loss=mape\n",
      "Running: a=5, b=3, activation=relu, loss=mse\n",
      "Running: a=5, b=3, activation=relu, loss=mape\n",
      "Running: a=5, b=3, activation=linear, loss=mse\n",
      "Running: a=5, b=3, activation=linear, loss=mape\n",
      "Running: a=5, b=4, activation=gelu, loss=mse\n",
      "Running: a=5, b=4, activation=gelu, loss=mape\n",
      "Running: a=5, b=4, activation=relu, loss=mse\n",
      "Running: a=5, b=4, activation=relu, loss=mape\n",
      "Running: a=5, b=4, activation=linear, loss=mse\n",
      "Running: a=5, b=4, activation=linear, loss=mape\n",
      "Running: a=5, b=5, activation=gelu, loss=mse\n",
      "Running: a=5, b=5, activation=gelu, loss=mape\n",
      "Running: a=5, b=5, activation=relu, loss=mse\n",
      "Running: a=5, b=5, activation=relu, loss=mape\n",
      "Running: a=5, b=5, activation=linear, loss=mse\n",
      "Running: a=5, b=5, activation=linear, loss=mape\n"
     ]
    }
   ],
   "source": [
    "with open('results_bidirectional_lstm.csv', mode='w', newline='') as file:\n",
    "    writer = csv.writer(file)\n",
    "    writer.writerow(['a', 'b', 'activation', 'loss_function', 'final_loss'])  # Header\n",
    "\n",
    "    for a in range(1, 6):\n",
    "        for b in range(1, 6):\n",
    "            for act in activations:\n",
    "                for loss_fn in losses:\n",
    "                    print(f\"Running: a={a}, b={b}, activation={act}, loss={loss_fn}\")\n",
    "                    final_loss = train_bidirectional_lstm(a, b, act, loss_fn, 200)\n",
    "                    writer.writerow([a, b, act, loss_fn, final_loss])"
   ]
  }
 ],
 "metadata": {
  "kaggle": {
   "accelerator": "none",
   "dataSources": [
    {
     "datasetId": 7384928,
     "sourceId": 11763318,
     "sourceType": "datasetVersion"
    }
   ],
   "dockerImageVersionId": 31012,
   "isGpuEnabled": false,
   "isInternetEnabled": false,
   "language": "python",
   "sourceType": "notebook"
  },
  "kernelspec": {
   "display_name": "Python 3",
   "language": "python",
   "name": "python3"
  },
  "language_info": {
   "codemirror_mode": {
    "name": "ipython",
    "version": 3
   },
   "file_extension": ".py",
   "mimetype": "text/x-python",
   "name": "python",
   "nbconvert_exporter": "python",
   "pygments_lexer": "ipython3",
   "version": "3.11.11"
  },
  "papermill": {
   "default_parameters": {},
   "duration": 11170.558349,
   "end_time": "2025-05-11T04:47:52.680797",
   "environment_variables": {},
   "exception": null,
   "input_path": "__notebook__.ipynb",
   "output_path": "__notebook__.ipynb",
   "parameters": {},
   "start_time": "2025-05-11T01:41:42.122448",
   "version": "2.6.0"
  }
 },
 "nbformat": 4,
 "nbformat_minor": 5
}
