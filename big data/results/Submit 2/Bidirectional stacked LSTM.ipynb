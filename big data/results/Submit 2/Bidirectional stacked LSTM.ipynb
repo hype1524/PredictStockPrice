{
 "cells": [
  {
   "cell_type": "code",
   "execution_count": 1,
   "id": "76382b5e",
   "metadata": {
    "_cell_guid": "b1076dfc-b9ad-4769-8c92-a6c4dae69d19",
    "_uuid": "8f2839f25d086af736a60e9eeb907d3b93b6e0e5",
    "execution": {
     "iopub.execute_input": "2025-05-11T01:38:33.324951Z",
     "iopub.status.busy": "2025-05-11T01:38:33.324590Z",
     "iopub.status.idle": "2025-05-11T01:38:35.040504Z",
     "shell.execute_reply": "2025-05-11T01:38:35.039447Z"
    },
    "papermill": {
     "duration": 1.720938,
     "end_time": "2025-05-11T01:38:35.041898",
     "exception": false,
     "start_time": "2025-05-11T01:38:33.320960",
     "status": "completed"
    },
    "tags": []
   },
   "outputs": [
    {
     "name": "stdout",
     "output_type": "stream",
     "text": [
      "/kaggle/input/mydataset/data_train.csv\n"
     ]
    }
   ],
   "source": [
    "# This Python 3 environment comes with many helpful analytics libraries installed\n",
    "# It is defined by the kaggle/python Docker image: https://github.com/kaggle/docker-python\n",
    "# For example, here's several helpful packages to load\n",
    "\n",
    "import numpy as np # linear algebra\n",
    "import pandas as pd # data processing, CSV file I/O (e.g. pd.read_csv)\n",
    "\n",
    "# Input data files are available in the read-only \"../input/\" directory\n",
    "# For example, running this (by clicking run or pressing Shift+Enter) will list all files under the input directory\n",
    "\n",
    "import os\n",
    "for dirname, _, filenames in os.walk('/kaggle/input'):\n",
    "    for filename in filenames:\n",
    "        print(os.path.join(dirname, filename))\n",
    "\n",
    "# You can write up to 20GB to the current directory (/kaggle/working/) that gets preserved as output when you create a version using \"Save & Run All\" \n",
    "# You can also write temporary files to /kaggle/temp/, but they won't be saved outside of the current session"
   ]
  },
  {
   "cell_type": "code",
   "execution_count": 2,
   "id": "d4225287",
   "metadata": {
    "execution": {
     "iopub.execute_input": "2025-05-11T01:38:35.047894Z",
     "iopub.status.busy": "2025-05-11T01:38:35.047034Z",
     "iopub.status.idle": "2025-05-11T01:38:50.592128Z",
     "shell.execute_reply": "2025-05-11T01:38:50.591169Z"
    },
    "papermill": {
     "duration": 15.549431,
     "end_time": "2025-05-11T01:38:50.593779",
     "exception": false,
     "start_time": "2025-05-11T01:38:35.044348",
     "status": "completed"
    },
    "tags": []
   },
   "outputs": [
    {
     "name": "stderr",
     "output_type": "stream",
     "text": [
      "2025-05-11 01:38:36.742918: E external/local_xla/xla/stream_executor/cuda/cuda_fft.cc:477] Unable to register cuFFT factory: Attempting to register factory for plugin cuFFT when one has already been registered\n",
      "WARNING: All log messages before absl::InitializeLog() is called are written to STDERR\n",
      "E0000 00:00:1746927516.967436      13 cuda_dnn.cc:8310] Unable to register cuDNN factory: Attempting to register factory for plugin cuDNN when one has already been registered\n",
      "E0000 00:00:1746927517.037237      13 cuda_blas.cc:1418] Unable to register cuBLAS factory: Attempting to register factory for plugin cuBLAS when one has already been registered\n"
     ]
    }
   ],
   "source": [
    "from numpy import array\n",
    "from numpy import hstack\n",
    "from keras.models import Sequential\n",
    "from keras.layers import LSTM, Dense, Flatten, Bidirectional, TimeDistributed, Conv1D, MaxPooling1D, RepeatVector\n",
    "from sklearn.model_selection import train_test_split\n",
    "from sklearn.metrics import r2_score\n",
    "import math\n",
    "from sklearn.preprocessing import StandardScaler\n",
    "import csv"
   ]
  },
  {
   "cell_type": "code",
   "execution_count": 3,
   "id": "714215a6",
   "metadata": {
    "execution": {
     "iopub.execute_input": "2025-05-11T01:38:50.599848Z",
     "iopub.status.busy": "2025-05-11T01:38:50.598996Z",
     "iopub.status.idle": "2025-05-11T01:38:50.643085Z",
     "shell.execute_reply": "2025-05-11T01:38:50.642199Z"
    },
    "papermill": {
     "duration": 0.048367,
     "end_time": "2025-05-11T01:38:50.644516",
     "exception": false,
     "start_time": "2025-05-11T01:38:50.596149",
     "status": "completed"
    },
    "tags": []
   },
   "outputs": [],
   "source": [
    "df = pd.read_csv('/kaggle/input/mydataset/data_train.csv')\n",
    "\n",
    "df = df.sort_values(by=['company_id', 'quarter'])"
   ]
  },
  {
   "cell_type": "code",
   "execution_count": 4,
   "id": "1d51a672",
   "metadata": {
    "execution": {
     "iopub.execute_input": "2025-05-11T01:38:50.650038Z",
     "iopub.status.busy": "2025-05-11T01:38:50.649772Z",
     "iopub.status.idle": "2025-05-11T01:38:50.723176Z",
     "shell.execute_reply": "2025-05-11T01:38:50.722010Z"
    },
    "papermill": {
     "duration": 0.077866,
     "end_time": "2025-05-11T01:38:50.724750",
     "exception": false,
     "start_time": "2025-05-11T01:38:50.646884",
     "status": "completed"
    },
    "tags": []
   },
   "outputs": [],
   "source": [
    "scaler = StandardScaler()\n",
    "\n",
    "X = df[['P', 'EPS', 'D/E', 'SIZE']]\n",
    "\n",
    "X_scaled = scaler.fit_transform(X)\n",
    "\n",
    "df_scaled = pd.DataFrame(X_scaled, columns=['P', 'EPS', 'D/E', 'SIZE'])\n",
    "\n",
    "df_scaled['quarter'] = df['quarter'].values\n",
    "df_scaled['company_id'] = df['company_id'].values\n",
    "\n",
    "df_scaled.to_csv('data_scaled.csv', index=False)"
   ]
  },
  {
   "cell_type": "code",
   "execution_count": 5,
   "id": "3e9b508d",
   "metadata": {
    "execution": {
     "iopub.execute_input": "2025-05-11T01:38:50.730438Z",
     "iopub.status.busy": "2025-05-11T01:38:50.730169Z",
     "iopub.status.idle": "2025-05-11T01:38:50.734993Z",
     "shell.execute_reply": "2025-05-11T01:38:50.734338Z"
    },
    "papermill": {
     "duration": 0.009001,
     "end_time": "2025-05-11T01:38:50.736255",
     "exception": false,
     "start_time": "2025-05-11T01:38:50.727254",
     "status": "completed"
    },
    "tags": []
   },
   "outputs": [],
   "source": [
    "def split_sequence(sequence, n_steps_in, n_steps_out):\n",
    "    X, y = list(), list()\n",
    "    for i in range(len(sequence)):\n",
    "\n",
    "        end_ix = i + n_steps_in\n",
    "        out_end_ix = end_ix + n_steps_out\n",
    "\n",
    "        if out_end_ix > len(sequence):\n",
    "            break\n",
    "\n",
    "        seq_x, seq_y = sequence[i:end_ix], sequence[end_ix:out_end_ix][:, 0]\n",
    "        X.append(seq_x)\n",
    "        y.append(seq_y)\n",
    "    return array(X), array(y)\n"
   ]
  },
  {
   "cell_type": "code",
   "execution_count": 6,
   "id": "8ec9fa89",
   "metadata": {
    "execution": {
     "iopub.execute_input": "2025-05-11T01:38:50.741469Z",
     "iopub.status.busy": "2025-05-11T01:38:50.741225Z",
     "iopub.status.idle": "2025-05-11T01:38:50.759508Z",
     "shell.execute_reply": "2025-05-11T01:38:50.758669Z"
    },
    "papermill": {
     "duration": 0.022651,
     "end_time": "2025-05-11T01:38:50.761121",
     "exception": false,
     "start_time": "2025-05-11T01:38:50.738470",
     "status": "completed"
    },
    "tags": []
   },
   "outputs": [],
   "source": [
    "df = pd.read_csv('/kaggle/working/data_scaled.csv')\n",
    "\n",
    "df = df.sort_values(by=['company_id', 'quarter'])\n",
    "\n",
    "company_ids = df['company_id'].unique()"
   ]
  },
  {
   "cell_type": "code",
   "execution_count": 7,
   "id": "fe73e267",
   "metadata": {
    "execution": {
     "iopub.execute_input": "2025-05-11T01:38:50.766912Z",
     "iopub.status.busy": "2025-05-11T01:38:50.766397Z",
     "iopub.status.idle": "2025-05-11T01:38:50.775260Z",
     "shell.execute_reply": "2025-05-11T01:38:50.774503Z"
    },
    "papermill": {
     "duration": 0.013017,
     "end_time": "2025-05-11T01:38:50.776487",
     "exception": false,
     "start_time": "2025-05-11T01:38:50.763470",
     "status": "completed"
    },
    "tags": []
   },
   "outputs": [],
   "source": [
    "def train_bidirectional_stacked_lstm(n_steps_in, n_steps_out, activation, loss, epochs):\n",
    "    X_list, y_list = list(), list()\n",
    "\n",
    "    for company_id in company_ids:\n",
    "        company_data = df[df['company_id'] == company_id]\n",
    "    \n",
    "        p = array(company_data['P']).reshape((len(company_data), 1))\n",
    "        eps = array(company_data['EPS']).reshape((len(company_data), 1))\n",
    "        de = array(company_data['D/E']).reshape((len(company_data), 1))\n",
    "        size = array(company_data['SIZE']).reshape((len(company_data), 1))\n",
    "    \n",
    "        dataset = hstack((p, eps, de, size))\n",
    "    \n",
    "        X, y = split_sequence(dataset, n_steps_in, n_steps_out)\n",
    "\n",
    "        X_list.extend(X)\n",
    "        y_list.extend(y)\n",
    "\n",
    "    X = array(X_list)\n",
    "    y = array(y_list)\n",
    "    \n",
    "    n_features = X.shape[2]\n",
    "\n",
    "    X_train, X_test, y_train, y_test = train_test_split(X, y, test_size=0.3, shuffle=True)\n",
    "\n",
    "    model = Sequential()\n",
    "    model.add(LSTM(100, activation=activation, return_sequences=True, input_shape=(n_steps_in, n_features)))\n",
    "    model.add(Bidirectional(LSTM(100, activation=activation)))\n",
    "    model.add(Dense(n_steps_out))\n",
    "    model.compile(optimizer='adam', loss=loss)\n",
    "\n",
    "    model.fit(X_train, y_train, epochs=epochs, verbose=0)\n",
    "\n",
    "    loss = model.evaluate(X_test, y_test, verbose=0)\n",
    "    \n",
    "    return loss"
   ]
  },
  {
   "cell_type": "code",
   "execution_count": 8,
   "id": "30050ec4",
   "metadata": {
    "execution": {
     "iopub.execute_input": "2025-05-11T01:38:50.783337Z",
     "iopub.status.busy": "2025-05-11T01:38:50.782609Z",
     "iopub.status.idle": "2025-05-11T01:38:50.786511Z",
     "shell.execute_reply": "2025-05-11T01:38:50.785760Z"
    },
    "papermill": {
     "duration": 0.009091,
     "end_time": "2025-05-11T01:38:50.787770",
     "exception": false,
     "start_time": "2025-05-11T01:38:50.778679",
     "status": "completed"
    },
    "tags": []
   },
   "outputs": [],
   "source": [
    "activations = ['gelu', 'relu', 'linear']\n",
    "losses = ['mse', 'mape']"
   ]
  },
  {
   "cell_type": "code",
   "execution_count": 9,
   "id": "ed117cc5",
   "metadata": {
    "execution": {
     "iopub.execute_input": "2025-05-11T01:38:50.793069Z",
     "iopub.status.busy": "2025-05-11T01:38:50.792626Z",
     "iopub.status.idle": "2025-05-11T07:22:08.657940Z",
     "shell.execute_reply": "2025-05-11T07:22:08.656997Z"
    },
    "papermill": {
     "duration": 20597.870223,
     "end_time": "2025-05-11T07:22:08.660175",
     "exception": false,
     "start_time": "2025-05-11T01:38:50.789952",
     "status": "completed"
    },
    "tags": []
   },
   "outputs": [
    {
     "name": "stdout",
     "output_type": "stream",
     "text": [
      "Running: a=1, b=1, activation=gelu, loss=mse\n"
     ]
    },
    {
     "name": "stderr",
     "output_type": "stream",
     "text": [
      "2025-05-11 01:38:50.997479: E external/local_xla/xla/stream_executor/cuda/cuda_driver.cc:152] failed call to cuInit: INTERNAL: CUDA error: Failed call to cuInit: UNKNOWN ERROR (303)\n",
      "/usr/local/lib/python3.11/dist-packages/keras/src/layers/rnn/rnn.py:204: UserWarning: Do not pass an `input_shape`/`input_dim` argument to a layer. When using Sequential models, prefer using an `Input(shape)` object as the first layer in the model instead.\n",
      "  super().__init__(**kwargs)\n"
     ]
    },
    {
     "name": "stdout",
     "output_type": "stream",
     "text": [
      "Running: a=1, b=1, activation=gelu, loss=mape\n",
      "Running: a=1, b=1, activation=relu, loss=mse\n",
      "Running: a=1, b=1, activation=relu, loss=mape\n",
      "Running: a=1, b=1, activation=linear, loss=mse\n",
      "Running: a=1, b=1, activation=linear, loss=mape\n",
      "Running: a=1, b=2, activation=gelu, loss=mse\n",
      "Running: a=1, b=2, activation=gelu, loss=mape\n",
      "Running: a=1, b=2, activation=relu, loss=mse\n",
      "Running: a=1, b=2, activation=relu, loss=mape\n",
      "Running: a=1, b=2, activation=linear, loss=mse\n",
      "Running: a=1, b=2, activation=linear, loss=mape\n",
      "Running: a=1, b=3, activation=gelu, loss=mse\n",
      "Running: a=1, b=3, activation=gelu, loss=mape\n",
      "Running: a=1, b=3, activation=relu, loss=mse\n",
      "Running: a=1, b=3, activation=relu, loss=mape\n",
      "Running: a=1, b=3, activation=linear, loss=mse\n",
      "Running: a=1, b=3, activation=linear, loss=mape\n",
      "Running: a=1, b=4, activation=gelu, loss=mse\n",
      "Running: a=1, b=4, activation=gelu, loss=mape\n",
      "Running: a=1, b=4, activation=relu, loss=mse\n",
      "Running: a=1, b=4, activation=relu, loss=mape\n",
      "Running: a=1, b=4, activation=linear, loss=mse\n",
      "Running: a=1, b=4, activation=linear, loss=mape\n",
      "Running: a=1, b=5, activation=gelu, loss=mse\n",
      "Running: a=1, b=5, activation=gelu, loss=mape\n",
      "Running: a=1, b=5, activation=relu, loss=mse\n",
      "Running: a=1, b=5, activation=relu, loss=mape\n",
      "Running: a=1, b=5, activation=linear, loss=mse\n",
      "Running: a=1, b=5, activation=linear, loss=mape\n",
      "Running: a=2, b=1, activation=gelu, loss=mse\n",
      "Running: a=2, b=1, activation=gelu, loss=mape\n",
      "Running: a=2, b=1, activation=relu, loss=mse\n",
      "Running: a=2, b=1, activation=relu, loss=mape\n",
      "Running: a=2, b=1, activation=linear, loss=mse\n",
      "Running: a=2, b=1, activation=linear, loss=mape\n",
      "Running: a=2, b=2, activation=gelu, loss=mse\n",
      "Running: a=2, b=2, activation=gelu, loss=mape\n",
      "Running: a=2, b=2, activation=relu, loss=mse\n",
      "Running: a=2, b=2, activation=relu, loss=mape\n",
      "Running: a=2, b=2, activation=linear, loss=mse\n",
      "Running: a=2, b=2, activation=linear, loss=mape\n",
      "Running: a=2, b=3, activation=gelu, loss=mse\n",
      "Running: a=2, b=3, activation=gelu, loss=mape\n",
      "Running: a=2, b=3, activation=relu, loss=mse\n",
      "Running: a=2, b=3, activation=relu, loss=mape\n",
      "Running: a=2, b=3, activation=linear, loss=mse\n",
      "Running: a=2, b=3, activation=linear, loss=mape\n",
      "Running: a=2, b=4, activation=gelu, loss=mse\n",
      "Running: a=2, b=4, activation=gelu, loss=mape\n",
      "Running: a=2, b=4, activation=relu, loss=mse\n",
      "Running: a=2, b=4, activation=relu, loss=mape\n",
      "Running: a=2, b=4, activation=linear, loss=mse\n",
      "Running: a=2, b=4, activation=linear, loss=mape\n",
      "Running: a=2, b=5, activation=gelu, loss=mse\n",
      "Running: a=2, b=5, activation=gelu, loss=mape\n",
      "Running: a=2, b=5, activation=relu, loss=mse\n",
      "Running: a=2, b=5, activation=relu, loss=mape\n",
      "Running: a=2, b=5, activation=linear, loss=mse\n",
      "Running: a=2, b=5, activation=linear, loss=mape\n",
      "Running: a=3, b=1, activation=gelu, loss=mse\n",
      "Running: a=3, b=1, activation=gelu, loss=mape\n",
      "Running: a=3, b=1, activation=relu, loss=mse\n",
      "Running: a=3, b=1, activation=relu, loss=mape\n",
      "Running: a=3, b=1, activation=linear, loss=mse\n",
      "Running: a=3, b=1, activation=linear, loss=mape\n",
      "Running: a=3, b=2, activation=gelu, loss=mse\n",
      "Running: a=3, b=2, activation=gelu, loss=mape\n",
      "Running: a=3, b=2, activation=relu, loss=mse\n",
      "Running: a=3, b=2, activation=relu, loss=mape\n",
      "Running: a=3, b=2, activation=linear, loss=mse\n",
      "Running: a=3, b=2, activation=linear, loss=mape\n",
      "Running: a=3, b=3, activation=gelu, loss=mse\n",
      "Running: a=3, b=3, activation=gelu, loss=mape\n",
      "Running: a=3, b=3, activation=relu, loss=mse\n",
      "Running: a=3, b=3, activation=relu, loss=mape\n",
      "Running: a=3, b=3, activation=linear, loss=mse\n",
      "Running: a=3, b=3, activation=linear, loss=mape\n",
      "Running: a=3, b=4, activation=gelu, loss=mse\n",
      "Running: a=3, b=4, activation=gelu, loss=mape\n",
      "Running: a=3, b=4, activation=relu, loss=mse\n",
      "Running: a=3, b=4, activation=relu, loss=mape\n",
      "Running: a=3, b=4, activation=linear, loss=mse\n",
      "Running: a=3, b=4, activation=linear, loss=mape\n",
      "Running: a=3, b=5, activation=gelu, loss=mse\n",
      "Running: a=3, b=5, activation=gelu, loss=mape\n",
      "Running: a=3, b=5, activation=relu, loss=mse\n",
      "Running: a=3, b=5, activation=relu, loss=mape\n",
      "Running: a=3, b=5, activation=linear, loss=mse\n",
      "Running: a=3, b=5, activation=linear, loss=mape\n",
      "Running: a=4, b=1, activation=gelu, loss=mse\n",
      "Running: a=4, b=1, activation=gelu, loss=mape\n",
      "Running: a=4, b=1, activation=relu, loss=mse\n",
      "Running: a=4, b=1, activation=relu, loss=mape\n",
      "Running: a=4, b=1, activation=linear, loss=mse\n",
      "Running: a=4, b=1, activation=linear, loss=mape\n",
      "Running: a=4, b=2, activation=gelu, loss=mse\n",
      "Running: a=4, b=2, activation=gelu, loss=mape\n",
      "Running: a=4, b=2, activation=relu, loss=mse\n",
      "Running: a=4, b=2, activation=relu, loss=mape\n",
      "Running: a=4, b=2, activation=linear, loss=mse\n",
      "Running: a=4, b=2, activation=linear, loss=mape\n",
      "Running: a=4, b=3, activation=gelu, loss=mse\n",
      "Running: a=4, b=3, activation=gelu, loss=mape\n",
      "Running: a=4, b=3, activation=relu, loss=mse\n",
      "Running: a=4, b=3, activation=relu, loss=mape\n",
      "Running: a=4, b=3, activation=linear, loss=mse\n",
      "Running: a=4, b=3, activation=linear, loss=mape\n",
      "Running: a=4, b=4, activation=gelu, loss=mse\n",
      "Running: a=4, b=4, activation=gelu, loss=mape\n",
      "Running: a=4, b=4, activation=relu, loss=mse\n",
      "Running: a=4, b=4, activation=relu, loss=mape\n",
      "Running: a=4, b=4, activation=linear, loss=mse\n",
      "Running: a=4, b=4, activation=linear, loss=mape\n",
      "Running: a=4, b=5, activation=gelu, loss=mse\n",
      "Running: a=4, b=5, activation=gelu, loss=mape\n",
      "Running: a=4, b=5, activation=relu, loss=mse\n",
      "Running: a=4, b=5, activation=relu, loss=mape\n",
      "Running: a=4, b=5, activation=linear, loss=mse\n",
      "Running: a=4, b=5, activation=linear, loss=mape\n",
      "Running: a=5, b=1, activation=gelu, loss=mse\n",
      "Running: a=5, b=1, activation=gelu, loss=mape\n",
      "Running: a=5, b=1, activation=relu, loss=mse\n",
      "Running: a=5, b=1, activation=relu, loss=mape\n",
      "Running: a=5, b=1, activation=linear, loss=mse\n",
      "Running: a=5, b=1, activation=linear, loss=mape\n",
      "Running: a=5, b=2, activation=gelu, loss=mse\n",
      "Running: a=5, b=2, activation=gelu, loss=mape\n",
      "Running: a=5, b=2, activation=relu, loss=mse\n",
      "Running: a=5, b=2, activation=relu, loss=mape\n",
      "Running: a=5, b=2, activation=linear, loss=mse\n",
      "Running: a=5, b=2, activation=linear, loss=mape\n",
      "Running: a=5, b=3, activation=gelu, loss=mse\n",
      "Running: a=5, b=3, activation=gelu, loss=mape\n",
      "Running: a=5, b=3, activation=relu, loss=mse\n",
      "Running: a=5, b=3, activation=relu, loss=mape\n",
      "Running: a=5, b=3, activation=linear, loss=mse\n",
      "Running: a=5, b=3, activation=linear, loss=mape\n",
      "Running: a=5, b=4, activation=gelu, loss=mse\n",
      "Running: a=5, b=4, activation=gelu, loss=mape\n",
      "Running: a=5, b=4, activation=relu, loss=mse\n",
      "Running: a=5, b=4, activation=relu, loss=mape\n",
      "Running: a=5, b=4, activation=linear, loss=mse\n",
      "Running: a=5, b=4, activation=linear, loss=mape\n",
      "Running: a=5, b=5, activation=gelu, loss=mse\n",
      "Running: a=5, b=5, activation=gelu, loss=mape\n",
      "Running: a=5, b=5, activation=relu, loss=mse\n",
      "Running: a=5, b=5, activation=relu, loss=mape\n",
      "Running: a=5, b=5, activation=linear, loss=mse\n",
      "Running: a=5, b=5, activation=linear, loss=mape\n"
     ]
    }
   ],
   "source": [
    "with open('results_bidirectional_stacked_lstm.csv', mode='w', newline='') as file:\n",
    "    writer = csv.writer(file)\n",
    "    writer.writerow(['a', 'b', 'activation', 'loss_function', 'final_loss'])  # Header\n",
    "\n",
    "    for a in range(1, 6):\n",
    "        for b in range(1, 6):\n",
    "                for act in activations:\n",
    "                    for loss_fn in losses:\n",
    "                        print(f\"Running: a={a}, b={b}, activation={act}, loss={loss_fn}\")\n",
    "                        final_loss = train_bidirectional_stacked_lstm(a, b, act, loss_fn, 200)\n",
    "                        writer.writerow([a, b, act, loss_fn, final_loss])"
   ]
  }
 ],
 "metadata": {
  "kaggle": {
   "accelerator": "none",
   "dataSources": [
    {
     "datasetId": 7384932,
     "sourceId": 11763326,
     "sourceType": "datasetVersion"
    }
   ],
   "dockerImageVersionId": 31012,
   "isGpuEnabled": false,
   "isInternetEnabled": false,
   "language": "python",
   "sourceType": "notebook"
  },
  "kernelspec": {
   "display_name": "Python 3",
   "language": "python",
   "name": "python3"
  },
  "language_info": {
   "codemirror_mode": {
    "name": "ipython",
    "version": 3
   },
   "file_extension": ".py",
   "mimetype": "text/x-python",
   "name": "python",
   "nbconvert_exporter": "python",
   "pygments_lexer": "ipython3",
   "version": "3.11.11"
  },
  "papermill": {
   "default_parameters": {},
   "duration": 20623.233577,
   "end_time": "2025-05-11T07:22:12.320503",
   "environment_variables": {},
   "exception": null,
   "input_path": "__notebook__.ipynb",
   "output_path": "__notebook__.ipynb",
   "parameters": {},
   "start_time": "2025-05-11T01:38:29.086926",
   "version": "2.6.0"
  }
 },
 "nbformat": 4,
 "nbformat_minor": 5
}
