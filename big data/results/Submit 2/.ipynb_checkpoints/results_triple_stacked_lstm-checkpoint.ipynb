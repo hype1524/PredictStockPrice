{
 "cells": [
  {
   "cell_type": "code",
   "execution_count": 1,
   "id": "57f48501",
   "metadata": {
    "_cell_guid": "b1076dfc-b9ad-4769-8c92-a6c4dae69d19",
    "_uuid": "8f2839f25d086af736a60e9eeb907d3b93b6e0e5",
    "execution": {
     "iopub.execute_input": "2025-05-10T19:44:21.807348Z",
     "iopub.status.busy": "2025-05-10T19:44:21.806945Z",
     "iopub.status.idle": "2025-05-10T19:44:23.790337Z",
     "shell.execute_reply": "2025-05-10T19:44:23.789456Z"
    },
    "papermill": {
     "duration": 1.990399,
     "end_time": "2025-05-10T19:44:23.792126",
     "exception": false,
     "start_time": "2025-05-10T19:44:21.801727",
     "status": "completed"
    },
    "tags": []
   },
   "outputs": [
    {
     "name": "stdout",
     "output_type": "stream",
     "text": [
      "/kaggle/input/mydataset/data_train.csv\n"
     ]
    }
   ],
   "source": [
    "# This Python 3 environment comes with many helpful analytics libraries installed\n",
    "# It is defined by the kaggle/python Docker image: https://github.com/kaggle/docker-python\n",
    "# For example, here's several helpful packages to load\n",
    "\n",
    "import numpy as np # linear algebra\n",
    "import pandas as pd # data processing, CSV file I/O (e.g. pd.read_csv)\n",
    "\n",
    "# Input data files are available in the read-only \"../input/\" directory\n",
    "# For example, running this (by clicking run or pressing Shift+Enter) will list all files under the input directory\n",
    "\n",
    "import os\n",
    "for dirname, _, filenames in os.walk('/kaggle/input'):\n",
    "    for filename in filenames:\n",
    "        print(os.path.join(dirname, filename))\n",
    "\n",
    "# You can write up to 20GB to the current directory (/kaggle/working/) that gets preserved as output when you create a version using \"Save & Run All\" \n",
    "# You can also write temporary files to /kaggle/temp/, but they won't be saved outside of the current session"
   ]
  },
  {
   "cell_type": "code",
   "execution_count": 2,
   "id": "95b33b47",
   "metadata": {
    "execution": {
     "iopub.execute_input": "2025-05-10T19:44:23.799321Z",
     "iopub.status.busy": "2025-05-10T19:44:23.798877Z",
     "iopub.status.idle": "2025-05-10T19:44:43.171054Z",
     "shell.execute_reply": "2025-05-10T19:44:43.169302Z"
    },
    "papermill": {
     "duration": 19.378605,
     "end_time": "2025-05-10T19:44:43.173848",
     "exception": false,
     "start_time": "2025-05-10T19:44:23.795243",
     "status": "completed"
    },
    "tags": []
   },
   "outputs": [
    {
     "name": "stderr",
     "output_type": "stream",
     "text": [
      "2025-05-10 19:44:26.062215: E external/local_xla/xla/stream_executor/cuda/cuda_fft.cc:477] Unable to register cuFFT factory: Attempting to register factory for plugin cuFFT when one has already been registered\n",
      "WARNING: All log messages before absl::InitializeLog() is called are written to STDERR\n",
      "E0000 00:00:1746906266.344941      13 cuda_dnn.cc:8310] Unable to register cuDNN factory: Attempting to register factory for plugin cuDNN when one has already been registered\n",
      "E0000 00:00:1746906266.425612      13 cuda_blas.cc:1418] Unable to register cuBLAS factory: Attempting to register factory for plugin cuBLAS when one has already been registered\n"
     ]
    }
   ],
   "source": [
    "from numpy import array\n",
    "from numpy import hstack\n",
    "from keras.models import Sequential\n",
    "from keras.layers import LSTM, Dense, Flatten, Bidirectional, TimeDistributed, Conv1D, MaxPooling1D, RepeatVector\n",
    "from sklearn.model_selection import train_test_split\n",
    "from sklearn.metrics import r2_score\n",
    "import math\n",
    "from sklearn.preprocessing import StandardScaler\n",
    "import csv"
   ]
  },
  {
   "cell_type": "code",
   "execution_count": 3,
   "id": "e363ddb0",
   "metadata": {
    "execution": {
     "iopub.execute_input": "2025-05-10T19:44:43.182332Z",
     "iopub.status.busy": "2025-05-10T19:44:43.181551Z",
     "iopub.status.idle": "2025-05-10T19:44:43.236650Z",
     "shell.execute_reply": "2025-05-10T19:44:43.235231Z"
    },
    "papermill": {
     "duration": 0.061741,
     "end_time": "2025-05-10T19:44:43.239015",
     "exception": false,
     "start_time": "2025-05-10T19:44:43.177274",
     "status": "completed"
    },
    "tags": []
   },
   "outputs": [],
   "source": [
    "df = pd.read_csv('/kaggle/input/mydataset/data_train.csv')\n",
    "\n",
    "df = df.sort_values(by=['company_id', 'quarter'])"
   ]
  },
  {
   "cell_type": "code",
   "execution_count": 4,
   "id": "7928e281",
   "metadata": {
    "execution": {
     "iopub.execute_input": "2025-05-10T19:44:43.248241Z",
     "iopub.status.busy": "2025-05-10T19:44:43.247804Z",
     "iopub.status.idle": "2025-05-10T19:44:43.336213Z",
     "shell.execute_reply": "2025-05-10T19:44:43.335081Z"
    },
    "papermill": {
     "duration": 0.096034,
     "end_time": "2025-05-10T19:44:43.338230",
     "exception": false,
     "start_time": "2025-05-10T19:44:43.242196",
     "status": "completed"
    },
    "tags": []
   },
   "outputs": [],
   "source": [
    "scaler = StandardScaler()\n",
    "\n",
    "X = df[['P', 'EPS', 'D/E', 'SIZE']]\n",
    "\n",
    "X_scaled = scaler.fit_transform(X)\n",
    "\n",
    "df_scaled = pd.DataFrame(X_scaled, columns=['P', 'EPS', 'D/E', 'SIZE'])\n",
    "\n",
    "df_scaled['quarter'] = df['quarter'].values\n",
    "df_scaled['company_id'] = df['company_id'].values\n",
    "\n",
    "df_scaled.to_csv('data_scaled.csv', index=False)"
   ]
  },
  {
   "cell_type": "code",
   "execution_count": 5,
   "id": "e71abddd",
   "metadata": {
    "execution": {
     "iopub.execute_input": "2025-05-10T19:44:43.345458Z",
     "iopub.status.busy": "2025-05-10T19:44:43.345131Z",
     "iopub.status.idle": "2025-05-10T19:44:43.352371Z",
     "shell.execute_reply": "2025-05-10T19:44:43.351154Z"
    },
    "papermill": {
     "duration": 0.013692,
     "end_time": "2025-05-10T19:44:43.354691",
     "exception": false,
     "start_time": "2025-05-10T19:44:43.340999",
     "status": "completed"
    },
    "tags": []
   },
   "outputs": [],
   "source": [
    "def split_sequence(sequence, n_steps_in, n_steps_out):\n",
    "    X, y = list(), list()\n",
    "    for i in range(len(sequence)):\n",
    "\n",
    "        end_ix = i + n_steps_in\n",
    "        out_end_ix = end_ix + n_steps_out\n",
    "\n",
    "        if out_end_ix > len(sequence):\n",
    "            break\n",
    "\n",
    "        seq_x, seq_y = sequence[i:end_ix], sequence[end_ix:out_end_ix][:, 0]\n",
    "        X.append(seq_x)\n",
    "        y.append(seq_y)\n",
    "    return array(X), array(y)\n"
   ]
  },
  {
   "cell_type": "code",
   "execution_count": 6,
   "id": "7d9ab7d2",
   "metadata": {
    "execution": {
     "iopub.execute_input": "2025-05-10T19:44:43.362283Z",
     "iopub.status.busy": "2025-05-10T19:44:43.361908Z",
     "iopub.status.idle": "2025-05-10T19:44:43.383275Z",
     "shell.execute_reply": "2025-05-10T19:44:43.382238Z"
    },
    "papermill": {
     "duration": 0.027239,
     "end_time": "2025-05-10T19:44:43.385188",
     "exception": false,
     "start_time": "2025-05-10T19:44:43.357949",
     "status": "completed"
    },
    "tags": []
   },
   "outputs": [],
   "source": [
    "df = pd.read_csv('/kaggle/working/data_scaled.csv')\n",
    "\n",
    "df = df.sort_values(by=['company_id', 'quarter'])\n",
    "\n",
    "company_ids = df['company_id'].unique()"
   ]
  },
  {
   "cell_type": "code",
   "execution_count": 7,
   "id": "ce435b3b",
   "metadata": {
    "execution": {
     "iopub.execute_input": "2025-05-10T19:44:43.392334Z",
     "iopub.status.busy": "2025-05-10T19:44:43.392015Z",
     "iopub.status.idle": "2025-05-10T19:44:43.401587Z",
     "shell.execute_reply": "2025-05-10T19:44:43.400709Z"
    },
    "papermill": {
     "duration": 0.015265,
     "end_time": "2025-05-10T19:44:43.403394",
     "exception": false,
     "start_time": "2025-05-10T19:44:43.388129",
     "status": "completed"
    },
    "tags": []
   },
   "outputs": [],
   "source": [
    "def train_triple_stacked_lstm(n_steps_in, n_steps_out, activation, loss, epochs):\n",
    "    X_list, y_list = list(), list()\n",
    "\n",
    "    for company_id in company_ids:\n",
    "        company_data = df[df['company_id'] == company_id]\n",
    "    \n",
    "        p = array(company_data['P']).reshape((len(company_data), 1))\n",
    "        eps = array(company_data['EPS']).reshape((len(company_data), 1))\n",
    "        de = array(company_data['D/E']).reshape((len(company_data), 1))\n",
    "        size = array(company_data['SIZE']).reshape((len(company_data), 1))\n",
    "    \n",
    "        dataset = hstack((p, eps, de, size))\n",
    "    \n",
    "        X, y = split_sequence(dataset, n_steps_in, n_steps_out)\n",
    "\n",
    "        X_list.extend(X)\n",
    "        y_list.extend(y)\n",
    "\n",
    "    X = array(X_list)\n",
    "    y = array(y_list)\n",
    "    \n",
    "    n_features = X.shape[2]\n",
    "\n",
    "    X_train, X_test, y_train, y_test = train_test_split(X, y, test_size=0.3, shuffle=True)\n",
    "\n",
    "    model = Sequential()\n",
    "    model.add(LSTM(100, activation=activation, return_sequences=True, input_shape=(n_steps_in, n_features)))\n",
    "    model.add(LSTM(100, activation=activation, return_sequences=True, input_shape=(n_steps_in, n_features)))\n",
    "    model.add(LSTM(100, activation=activation))\n",
    "    model.add(Dense(n_steps_out))\n",
    "    model.compile(optimizer='adam', loss=loss)\n",
    "\n",
    "    model.fit(X_train, y_train, epochs=epochs, verbose=0)\n",
    "\n",
    "    loss = model.evaluate(X_test, y_test, verbose=0)\n",
    "    \n",
    "    return loss"
   ]
  },
  {
   "cell_type": "code",
   "execution_count": 8,
   "id": "c7a25aaf",
   "metadata": {
    "execution": {
     "iopub.execute_input": "2025-05-10T19:44:43.412495Z",
     "iopub.status.busy": "2025-05-10T19:44:43.412172Z",
     "iopub.status.idle": "2025-05-10T19:44:43.417028Z",
     "shell.execute_reply": "2025-05-10T19:44:43.416048Z"
    },
    "papermill": {
     "duration": 0.010749,
     "end_time": "2025-05-10T19:44:43.418994",
     "exception": false,
     "start_time": "2025-05-10T19:44:43.408245",
     "status": "completed"
    },
    "tags": []
   },
   "outputs": [],
   "source": [
    "activations = ['gelu', 'relu']\n",
    "losses = ['mse', 'mape']"
   ]
  },
  {
   "cell_type": "code",
   "execution_count": 9,
   "id": "c12028aa",
   "metadata": {
    "execution": {
     "iopub.execute_input": "2025-05-10T19:44:43.426177Z",
     "iopub.status.busy": "2025-05-10T19:44:43.425839Z",
     "iopub.status.idle": "2025-05-10T21:33:43.590579Z",
     "shell.execute_reply": "2025-05-10T21:33:43.589662Z"
    },
    "papermill": {
     "duration": 6540.170713,
     "end_time": "2025-05-10T21:33:43.592732",
     "exception": false,
     "start_time": "2025-05-10T19:44:43.422019",
     "status": "completed"
    },
    "tags": []
   },
   "outputs": [
    {
     "name": "stdout",
     "output_type": "stream",
     "text": [
      "Running: a=1, b=1, activation=gelu, loss=mse\n"
     ]
    },
    {
     "name": "stderr",
     "output_type": "stream",
     "text": [
      "2025-05-10 19:44:43.640284: E external/local_xla/xla/stream_executor/cuda/cuda_driver.cc:152] failed call to cuInit: INTERNAL: CUDA error: Failed call to cuInit: UNKNOWN ERROR (303)\n",
      "/usr/local/lib/python3.11/dist-packages/keras/src/layers/rnn/rnn.py:204: UserWarning: Do not pass an `input_shape`/`input_dim` argument to a layer. When using Sequential models, prefer using an `Input(shape)` object as the first layer in the model instead.\n",
      "  super().__init__(**kwargs)\n"
     ]
    },
    {
     "name": "stdout",
     "output_type": "stream",
     "text": [
      "Running: a=1, b=1, activation=gelu, loss=mape\n",
      "Running: a=1, b=1, activation=relu, loss=mse\n",
      "Running: a=1, b=1, activation=relu, loss=mape\n",
      "Running: a=1, b=2, activation=gelu, loss=mse\n",
      "Running: a=1, b=2, activation=gelu, loss=mape\n",
      "Running: a=1, b=2, activation=relu, loss=mse\n",
      "Running: a=1, b=2, activation=relu, loss=mape\n",
      "Running: a=1, b=3, activation=gelu, loss=mse\n",
      "Running: a=1, b=3, activation=gelu, loss=mape\n",
      "Running: a=1, b=3, activation=relu, loss=mse\n",
      "Running: a=1, b=3, activation=relu, loss=mape\n",
      "Running: a=2, b=1, activation=gelu, loss=mse\n",
      "Running: a=2, b=1, activation=gelu, loss=mape\n",
      "Running: a=2, b=1, activation=relu, loss=mse\n",
      "Running: a=2, b=1, activation=relu, loss=mape\n",
      "Running: a=2, b=2, activation=gelu, loss=mse\n",
      "Running: a=2, b=2, activation=gelu, loss=mape\n",
      "Running: a=2, b=2, activation=relu, loss=mse\n",
      "Running: a=2, b=2, activation=relu, loss=mape\n",
      "Running: a=2, b=3, activation=gelu, loss=mse\n",
      "Running: a=2, b=3, activation=gelu, loss=mape\n",
      "Running: a=2, b=3, activation=relu, loss=mse\n",
      "Running: a=2, b=3, activation=relu, loss=mape\n",
      "Running: a=3, b=1, activation=gelu, loss=mse\n",
      "Running: a=3, b=1, activation=gelu, loss=mape\n",
      "Running: a=3, b=1, activation=relu, loss=mse\n",
      "Running: a=3, b=1, activation=relu, loss=mape\n",
      "Running: a=3, b=2, activation=gelu, loss=mse\n",
      "Running: a=3, b=2, activation=gelu, loss=mape\n",
      "Running: a=3, b=2, activation=relu, loss=mse\n",
      "Running: a=3, b=2, activation=relu, loss=mape\n",
      "Running: a=3, b=3, activation=gelu, loss=mse\n",
      "Running: a=3, b=3, activation=gelu, loss=mape\n",
      "Running: a=3, b=3, activation=relu, loss=mse\n",
      "Running: a=3, b=3, activation=relu, loss=mape\n"
     ]
    }
   ],
   "source": [
    "with open('results_triple_stacked_lstm.csv', mode='w', newline='') as file:\n",
    "    writer = csv.writer(file)\n",
    "    writer.writerow(['a', 'b', 'activation', 'loss_function', 'final_loss'])  # Header\n",
    "\n",
    "    for a in range(1, 4):\n",
    "        for b in range(1, 4):\n",
    "            for act in activations:\n",
    "                for loss_fn in losses:\n",
    "                    print(f\"Running: a={a}, b={b}, activation={act}, loss={loss_fn}\")\n",
    "                    final_loss = train_triple_stacked_lstm(a, b, act, loss_fn, 200)\n",
    "                    writer.writerow([a, b, act, loss_fn, final_loss])"
   ]
  }
 ],
 "metadata": {
  "kaggle": {
   "accelerator": "none",
   "dataSources": [
    {
     "datasetId": 7384888,
     "sourceId": 11763260,
     "sourceType": "datasetVersion"
    }
   ],
   "dockerImageVersionId": 31012,
   "isGpuEnabled": false,
   "isInternetEnabled": false,
   "language": "python",
   "sourceType": "notebook"
  },
  "kernelspec": {
   "display_name": "Python 3",
   "language": "python",
   "name": "python3"
  },
  "language_info": {
   "codemirror_mode": {
    "name": "ipython",
    "version": 3
   },
   "file_extension": ".py",
   "mimetype": "text/x-python",
   "name": "python",
   "nbconvert_exporter": "python",
   "pygments_lexer": "ipython3",
   "version": "3.11.11"
  },
  "papermill": {
   "default_parameters": {},
   "duration": 6569.833505,
   "end_time": "2025-05-10T21:33:46.526377",
   "environment_variables": {},
   "exception": null,
   "input_path": "__notebook__.ipynb",
   "output_path": "__notebook__.ipynb",
   "parameters": {},
   "start_time": "2025-05-10T19:44:16.692872",
   "version": "2.6.0"
  }
 },
 "nbformat": 4,
 "nbformat_minor": 5
}
