{
 "cells": [
  {
   "cell_type": "code",
   "execution_count": 1,
   "id": "24f872b9",
   "metadata": {
    "_cell_guid": "b1076dfc-b9ad-4769-8c92-a6c4dae69d19",
    "_uuid": "8f2839f25d086af736a60e9eeb907d3b93b6e0e5",
    "execution": {
     "iopub.execute_input": "2025-05-11T01:36:48.151881Z",
     "iopub.status.busy": "2025-05-11T01:36:48.151531Z",
     "iopub.status.idle": "2025-05-11T01:36:50.075419Z",
     "shell.execute_reply": "2025-05-11T01:36:50.074327Z"
    },
    "papermill": {
     "duration": 1.929584,
     "end_time": "2025-05-11T01:36:50.077033",
     "exception": false,
     "start_time": "2025-05-11T01:36:48.147449",
     "status": "completed"
    },
    "tags": []
   },
   "outputs": [
    {
     "name": "stdout",
     "output_type": "stream",
     "text": [
      "/kaggle/input/mydataset/data_train.csv\n"
     ]
    }
   ],
   "source": [
    "# This Python 3 environment comes with many helpful analytics libraries installed\n",
    "# It is defined by the kaggle/python Docker image: https://github.com/kaggle/docker-python\n",
    "# For example, here's several helpful packages to load\n",
    "\n",
    "import numpy as np # linear algebra\n",
    "import pandas as pd # data processing, CSV file I/O (e.g. pd.read_csv)\n",
    "\n",
    "# Input data files are available in the read-only \"../input/\" directory\n",
    "# For example, running this (by clicking run or pressing Shift+Enter) will list all files under the input directory\n",
    "\n",
    "import os\n",
    "for dirname, _, filenames in os.walk('/kaggle/input'):\n",
    "    for filename in filenames:\n",
    "        print(os.path.join(dirname, filename))\n",
    "\n",
    "# You can write up to 20GB to the current directory (/kaggle/working/) that gets preserved as output when you create a version using \"Save & Run All\" \n",
    "# You can also write temporary files to /kaggle/temp/, but they won't be saved outside of the current session"
   ]
  },
  {
   "cell_type": "code",
   "execution_count": 2,
   "id": "13ddeb00",
   "metadata": {
    "execution": {
     "iopub.execute_input": "2025-05-11T01:36:50.084070Z",
     "iopub.status.busy": "2025-05-11T01:36:50.083150Z",
     "iopub.status.idle": "2025-05-11T01:37:08.640477Z",
     "shell.execute_reply": "2025-05-11T01:37:08.639446Z"
    },
    "papermill": {
     "duration": 18.562524,
     "end_time": "2025-05-11T01:37:08.642370",
     "exception": false,
     "start_time": "2025-05-11T01:36:50.079846",
     "status": "completed"
    },
    "tags": []
   },
   "outputs": [
    {
     "name": "stderr",
     "output_type": "stream",
     "text": [
      "2025-05-11 01:36:52.186199: E external/local_xla/xla/stream_executor/cuda/cuda_fft.cc:477] Unable to register cuFFT factory: Attempting to register factory for plugin cuFFT when one has already been registered\n",
      "WARNING: All log messages before absl::InitializeLog() is called are written to STDERR\n",
      "E0000 00:00:1746927412.448221      13 cuda_dnn.cc:8310] Unable to register cuDNN factory: Attempting to register factory for plugin cuDNN when one has already been registered\n",
      "E0000 00:00:1746927412.525336      13 cuda_blas.cc:1418] Unable to register cuBLAS factory: Attempting to register factory for plugin cuBLAS when one has already been registered\n"
     ]
    }
   ],
   "source": [
    "from numpy import array\n",
    "from numpy import hstack\n",
    "from keras.models import Sequential\n",
    "from keras.layers import LSTM, Dense, Flatten, Bidirectional, TimeDistributed, Conv1D, MaxPooling1D, RepeatVector\n",
    "from sklearn.model_selection import train_test_split\n",
    "from sklearn.metrics import r2_score\n",
    "import math\n",
    "from sklearn.preprocessing import StandardScaler\n",
    "import csv"
   ]
  },
  {
   "cell_type": "code",
   "execution_count": 3,
   "id": "6379171b",
   "metadata": {
    "execution": {
     "iopub.execute_input": "2025-05-11T01:37:08.649172Z",
     "iopub.status.busy": "2025-05-11T01:37:08.648586Z",
     "iopub.status.idle": "2025-05-11T01:37:08.699476Z",
     "shell.execute_reply": "2025-05-11T01:37:08.698340Z"
    },
    "papermill": {
     "duration": 0.056189,
     "end_time": "2025-05-11T01:37:08.701359",
     "exception": false,
     "start_time": "2025-05-11T01:37:08.645170",
     "status": "completed"
    },
    "tags": []
   },
   "outputs": [],
   "source": [
    "df = pd.read_csv('/kaggle/input/mydataset/data_train.csv')\n",
    "\n",
    "df = df.sort_values(by=['company_id', 'quarter'])"
   ]
  },
  {
   "cell_type": "code",
   "execution_count": 4,
   "id": "d02536ac",
   "metadata": {
    "execution": {
     "iopub.execute_input": "2025-05-11T01:37:08.708035Z",
     "iopub.status.busy": "2025-05-11T01:37:08.707689Z",
     "iopub.status.idle": "2025-05-11T01:37:08.789009Z",
     "shell.execute_reply": "2025-05-11T01:37:08.788015Z"
    },
    "papermill": {
     "duration": 0.086364,
     "end_time": "2025-05-11T01:37:08.790485",
     "exception": false,
     "start_time": "2025-05-11T01:37:08.704121",
     "status": "completed"
    },
    "tags": []
   },
   "outputs": [],
   "source": [
    "scaler = StandardScaler()\n",
    "\n",
    "X = df[['P', 'EPS', 'D/E', 'SIZE']]\n",
    "\n",
    "X_scaled = scaler.fit_transform(X)\n",
    "\n",
    "df_scaled = pd.DataFrame(X_scaled, columns=['P', 'EPS', 'D/E', 'SIZE'])\n",
    "\n",
    "df_scaled['quarter'] = df['quarter'].values\n",
    "df_scaled['company_id'] = df['company_id'].values\n",
    "\n",
    "df_scaled.to_csv('data_scaled.csv', index=False)"
   ]
  },
  {
   "cell_type": "code",
   "execution_count": 5,
   "id": "ead07a62",
   "metadata": {
    "execution": {
     "iopub.execute_input": "2025-05-11T01:37:08.796781Z",
     "iopub.status.busy": "2025-05-11T01:37:08.796385Z",
     "iopub.status.idle": "2025-05-11T01:37:08.802325Z",
     "shell.execute_reply": "2025-05-11T01:37:08.801332Z"
    },
    "papermill": {
     "duration": 0.010919,
     "end_time": "2025-05-11T01:37:08.803973",
     "exception": false,
     "start_time": "2025-05-11T01:37:08.793054",
     "status": "completed"
    },
    "tags": []
   },
   "outputs": [],
   "source": [
    "def split_sequence(sequence, n_steps_in, n_steps_out):\n",
    "    X, y = list(), list()\n",
    "    for i in range(len(sequence)):\n",
    "\n",
    "        end_ix = i + n_steps_in\n",
    "        out_end_ix = end_ix + n_steps_out\n",
    "\n",
    "        if out_end_ix > len(sequence):\n",
    "            break\n",
    "\n",
    "        seq_x, seq_y = sequence[i:end_ix], sequence[end_ix:out_end_ix][:, 0]\n",
    "        X.append(seq_x)\n",
    "        y.append(seq_y)\n",
    "    return array(X), array(y)\n"
   ]
  },
  {
   "cell_type": "code",
   "execution_count": 6,
   "id": "fa52e351",
   "metadata": {
    "execution": {
     "iopub.execute_input": "2025-05-11T01:37:08.810036Z",
     "iopub.status.busy": "2025-05-11T01:37:08.809714Z",
     "iopub.status.idle": "2025-05-11T01:37:08.829857Z",
     "shell.execute_reply": "2025-05-11T01:37:08.828812Z"
    },
    "papermill": {
     "duration": 0.02514,
     "end_time": "2025-05-11T01:37:08.831608",
     "exception": false,
     "start_time": "2025-05-11T01:37:08.806468",
     "status": "completed"
    },
    "tags": []
   },
   "outputs": [],
   "source": [
    "df = pd.read_csv('/kaggle/working/data_scaled.csv')\n",
    "\n",
    "df = df.sort_values(by=['company_id', 'quarter'])\n",
    "\n",
    "company_ids = df['company_id'].unique()"
   ]
  },
  {
   "cell_type": "code",
   "execution_count": 7,
   "id": "0f682111",
   "metadata": {
    "execution": {
     "iopub.execute_input": "2025-05-11T01:37:08.837803Z",
     "iopub.status.busy": "2025-05-11T01:37:08.837471Z",
     "iopub.status.idle": "2025-05-11T01:37:08.847177Z",
     "shell.execute_reply": "2025-05-11T01:37:08.846146Z"
    },
    "papermill": {
     "duration": 0.014614,
     "end_time": "2025-05-11T01:37:08.848812",
     "exception": false,
     "start_time": "2025-05-11T01:37:08.834198",
     "status": "completed"
    },
    "tags": []
   },
   "outputs": [],
   "source": [
    "def train_cnn_lstm(n_steps_in, n_seq, n_steps_out, activation, loss, epochs):\n",
    "    X_list, y_list = list(), list()\n",
    "\n",
    "    for company_id in company_ids:\n",
    "        company_data = df[df['company_id'] == company_id]\n",
    "    \n",
    "        p = array(company_data['P']).reshape((len(company_data), 1))\n",
    "        eps = array(company_data['EPS']).reshape((len(company_data), 1))\n",
    "        de = array(company_data['D/E']).reshape((len(company_data), 1))\n",
    "        size = array(company_data['SIZE']).reshape((len(company_data), 1))\n",
    "    \n",
    "        dataset = hstack((p, eps, de, size))\n",
    "    \n",
    "        X, y = split_sequence(dataset, n_steps_in * n_seq, n_steps_out)\n",
    "\n",
    "        X_list.extend(X)\n",
    "        y_list.extend(y)\n",
    "\n",
    "    X = array(X_list)\n",
    "    y = array(y_list)\n",
    "    \n",
    "    n_features = X.shape[2]\n",
    "    \n",
    "    X = X.reshape((X.shape[0], n_seq, n_steps_in, n_features))\n",
    "\n",
    "    X_train, X_test, y_train, y_test = train_test_split(X, y, test_size=0.3, shuffle=True)\n",
    "\n",
    "    model = Sequential()\n",
    "    model.add(TimeDistributed(Conv1D(filters=64, kernel_size=1, activation=activation), input_shape=(None, n_steps_in, n_features)))\n",
    "    model.add(TimeDistributed(MaxPooling1D(pool_size=2)))\n",
    "    model.add(TimeDistributed(Flatten()))\n",
    "    model.add(LSTM(100, activation=activation))\n",
    "    model.add(Dense(n_steps_out))\n",
    "    model.compile(optimizer='adam', loss=loss)\n",
    "\n",
    "    model.fit(X_train, y_train, epochs=epochs, verbose=0)\n",
    "\n",
    "    loss = model.evaluate(X_test, y_test, verbose=0)\n",
    "    \n",
    "    return loss"
   ]
  },
  {
   "cell_type": "code",
   "execution_count": 8,
   "id": "625efb0f",
   "metadata": {
    "execution": {
     "iopub.execute_input": "2025-05-11T01:37:08.856630Z",
     "iopub.status.busy": "2025-05-11T01:37:08.856234Z",
     "iopub.status.idle": "2025-05-11T01:37:08.860633Z",
     "shell.execute_reply": "2025-05-11T01:37:08.859762Z"
    },
    "papermill": {
     "duration": 0.010612,
     "end_time": "2025-05-11T01:37:08.862168",
     "exception": false,
     "start_time": "2025-05-11T01:37:08.851556",
     "status": "completed"
    },
    "tags": []
   },
   "outputs": [],
   "source": [
    "activations = ['gelu', 'relu', 'linear']\n",
    "losses = ['mse', 'mape']"
   ]
  },
  {
   "cell_type": "code",
   "execution_count": 9,
   "id": "50d2018d",
   "metadata": {
    "execution": {
     "iopub.execute_input": "2025-05-11T01:37:08.868469Z",
     "iopub.status.busy": "2025-05-11T01:37:08.868047Z",
     "iopub.status.idle": "2025-05-11T05:37:07.717971Z",
     "shell.execute_reply": "2025-05-11T05:37:07.716606Z"
    },
    "papermill": {
     "duration": 14398.855187,
     "end_time": "2025-05-11T05:37:07.720028",
     "exception": false,
     "start_time": "2025-05-11T01:37:08.864841",
     "status": "completed"
    },
    "tags": []
   },
   "outputs": [
    {
     "name": "stdout",
     "output_type": "stream",
     "text": [
      "Running: a=2, b=1, activation=gelu, loss=mse\n"
     ]
    },
    {
     "name": "stderr",
     "output_type": "stream",
     "text": [
      "/usr/local/lib/python3.11/dist-packages/keras/src/layers/core/wrapper.py:27: UserWarning: Do not pass an `input_shape`/`input_dim` argument to a layer. When using Sequential models, prefer using an `Input(shape)` object as the first layer in the model instead.\n",
      "  super().__init__(**kwargs)\n",
      "2025-05-11 01:37:09.076740: E external/local_xla/xla/stream_executor/cuda/cuda_driver.cc:152] failed call to cuInit: INTERNAL: CUDA error: Failed call to cuInit: UNKNOWN ERROR (303)\n"
     ]
    },
    {
     "name": "stdout",
     "output_type": "stream",
     "text": [
      "Running: a=2, b=1, activation=gelu, loss=mape\n",
      "Running: a=2, b=1, activation=relu, loss=mse\n",
      "Running: a=2, b=1, activation=relu, loss=mape\n",
      "Running: a=2, b=1, activation=linear, loss=mse\n",
      "Running: a=2, b=1, activation=linear, loss=mape\n",
      "Running: a=2, b=1, activation=gelu, loss=mse\n",
      "Running: a=2, b=1, activation=gelu, loss=mape\n",
      "Running: a=2, b=1, activation=relu, loss=mse\n",
      "Running: a=2, b=1, activation=relu, loss=mape\n",
      "Running: a=2, b=1, activation=linear, loss=mse\n",
      "Running: a=2, b=1, activation=linear, loss=mape\n",
      "Running: a=2, b=1, activation=gelu, loss=mse\n",
      "Running: a=2, b=1, activation=gelu, loss=mape\n",
      "Running: a=2, b=1, activation=relu, loss=mse\n",
      "Running: a=2, b=1, activation=relu, loss=mape\n",
      "Running: a=2, b=1, activation=linear, loss=mse\n",
      "Running: a=2, b=1, activation=linear, loss=mape\n",
      "Running: a=2, b=1, activation=gelu, loss=mse\n",
      "Running: a=2, b=1, activation=gelu, loss=mape\n",
      "Running: a=2, b=1, activation=relu, loss=mse\n",
      "Running: a=2, b=1, activation=relu, loss=mape\n",
      "Running: a=2, b=1, activation=linear, loss=mse\n",
      "Running: a=2, b=1, activation=linear, loss=mape\n",
      "Running: a=2, b=1, activation=gelu, loss=mse\n",
      "Running: a=2, b=1, activation=gelu, loss=mape\n",
      "Running: a=2, b=1, activation=relu, loss=mse\n",
      "Running: a=2, b=1, activation=relu, loss=mape\n",
      "Running: a=2, b=1, activation=linear, loss=mse\n",
      "Running: a=2, b=1, activation=linear, loss=mape\n",
      "Running: a=2, b=2, activation=gelu, loss=mse\n",
      "Running: a=2, b=2, activation=gelu, loss=mape\n",
      "Running: a=2, b=2, activation=relu, loss=mse\n",
      "Running: a=2, b=2, activation=relu, loss=mape\n",
      "Running: a=2, b=2, activation=linear, loss=mse\n",
      "Running: a=2, b=2, activation=linear, loss=mape\n",
      "Running: a=2, b=2, activation=gelu, loss=mse\n",
      "Running: a=2, b=2, activation=gelu, loss=mape\n",
      "Running: a=2, b=2, activation=relu, loss=mse\n",
      "Running: a=2, b=2, activation=relu, loss=mape\n",
      "Running: a=2, b=2, activation=linear, loss=mse\n",
      "Running: a=2, b=2, activation=linear, loss=mape\n",
      "Running: a=2, b=2, activation=gelu, loss=mse\n",
      "Running: a=2, b=2, activation=gelu, loss=mape\n",
      "Running: a=2, b=2, activation=relu, loss=mse\n",
      "Running: a=2, b=2, activation=relu, loss=mape\n",
      "Running: a=2, b=2, activation=linear, loss=mse\n",
      "Running: a=2, b=2, activation=linear, loss=mape\n",
      "Running: a=2, b=2, activation=gelu, loss=mse\n",
      "Running: a=2, b=2, activation=gelu, loss=mape\n",
      "Running: a=2, b=2, activation=relu, loss=mse\n",
      "Running: a=2, b=2, activation=relu, loss=mape\n",
      "Running: a=2, b=2, activation=linear, loss=mse\n",
      "Running: a=2, b=2, activation=linear, loss=mape\n",
      "Running: a=2, b=2, activation=gelu, loss=mse\n",
      "Running: a=2, b=2, activation=gelu, loss=mape\n",
      "Running: a=2, b=2, activation=relu, loss=mse\n",
      "Running: a=2, b=2, activation=relu, loss=mape\n",
      "Running: a=2, b=2, activation=linear, loss=mse\n",
      "Running: a=2, b=2, activation=linear, loss=mape\n",
      "Running: a=2, b=3, activation=gelu, loss=mse\n",
      "Running: a=2, b=3, activation=gelu, loss=mape\n",
      "Running: a=2, b=3, activation=relu, loss=mse\n",
      "Running: a=2, b=3, activation=relu, loss=mape\n",
      "Running: a=2, b=3, activation=linear, loss=mse\n",
      "Running: a=2, b=3, activation=linear, loss=mape\n",
      "Running: a=2, b=3, activation=gelu, loss=mse\n",
      "Running: a=2, b=3, activation=gelu, loss=mape\n",
      "Running: a=2, b=3, activation=relu, loss=mse\n",
      "Running: a=2, b=3, activation=relu, loss=mape\n",
      "Running: a=2, b=3, activation=linear, loss=mse\n",
      "Running: a=2, b=3, activation=linear, loss=mape\n",
      "Running: a=2, b=3, activation=gelu, loss=mse\n",
      "Running: a=2, b=3, activation=gelu, loss=mape\n",
      "Running: a=2, b=3, activation=relu, loss=mse\n",
      "Running: a=2, b=3, activation=relu, loss=mape\n",
      "Running: a=2, b=3, activation=linear, loss=mse\n",
      "Running: a=2, b=3, activation=linear, loss=mape\n",
      "Running: a=2, b=3, activation=gelu, loss=mse\n",
      "Running: a=2, b=3, activation=gelu, loss=mape\n",
      "Running: a=2, b=3, activation=relu, loss=mse\n",
      "Running: a=2, b=3, activation=relu, loss=mape\n",
      "Running: a=2, b=3, activation=linear, loss=mse\n",
      "Running: a=2, b=3, activation=linear, loss=mape\n",
      "Running: a=2, b=3, activation=gelu, loss=mse\n",
      "Running: a=2, b=3, activation=gelu, loss=mape\n",
      "Running: a=2, b=3, activation=relu, loss=mse\n",
      "Running: a=2, b=3, activation=relu, loss=mape\n",
      "Running: a=2, b=3, activation=linear, loss=mse\n",
      "Running: a=2, b=3, activation=linear, loss=mape\n",
      "Running: a=3, b=1, activation=gelu, loss=mse\n",
      "Running: a=3, b=1, activation=gelu, loss=mape\n",
      "Running: a=3, b=1, activation=relu, loss=mse\n",
      "Running: a=3, b=1, activation=relu, loss=mape\n",
      "Running: a=3, b=1, activation=linear, loss=mse\n",
      "Running: a=3, b=1, activation=linear, loss=mape\n",
      "Running: a=3, b=1, activation=gelu, loss=mse\n",
      "Running: a=3, b=1, activation=gelu, loss=mape\n",
      "Running: a=3, b=1, activation=relu, loss=mse\n",
      "Running: a=3, b=1, activation=relu, loss=mape\n",
      "Running: a=3, b=1, activation=linear, loss=mse\n",
      "Running: a=3, b=1, activation=linear, loss=mape\n",
      "Running: a=3, b=1, activation=gelu, loss=mse\n",
      "Running: a=3, b=1, activation=gelu, loss=mape\n",
      "Running: a=3, b=1, activation=relu, loss=mse\n",
      "Running: a=3, b=1, activation=relu, loss=mape\n",
      "Running: a=3, b=1, activation=linear, loss=mse\n",
      "Running: a=3, b=1, activation=linear, loss=mape\n",
      "Running: a=3, b=1, activation=gelu, loss=mse\n",
      "Running: a=3, b=1, activation=gelu, loss=mape\n",
      "Running: a=3, b=1, activation=relu, loss=mse\n",
      "Running: a=3, b=1, activation=relu, loss=mape\n",
      "Running: a=3, b=1, activation=linear, loss=mse\n",
      "Running: a=3, b=1, activation=linear, loss=mape\n",
      "Running: a=3, b=1, activation=gelu, loss=mse\n",
      "Running: a=3, b=1, activation=gelu, loss=mape\n",
      "Running: a=3, b=1, activation=relu, loss=mse\n",
      "Running: a=3, b=1, activation=relu, loss=mape\n",
      "Running: a=3, b=1, activation=linear, loss=mse\n",
      "Running: a=3, b=1, activation=linear, loss=mape\n",
      "Running: a=3, b=2, activation=gelu, loss=mse\n",
      "Running: a=3, b=2, activation=gelu, loss=mape\n",
      "Running: a=3, b=2, activation=relu, loss=mse\n",
      "Running: a=3, b=2, activation=relu, loss=mape\n",
      "Running: a=3, b=2, activation=linear, loss=mse\n",
      "Running: a=3, b=2, activation=linear, loss=mape\n",
      "Running: a=3, b=2, activation=gelu, loss=mse\n",
      "Running: a=3, b=2, activation=gelu, loss=mape\n",
      "Running: a=3, b=2, activation=relu, loss=mse\n",
      "Running: a=3, b=2, activation=relu, loss=mape\n",
      "Running: a=3, b=2, activation=linear, loss=mse\n",
      "Running: a=3, b=2, activation=linear, loss=mape\n",
      "Running: a=3, b=2, activation=gelu, loss=mse\n",
      "Running: a=3, b=2, activation=gelu, loss=mape\n",
      "Running: a=3, b=2, activation=relu, loss=mse\n",
      "Running: a=3, b=2, activation=relu, loss=mape\n",
      "Running: a=3, b=2, activation=linear, loss=mse\n",
      "Running: a=3, b=2, activation=linear, loss=mape\n",
      "Running: a=3, b=2, activation=gelu, loss=mse\n",
      "Running: a=3, b=2, activation=gelu, loss=mape\n",
      "Running: a=3, b=2, activation=relu, loss=mse\n",
      "Running: a=3, b=2, activation=relu, loss=mape\n",
      "Running: a=3, b=2, activation=linear, loss=mse\n",
      "Running: a=3, b=2, activation=linear, loss=mape\n",
      "Running: a=3, b=2, activation=gelu, loss=mse\n",
      "Running: a=3, b=2, activation=gelu, loss=mape\n",
      "Running: a=3, b=2, activation=relu, loss=mse\n",
      "Running: a=3, b=2, activation=relu, loss=mape\n",
      "Running: a=3, b=2, activation=linear, loss=mse\n",
      "Running: a=3, b=2, activation=linear, loss=mape\n",
      "Running: a=3, b=3, activation=gelu, loss=mse\n",
      "Running: a=3, b=3, activation=gelu, loss=mape\n",
      "Running: a=3, b=3, activation=relu, loss=mse\n",
      "Running: a=3, b=3, activation=relu, loss=mape\n",
      "Running: a=3, b=3, activation=linear, loss=mse\n",
      "Running: a=3, b=3, activation=linear, loss=mape\n",
      "Running: a=3, b=3, activation=gelu, loss=mse\n",
      "Running: a=3, b=3, activation=gelu, loss=mape\n",
      "Running: a=3, b=3, activation=relu, loss=mse\n",
      "Running: a=3, b=3, activation=relu, loss=mape\n",
      "Running: a=3, b=3, activation=linear, loss=mse\n",
      "Running: a=3, b=3, activation=linear, loss=mape\n",
      "Running: a=3, b=3, activation=gelu, loss=mse\n",
      "Running: a=3, b=3, activation=gelu, loss=mape\n",
      "Running: a=3, b=3, activation=relu, loss=mse\n",
      "Running: a=3, b=3, activation=relu, loss=mape\n",
      "Running: a=3, b=3, activation=linear, loss=mse\n",
      "Running: a=3, b=3, activation=linear, loss=mape\n",
      "Running: a=3, b=3, activation=gelu, loss=mse\n",
      "Running: a=3, b=3, activation=gelu, loss=mape\n",
      "Running: a=3, b=3, activation=relu, loss=mse\n",
      "Running: a=3, b=3, activation=relu, loss=mape\n",
      "Running: a=3, b=3, activation=linear, loss=mse\n",
      "Running: a=3, b=3, activation=linear, loss=mape\n",
      "Running: a=3, b=3, activation=gelu, loss=mse\n",
      "Running: a=3, b=3, activation=gelu, loss=mape\n",
      "Running: a=3, b=3, activation=relu, loss=mse\n",
      "Running: a=3, b=3, activation=relu, loss=mape\n",
      "Running: a=3, b=3, activation=linear, loss=mse\n",
      "Running: a=3, b=3, activation=linear, loss=mape\n"
     ]
    }
   ],
   "source": [
    "with open('results_cnn_lstm.csv', mode='w', newline='') as file:\n",
    "    writer = csv.writer(file)\n",
    "    writer.writerow(['a', 'b', 'activation', 'loss_function', 'final_loss'])  # Header\n",
    "\n",
    "    for a in range(2, 4):\n",
    "        for b in range(1, 4):\n",
    "            for c in range (1, 6):\n",
    "                for act in activations:\n",
    "                    for loss_fn in losses:\n",
    "                        print(f\"Running: a={a}, b={b}, activation={act}, loss={loss_fn}\")\n",
    "                        final_loss = train_cnn_lstm(a, b, c, act, loss_fn, 200)\n",
    "                        writer.writerow([a, b, act, loss_fn, final_loss])"
   ]
  }
 ],
 "metadata": {
  "kaggle": {
   "accelerator": "none",
   "dataSources": [
    {
     "datasetId": 7384931,
     "sourceId": 11763323,
     "sourceType": "datasetVersion"
    }
   ],
   "dockerImageVersionId": 31012,
   "isGpuEnabled": false,
   "isInternetEnabled": false,
   "language": "python",
   "sourceType": "notebook"
  },
  "kernelspec": {
   "display_name": "Python 3",
   "language": "python",
   "name": "python3"
  },
  "language_info": {
   "codemirror_mode": {
    "name": "ipython",
    "version": 3
   },
   "file_extension": ".py",
   "mimetype": "text/x-python",
   "name": "python",
   "nbconvert_exporter": "python",
   "pygments_lexer": "ipython3",
   "version": "3.11.11"
  },
  "papermill": {
   "default_parameters": {},
   "duration": 14427.991936,
   "end_time": "2025-05-11T05:37:11.070861",
   "environment_variables": {},
   "exception": null,
   "input_path": "__notebook__.ipynb",
   "output_path": "__notebook__.ipynb",
   "parameters": {},
   "start_time": "2025-05-11T01:36:43.078925",
   "version": "2.6.0"
  }
 },
 "nbformat": 4,
 "nbformat_minor": 5
}
