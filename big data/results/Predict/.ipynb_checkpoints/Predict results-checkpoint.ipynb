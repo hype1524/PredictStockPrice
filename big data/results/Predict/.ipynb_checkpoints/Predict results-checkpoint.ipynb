{
 "cells": [
  {
   "cell_type": "code",
   "execution_count": 1,
   "id": "aec27aef-c941-4eda-8b4e-b9596180d16c",
   "metadata": {},
   "outputs": [],
   "source": [
    "from tensorflow.keras.models import load_model\n",
    "import pandas as pd\n",
    "import numpy as np"
   ]
  },
  {
   "cell_type": "code",
   "execution_count": 2,
   "id": "8171f5ca-1a6d-4331-b919-ecc3c5ea3855",
   "metadata": {},
   "outputs": [],
   "source": [
    "model = load_model(\"final_model.keras\")"
   ]
  },
  {
   "cell_type": "code",
   "execution_count": 3,
   "id": "7c552907-df06-4cec-a5be-a4406b3a8c49",
   "metadata": {},
   "outputs": [],
   "source": [
    "features = ['P', 'EPS', 'D/E', 'SIZE']"
   ]
  },
  {
   "cell_type": "code",
   "execution_count": 4,
   "id": "d486aa8a-cb46-484e-92bc-9858cd2d796c",
   "metadata": {},
   "outputs": [
    {
     "name": "stdout",
     "output_type": "stream",
     "text": [
      "\u001b[1m1/1\u001b[0m \u001b[32m━━━━━━━━━━━━━━━━━━━━\u001b[0m\u001b[37m\u001b[0m \u001b[1m1s\u001b[0m 501ms/step\n",
      "FPT predicted: [[52788.223 49155.734 45951.867]]\n"
     ]
    }
   ],
   "source": [
    "df_fpt = pd.read_csv(\"input/fpt_input_data.csv\")\n",
    "X_fpt = np.expand_dims(df_fpt[features].values, axis=0)  # shape: (1, 5, 4)\n",
    "y_pred_fpt = model.predict(X_fpt)\n",
    "print(\"FPT predicted:\", y_pred_fpt)"
   ]
  },
  {
   "cell_type": "code",
   "execution_count": 5,
   "id": "9688da4e-7686-403a-8c10-837a6ad30763",
   "metadata": {},
   "outputs": [
    {
     "name": "stdout",
     "output_type": "stream",
     "text": [
      "\u001b[1m1/1\u001b[0m \u001b[32m━━━━━━━━━━━━━━━━━━━━\u001b[0m\u001b[37m\u001b[0m \u001b[1m0s\u001b[0m 56ms/step\n",
      "HAG predicted: [[7814.092  6582.179  5849.9595]]\n"
     ]
    }
   ],
   "source": [
    "df_hag = pd.read_csv(\"input/hag_input_data.csv\")\n",
    "X_hag = np.expand_dims(df_hag[features].values, axis=0)\n",
    "y_pred_hag = model.predict(X_hag)\n",
    "print(\"HAG predicted:\", y_pred_hag)"
   ]
  },
  {
   "cell_type": "code",
   "execution_count": 6,
   "id": "b282334d-3341-4faa-a6f0-0d5d83f13c7f",
   "metadata": {},
   "outputs": [
    {
     "name": "stdout",
     "output_type": "stream",
     "text": [
      "\u001b[1m1/1\u001b[0m \u001b[32m━━━━━━━━━━━━━━━━━━━━\u001b[0m\u001b[37m\u001b[0m \u001b[1m0s\u001b[0m 42ms/step\n",
      "HPG predicted: [[28994.102 24349.318 21633.584]]\n"
     ]
    }
   ],
   "source": [
    "df_hpg = pd.read_csv(\"input/hpg_input_data.csv\")\n",
    "X_hpg = np.expand_dims(df_hpg[features].values, axis=0)\n",
    "y_pred_hpg = model.predict(X_hpg)\n",
    "print(\"HPG predicted:\", y_pred_hpg)"
   ]
  },
  {
   "cell_type": "code",
   "execution_count": 7,
   "id": "d6fd2a24-fe26-44cd-840e-30b112728f3d",
   "metadata": {},
   "outputs": [
    {
     "name": "stdout",
     "output_type": "stream",
     "text": [
      "\u001b[1m1/1\u001b[0m \u001b[32m━━━━━━━━━━━━━━━━━━━━\u001b[0m\u001b[37m\u001b[0m \u001b[1m0s\u001b[0m 49ms/step\n",
      "VNM predicted: [[87652.83 74076.86 71850.34]]\n"
     ]
    }
   ],
   "source": [
    "df_vnm = pd.read_csv(\"input/vnm_input_data.csv\")\n",
    "X_vnm = np.expand_dims(df_vnm[features].values, axis=0)\n",
    "y_pred_vnm = model.predict(X_vnm)\n",
    "print(\"VNM predicted:\", y_pred_vnm)"
   ]
  },
  {
   "cell_type": "code",
   "execution_count": 8,
   "id": "a371ba0b-7eaa-47d3-abbe-19468bdbf044",
   "metadata": {},
   "outputs": [
    {
     "name": "stdout",
     "output_type": "stream",
     "text": [
      "\u001b[1m1/1\u001b[0m \u001b[32m━━━━━━━━━━━━━━━━━━━━\u001b[0m\u001b[37m\u001b[0m \u001b[1m0s\u001b[0m 49ms/step\n",
      "MBB predicted: [[13179.325  11102.7705  9820.454 ]]\n"
     ]
    }
   ],
   "source": [
    "df_mbb = pd.read_csv(\"input/mbb_input_data.csv\")\n",
    "X_mbb = np.expand_dims(df_mbb[features].values, axis=0)\n",
    "y_pred_mbb = model.predict(X_mbb)\n",
    "print(\"MBB predicted:\", y_pred_mbb)"
   ]
  },
  {
   "cell_type": "code",
   "execution_count": 9,
   "id": "7e942861-3214-402f-b6a3-1038f7396d68",
   "metadata": {},
   "outputs": [
    {
     "data": {
      "text/html": [
       "<div>\n",
       "<style scoped>\n",
       "    .dataframe tbody tr th:only-of-type {\n",
       "        vertical-align: middle;\n",
       "    }\n",
       "\n",
       "    .dataframe tbody tr th {\n",
       "        vertical-align: top;\n",
       "    }\n",
       "\n",
       "    .dataframe thead th {\n",
       "        text-align: right;\n",
       "    }\n",
       "</style>\n",
       "<table border=\"1\" class=\"dataframe\">\n",
       "  <thead>\n",
       "    <tr style=\"text-align: right;\">\n",
       "      <th></th>\n",
       "      <th>Company</th>\n",
       "      <th>2025_Predict</th>\n",
       "      <th>2026_Predict</th>\n",
       "      <th>2027_Predict</th>\n",
       "    </tr>\n",
       "  </thead>\n",
       "  <tbody>\n",
       "    <tr>\n",
       "      <th>0</th>\n",
       "      <td>FPT</td>\n",
       "      <td>52788.222656</td>\n",
       "      <td>49155.734375</td>\n",
       "      <td>45951.867188</td>\n",
       "    </tr>\n",
       "    <tr>\n",
       "      <th>1</th>\n",
       "      <td>HAG</td>\n",
       "      <td>7814.091797</td>\n",
       "      <td>6582.179199</td>\n",
       "      <td>5849.959473</td>\n",
       "    </tr>\n",
       "    <tr>\n",
       "      <th>2</th>\n",
       "      <td>HPG</td>\n",
       "      <td>28994.101562</td>\n",
       "      <td>24349.318359</td>\n",
       "      <td>21633.583984</td>\n",
       "    </tr>\n",
       "    <tr>\n",
       "      <th>3</th>\n",
       "      <td>VNM</td>\n",
       "      <td>87652.828125</td>\n",
       "      <td>74076.859375</td>\n",
       "      <td>71850.343750</td>\n",
       "    </tr>\n",
       "    <tr>\n",
       "      <th>4</th>\n",
       "      <td>MBB</td>\n",
       "      <td>13179.325195</td>\n",
       "      <td>11102.770508</td>\n",
       "      <td>9820.454102</td>\n",
       "    </tr>\n",
       "  </tbody>\n",
       "</table>\n",
       "</div>"
      ],
      "text/plain": [
       "  Company  2025_Predict  2026_Predict  2027_Predict\n",
       "0     FPT  52788.222656  49155.734375  45951.867188\n",
       "1     HAG   7814.091797   6582.179199   5849.959473\n",
       "2     HPG  28994.101562  24349.318359  21633.583984\n",
       "3     VNM  87652.828125  74076.859375  71850.343750\n",
       "4     MBB  13179.325195  11102.770508   9820.454102"
      ]
     },
     "execution_count": 9,
     "metadata": {},
     "output_type": "execute_result"
    }
   ],
   "source": [
    "# Flatten mỗi kết quả (nếu vẫn là dạng (1, 3))\n",
    "companies = [\"FPT\", \"HAG\", \"HPG\", \"VNM\", \"MBB\"]\n",
    "predictions = [\n",
    "    y_pred_fpt.flatten(),\n",
    "    y_pred_hag.flatten(),\n",
    "    y_pred_hpg.flatten(),\n",
    "    y_pred_vnm.flatten(),\n",
    "    y_pred_mbb.flatten(),\n",
    "]\n",
    "\n",
    "# Tạo DataFrame từ mảng\n",
    "df_predictions = pd.DataFrame(\n",
    "    predictions,\n",
    "    columns=[\"2025_Predict\", \"2026_Predict\", \"2027_Predict\"]\n",
    ")\n",
    "df_predictions.insert(0, \"Company\", companies)\n",
    "\n",
    "df_predictions"
   ]
  },
  {
   "cell_type": "code",
   "execution_count": 10,
   "id": "5eed69b9-5f79-4404-95f9-b2e30d224bee",
   "metadata": {},
   "outputs": [],
   "source": [
    "df_predictions.to_csv('predict_result.csv')"
   ]
  }
 ],
 "metadata": {
  "kernelspec": {
   "display_name": "Python 3 (ipykernel)",
   "language": "python",
   "name": "python3"
  },
  "language_info": {
   "codemirror_mode": {
    "name": "ipython",
    "version": 3
   },
   "file_extension": ".py",
   "mimetype": "text/x-python",
   "name": "python",
   "nbconvert_exporter": "python",
   "pygments_lexer": "ipython3",
   "version": "3.12.6"
  }
 },
 "nbformat": 4,
 "nbformat_minor": 5
}
