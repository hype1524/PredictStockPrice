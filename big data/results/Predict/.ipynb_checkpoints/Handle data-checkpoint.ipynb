{
 "cells": [
  {
   "cell_type": "code",
   "execution_count": 1,
   "id": "4fb25df3-0546-4dbb-b9ad-9e21b74f7985",
   "metadata": {},
   "outputs": [],
   "source": [
    "import pandas as pd\n",
    "import numpy as np"
   ]
  },
  {
   "cell_type": "code",
   "execution_count": 2,
   "id": "cd896692-1812-499e-acb3-f2239c60de63",
   "metadata": {},
   "outputs": [],
   "source": [
    "df_mbb = pd.read_csv('data/mbb_data.csv')\n",
    "\n",
    "df_mbb = df_mbb[['P', 'EPS', 'D/E', 'SIZE']]\n",
    "\n",
    "# Gán năm theo chỉ số dòng\n",
    "years = list(range(2005, 2025))  # từ 2005 đến 2024, tổng 20 năm\n",
    "df_mbb['year'] = [year for year in years for _ in range(4)]\n",
    "\n",
    "# Lọc từ năm 2020 đến 2024\n",
    "df_mbb = df_mbb[df_mbb['year'].between(2020, 2024)]\n",
    "\n",
    "df_yearly_avg_mbb = df_mbb.groupby('year')[['P', 'EPS', 'D/E', 'SIZE']].mean().reset_index()\n",
    "\n",
    "df_yearly_avg_mbb['P'] = [8410.0, 18200.0, 12950.0, 16200.0, 21800.0]\n",
    "\n",
    "df_yearly_avg_mbb['EPS'] = [3329.0, 3904.0, 4328.0, 4265.0, 4284.0]\n",
    "\n",
    "df_yearly_avg_mbb['SIZE'] = np.log([494982162000, 607140419000, 728532373000, 944953640000, 1128801062000])\n",
    "\n",
    "df_yearly_avg_mbb.to_csv('input/mbb_input_data.csv')"
   ]
  },
  {
   "cell_type": "code",
   "execution_count": 3,
   "id": "7fe23da2-b117-4b79-abd8-10382b824cce",
   "metadata": {},
   "outputs": [],
   "source": [
    "df_fpt = pd.read_csv('data/fpt_data.csv')\n",
    "\n",
    "df_fpt = df_fpt[['P', 'EPS', 'D/E', 'SIZE']]\n",
    "\n",
    "# Gán năm theo chỉ số dòng\n",
    "years = list(range(2005, 2025))  # từ 2005 đến 2024, tổng 20 năm\n",
    "df_fpt['year'] = [year for year in years for _ in range(4)]\n",
    "\n",
    "# Lọc từ năm 2020 đến 2024\n",
    "df_fpt = df_fpt[df_fpt['year'].between(2020, 2024)]\n",
    "\n",
    "df_yearly_avg_fpt = df_fpt.groupby('year')[['P', 'EPS', 'D/E', 'SIZE']].mean().reset_index()\n",
    "\n",
    "# Xác định hai vị trí cuối cùng của cột 'P' là các giá trị NaN\n",
    "df_yearly_avg_fpt.loc[df_yearly_avg_fpt['P'].isna(), 'P'] = [8360, 153300]\n",
    "\n",
    "# Hiển thị bảng\n",
    "df_yearly_avg_fpt.to_csv('input/fpt_input_data.csv')"
   ]
  },
  {
   "cell_type": "code",
   "execution_count": 4,
   "id": "5480808e-b6fd-43d8-95b5-8bb5e9f7d177",
   "metadata": {},
   "outputs": [],
   "source": [
    "# Đọc dữ liệu cho HAG\n",
    "df_hag = pd.read_csv('data/hag_data.csv')\n",
    "df_hag = df_hag[['P', 'EPS', 'D/E', 'SIZE']]\n",
    "\n",
    "# Gán năm theo chỉ số dòng\n",
    "years = list(range(2005, 2025))  # từ 2005 đến 2024, tổng 20 năm\n",
    "df_hag['year'] = [year for year in years for _ in range(4)]\n",
    "\n",
    "# Lọc từ năm 2020 đến 2024\n",
    "df_hag = df_hag[df_hag['year'].between(2020, 2024)]\n",
    "\n",
    "df_yearly_avg_hag = df_hag.groupby('year')[['P', 'EPS', 'D/E', 'SIZE']].mean().reset_index()\n",
    "\n",
    "df_yearly_avg_hag.to_csv('input/hag_input_data.csv')"
   ]
  },
  {
   "cell_type": "code",
   "execution_count": 5,
   "id": "98b549d7-b353-4d4b-b812-e6036720bfe6",
   "metadata": {},
   "outputs": [],
   "source": [
    "# Đọc dữ liệu cho HPG\n",
    "df_hpg = pd.read_csv('data/hpg_data.csv')\n",
    "df_hpg = df_hpg[['P', 'EPS', 'D/E', 'SIZE']]\n",
    "\n",
    "# Gán năm theo chỉ số dòng\n",
    "df_hpg['year'] = [year for year in years for _ in range(4)]\n",
    "\n",
    "# Lọc từ năm 2020 đến 2024\n",
    "df_hpg = df_hpg[df_hpg['year'].between(2020, 2024)]\n",
    "\n",
    "df_yearly_avg_hpg = df_hpg.groupby('year')[['P', 'EPS', 'D/E', 'SIZE']].mean().reset_index()\n",
    "\n",
    "df_yearly_avg_hpg['EPS'] = [4507.0, 8630.0, 1636.0, 1175.0, 1951.0]\n",
    "\n",
    "df_yearly_avg_hpg.to_csv('input/hpg_input_data.csv')"
   ]
  },
  {
   "cell_type": "code",
   "execution_count": 6,
   "id": "49341876-78f3-49fc-92ac-cde753059ace",
   "metadata": {},
   "outputs": [],
   "source": [
    "# Đọc dữ liệu cho VNM\n",
    "df_vnm = pd.read_csv('data/vnm_data.csv')\n",
    "df_vnm = df_vnm[['P', 'EPS', 'D/E', 'SIZE']]\n",
    "\n",
    "# Gán năm theo chỉ số dòng\n",
    "df_vnm['year'] = [year for year in years for _ in range(4)]\n",
    "\n",
    "# Lọc từ năm 2020 đến 2024\n",
    "df_vnm = df_vnm[df_vnm['year'].between(2020, 2024)]\n",
    "\n",
    "df_yearly_avg_vnm = df_vnm.groupby('year')[['P', 'EPS', 'D/E', 'SIZE']].mean().reset_index()\n",
    "\n",
    "df_yearly_avg_vnm['P'] = [108700.0, 86400.0, 75800.0, 67600.0, 63400.0]\n",
    "\n",
    "df_yearly_avg_vnm.to_csv('input/vnm_input_data.csv')"
   ]
  }
 ],
 "metadata": {
  "kernelspec": {
   "display_name": "Python 3 (ipykernel)",
   "language": "python",
   "name": "python3"
  },
  "language_info": {
   "codemirror_mode": {
    "name": "ipython",
    "version": 3
   },
   "file_extension": ".py",
   "mimetype": "text/x-python",
   "name": "python",
   "nbconvert_exporter": "python",
   "pygments_lexer": "ipython3",
   "version": "3.12.6"
  }
 },
 "nbformat": 4,
 "nbformat_minor": 5
}
