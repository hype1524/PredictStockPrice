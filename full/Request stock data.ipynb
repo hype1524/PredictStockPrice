{
 "cells": [
  {
   "cell_type": "code",
   "execution_count": 1,
   "id": "1621463a-dbc4-4700-902b-5d2555b1331a",
   "metadata": {},
   "outputs": [
    {
     "name": "stdout",
     "output_type": "stream",
     "text": [
      "Lấy dữ liệu cho Hoàng Anh Gia Lai (hag)...\n",
      "Dữ liệu cho Hoàng Anh Gia Lai đã được lưu vào file CSV.\n",
      "Lấy dữ liệu cho Vinamilk (vnm)...\n",
      "Dữ liệu cho Vinamilk đã được lưu vào file CSV.\n",
      "Lấy dữ liệu cho Hòa Phát (hpg)...\n",
      "Dữ liệu cho Hòa Phát đã được lưu vào file CSV.\n",
      "Lấy dữ liệu cho FPT (fpt)...\n",
      "Dữ liệu cho FPT đã được lưu vào file CSV.\n",
      "Lấy dữ liệu cho MB Bank (mbb)...\n",
      "Dữ liệu cho MB Bank đã được lưu vào file CSV.\n",
      "Hoàn thành việc lấy dữ liệu.\n"
     ]
    }
   ],
   "source": [
    "import yfinance as yf\n",
    "\n",
    "# Danh sách các mã cổ phiếu của các công ty\n",
    "companies = {\n",
    "    \"Hoàng Anh Gia Lai\": \"hag\",\n",
    "    \"Vinamilk\": \"vnm\",\n",
    "    \"Hòa Phát\": \"hpg\",\n",
    "    \"FPT\": \"fpt\",\n",
    "    \"MB Bank\": \"mbb\"\n",
    "}\n",
    "\n",
    "# Duyệt qua các công ty và lấy dữ liệu giá cổ phiếu\n",
    "for company_name, ticker_symbol in companies.items():\n",
    "    print(f\"Lấy dữ liệu cho {company_name} ({ticker_symbol})...\")\n",
    "    \n",
    "    try:\n",
    "        # Tải dữ liệu lịch sử giá cổ phiếu\n",
    "        ticker = yf.Ticker(ticker_symbol)\n",
    "        data = ticker.history(start=\"2005-01-01\", end=\"2024-12-31\", interval=\"1d\")\n",
    "\n",
    "        # Kiểm tra nếu có dữ liệu và lưu vào file CSV\n",
    "        if not data.empty:\n",
    "            data.to_csv(f\"stock data/{company_name}_stock_data.csv\")\n",
    "            print(f\"Dữ liệu cho {company_name} đã được lưu vào file CSV.\")\n",
    "        else:\n",
    "            print(f\"Không có dữ liệu cho {company_name}.\")\n",
    "    \n",
    "    except Exception as e:\n",
    "        print(f\"Lỗi khi lấy dữ liệu cho {company_name}: {e}\")\n",
    "\n",
    "print(\"Hoàn thành việc lấy dữ liệu.\")\n"
   ]
  }
 ],
 "metadata": {
  "kernelspec": {
   "display_name": "Python 3 (ipykernel)",
   "language": "python",
   "name": "python3"
  },
  "language_info": {
   "codemirror_mode": {
    "name": "ipython",
    "version": 3
   },
   "file_extension": ".py",
   "mimetype": "text/x-python",
   "name": "python",
   "nbconvert_exporter": "python",
   "pygments_lexer": "ipython3",
   "version": "3.12.6"
  }
 },
 "nbformat": 4,
 "nbformat_minor": 5
}
