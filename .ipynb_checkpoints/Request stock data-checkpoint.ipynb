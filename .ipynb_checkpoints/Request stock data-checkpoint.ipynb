{
 "cells": [
  {
   "cell_type": "code",
   "execution_count": 3,
   "id": "1621463a-dbc4-4700-902b-5d2555b1331a",
   "metadata": {},
   "outputs": [
    {
     "name": "stdout",
     "output_type": "stream",
     "text": [
      "                                   Open          High           Low  \\\n",
      "Date                                                                  \n",
      "2019-01-02 00:00:00-05:00  38000.000000  38318.199219  37409.101562   \n",
      "2019-01-03 00:00:00-05:00  37681.800781  37681.800781  37000.000000   \n",
      "2019-01-04 00:00:00-05:00  36909.101562  37681.800781  36818.199219   \n",
      "2019-01-07 00:00:00-05:00  38000.000000  38272.699219  37818.199219   \n",
      "2019-01-08 00:00:00-05:00  38000.000000  38181.800781  37909.101562   \n",
      "\n",
      "                                  Close  Volume  Dividends  Stock Splits  \\\n",
      "Date                                                                       \n",
      "2019-01-02 00:00:00-05:00  37454.500000  505032        0.0           0.0   \n",
      "2019-01-03 00:00:00-05:00  37090.898438  788260        0.0           0.0   \n",
      "2019-01-04 00:00:00-05:00  37363.601562  350427        0.0           0.0   \n",
      "2019-01-07 00:00:00-05:00  38000.000000  449317        0.0           0.0   \n",
      "2019-01-08 00:00:00-05:00  38181.800781  325226        0.0           0.0   \n",
      "\n",
      "                           Capital Gains  \n",
      "Date                                      \n",
      "2019-01-02 00:00:00-05:00            0.0  \n",
      "2019-01-03 00:00:00-05:00            0.0  \n",
      "2019-01-04 00:00:00-05:00            0.0  \n",
      "2019-01-07 00:00:00-05:00            0.0  \n",
      "2019-01-08 00:00:00-05:00            0.0  \n"
     ]
    }
   ],
   "source": [
    "import yfinance as yf\n",
    "\n",
    "# Danh sách các mã cổ phiếu của các công ty\n",
    "companies = {\n",
    "    \"Hoàng Anh Gia Lai\": \"hag\",\n",
    "    \"Vinamilk\": \"vnm\",\n",
    "    \"Hòa Phát\": \"hpg\",\n",
    "    \"FPT\": \"fpt\",\n",
    "    \"MB Bank\": \"mbb\"\n",
    "}\n",
    "\n",
    "# Duyệt qua các công ty và lấy dữ liệu giá cổ phiếu\n",
    "for company_name, ticker_symbol in companies.items():\n",
    "    print(f\"Lấy dữ liệu cho {company_name} ({ticker_symbol})...\")\n",
    "    \n",
    "    try:\n",
    "        # Tải dữ liệu lịch sử giá cổ phiếu\n",
    "        ticker = yf.Ticker(ticker_symbol)\n",
    "        data = ticker.history(start=\"2019-01-01\", end=\"2024-12-31\", interval=\"1d\")\n",
    "\n",
    "        # Kiểm tra nếu có dữ liệu và lưu vào file CSV\n",
    "        if not data.empty:\n",
    "            data.to_csv(f\"{company_name}_stock_data.csv\")\n",
    "            print(f\"Dữ liệu cho {company_name} đã được lưu vào file CSV.\")\n",
    "        else:\n",
    "            print(f\"Không có dữ liệu cho {company_name}.\")\n",
    "    \n",
    "    except Exception as e:\n",
    "        print(f\"Lỗi khi lấy dữ liệu cho {company_name}: {e}\")\n",
    "\n",
    "print(\"Hoàn thành việc lấy dữ liệu.\")\n"
   ]
  }
 ],
 "metadata": {
  "kernelspec": {
   "display_name": "Python 3 (ipykernel)",
   "language": "python",
   "name": "python3"
  },
  "language_info": {
   "codemirror_mode": {
    "name": "ipython",
    "version": 3
   },
   "file_extension": ".py",
   "mimetype": "text/x-python",
   "name": "python",
   "nbconvert_exporter": "python",
   "pygments_lexer": "ipython3",
   "version": "3.12.6"
  }
 },
 "nbformat": 4,
 "nbformat_minor": 5
}
