{
 "cells": [
  {
   "cell_type": "code",
   "execution_count": 1,
   "id": "5543fc7c-1098-44d0-8e6e-b9eacdba2185",
   "metadata": {},
   "outputs": [
    {
     "name": "stdout",
     "output_type": "stream",
     "text": [
      "Đang xử lý: Hòa Phát (HPG)\n",
      "⚠️ Dữ liệu của Hòa Phát (HPG) ít hơn 1000 dòng. Thử mã với đuôi .VN.\n",
      "✅ Đã tìm thấy dữ liệu cho Hòa Phát với mã HPG.VN.\n",
      "✅ Đã lưu dữ liệu cho Hòa Phát (2282 dòng).\n",
      "Đang xử lý: Tập đoàn Hoa Sen (HSG)\n",
      "⚠️ Dữ liệu của Tập đoàn Hoa Sen (HSG) ít hơn 1000 dòng. Thử mã với đuôi .VN.\n",
      "❌ Lỗi khi lấy dữ liệu cho Tập đoàn Hoa Sen : Length mismatch: Expected axis has 2 elements, new values have 1 elements\n",
      "✅ Đã lưu dữ liệu cho Tập đoàn Hoa Sen (789 dòng).\n",
      "Đang xử lý: CTCP Thép Nam Kim (NKG)\n",
      "❌ Lỗi khi lấy dữ liệu cho CTCP Thép Nam Kim (thử lại 1/5): HTTP Error 401: \n",
      "❌ Lỗi khi lấy dữ liệu cho CTCP Thép Nam Kim (thử lại 2/5): HTTP Error 401: \n"
     ]
    },
    {
     "name": "stderr",
     "output_type": "stream",
     "text": [
      "$NKG: possibly delisted; no timezone found\n"
     ]
    },
    {
     "name": "stdout",
     "output_type": "stream",
     "text": [
      "⚠️ Dữ liệu của CTCP Thép Nam Kim (NKG) ít hơn 1000 dòng. Thử mã với đuôi .VN.\n",
      "✅ Đã tìm thấy dữ liệu cho CTCP Thép Nam Kim với mã NKG.VN.\n",
      "✅ Đã lưu dữ liệu cho CTCP Thép Nam Kim (1499 dòng).\n"
     ]
    },
    {
     "name": "stderr",
     "output_type": "stream",
     "text": [
      "C:\\Users\\hype1\\AppData\\Local\\Temp\\ipykernel_34328\\3301946889.py:50: FutureWarning: The behavior of array concatenation with empty entries is deprecated. In a future version, this will no longer exclude empty items when determining the result dtype. To retain the old behavior, exclude the empty entries before the concat operation.\n",
      "  data = pd.concat([data, data_vn.iloc[:, :5]])\n"
     ]
    },
    {
     "name": "stdout",
     "output_type": "stream",
     "text": [
      "Đang xử lý: CTCP Tập đoàn Thép Tiến Lên (TLH)\n",
      "✅ Đã lưu dữ liệu cho CTCP Tập đoàn Thép Tiến Lên (1509 dòng).\n",
      "Đang xử lý: CTCP Tập đoàn Đại Thiên Lộc (DTL)\n",
      "⚠️ Dữ liệu của CTCP Tập đoàn Đại Thiên Lộc (DTL) ít hơn 1000 dòng. Thử mã với đuôi .VN.\n",
      "✅ Đã tìm thấy dữ liệu cho CTCP Tập đoàn Đại Thiên Lộc với mã DTL.VN.\n",
      "✅ Đã lưu dữ liệu cho CTCP Tập đoàn Đại Thiên Lộc (1107 dòng).\n"
     ]
    },
    {
     "name": "stderr",
     "output_type": "stream",
     "text": [
      "$VCA: possibly delisted; no price data found  (1d 2019-01-01 -> 2024-12-31)\n"
     ]
    },
    {
     "name": "stdout",
     "output_type": "stream",
     "text": [
      "Đang xử lý: CTCP Thép VICASA - VNSTEEL (VCA)\n",
      "⚠️ Dữ liệu của CTCP Thép VICASA - VNSTEEL (VCA) ít hơn 1000 dòng. Thử mã với đuôi .VN.\n"
     ]
    },
    {
     "name": "stderr",
     "output_type": "stream",
     "text": [
      "C:\\Users\\hype1\\AppData\\Local\\Temp\\ipykernel_34328\\3301946889.py:50: FutureWarning: The behavior of array concatenation with empty entries is deprecated. In a future version, this will no longer exclude empty items when determining the result dtype. To retain the old behavior, exclude the empty entries before the concat operation.\n",
      "  data = pd.concat([data, data_vn.iloc[:, :5]])\n"
     ]
    },
    {
     "name": "stdout",
     "output_type": "stream",
     "text": [
      "✅ Đã tìm thấy dữ liệu cho CTCP Thép VICASA - VNSTEEL với mã VCA.VN.\n",
      "✅ Đã lưu dữ liệu cho CTCP Thép VICASA - VNSTEEL (311 dòng).\n",
      "Đang xử lý: CTCP Xi măng Bỉm Sơn (BCC)\n",
      "✅ Đã lưu dữ liệu cho CTCP Xi măng Bỉm Sơn (1509 dòng).\n",
      "Đang xử lý: CTCP Xi măng Vicem Hoàng Mai (HOM)\n",
      "⚠️ Dữ liệu của CTCP Xi măng Vicem Hoàng Mai (HOM) ít hơn 1000 dòng. Thử mã với đuôi .VN.\n"
     ]
    },
    {
     "name": "stderr",
     "output_type": "stream",
     "text": [
      "$HOM.VN: possibly delisted; no timezone found\n"
     ]
    },
    {
     "name": "stdout",
     "output_type": "stream",
     "text": [
      "✅ Đã lưu dữ liệu cho CTCP Xi măng Vicem Hoàng Mai (448 dòng).\n",
      "Đang xử lý: CTCP Gạch men Vicenza (VGC)\n",
      "⚠️ Dữ liệu của CTCP Gạch men Vicenza (VGC) ít hơn 1000 dòng. Thử mã với đuôi .VN.\n",
      "❌ Lỗi khi lấy dữ liệu cho CTCP Gạch men Vicenza : Length mismatch: Expected axis has 2 elements, new values have 1 elements\n",
      "✅ Đã lưu dữ liệu cho CTCP Gạch men Vicenza (685 dòng).\n",
      "Đang xử lý: CTCP VLXD Viglacera Thăng Long (TLT)\n",
      "✅ Đã lưu dữ liệu cho CTCP VLXD Viglacera Thăng Long (1509 dòng).\n",
      "Đang xử lý: CTCP VLXD Viglacera Đông Triều (DTC)\n",
      "⚠️ Dữ liệu của CTCP VLXD Viglacera Đông Triều (DTC) ít hơn 1000 dòng. Thử mã với đuôi .VN.\n"
     ]
    },
    {
     "name": "stderr",
     "output_type": "stream",
     "text": [
      "$DTC.VN: possibly delisted; no timezone found\n"
     ]
    },
    {
     "name": "stdout",
     "output_type": "stream",
     "text": [
      "✅ Đã lưu dữ liệu cho CTCP VLXD Viglacera Đông Triều (797 dòng).\n",
      "Đang xử lý: CTCP Tập đoàn Phú Tài (PTB)\n",
      "⚠️ Dữ liệu của CTCP Tập đoàn Phú Tài (PTB) ít hơn 1000 dòng. Thử mã với đuôi .VN.\n",
      "❌ Lỗi khi lấy dữ liệu cho CTCP Tập đoàn Phú Tài : Length mismatch: Expected axis has 2 elements, new values have 1 elements\n",
      "✅ Đã lưu dữ liệu cho CTCP Tập đoàn Phú Tài (786 dòng).\n",
      "Đang xử lý: CTCP Hóa chất Cơ bản miền Nam (CSV)\n",
      "✅ Đã lưu dữ liệu cho CTCP Hóa chất Cơ bản miền Nam (1509 dòng).\n",
      "Đang xử lý: CTCP Hóa chất Đức Giang – Lào Cai (DGL)\n",
      "✅ Đã lưu dữ liệu cho CTCP Hóa chất Đức Giang – Lào Cai (1059 dòng).\n",
      "\n",
      "✅ Hoàn thành.\n"
     ]
    }
   ],
   "source": [
    "import yfinance as yf\n",
    "import pandas as pd\n",
    "import json\n",
    "import time\n",
    "\n",
    "# Danh sách các mã cổ phiếu của các công ty\n",
    "companies = {\n",
    "    #Thép\n",
    "    \"Hòa Phát\": \"HPG\",\n",
    "    \"Tập đoàn Hoa Sen\": \"HSG\",\n",
    "    \"CTCP Thép Nam Kim\": \"NKG\",\n",
    "    \"CTCP Tập đoàn Thép Tiến Lên\": \"TLH\",\n",
    "    \"CTCP Tập đoàn Đại Thiên Lộc\": \"DTL\",\n",
    "    \"CTCP Thép VICASA - VNSTEEL\": \"VCA\",\n",
    "    \"CTCP Xi măng Bỉm Sơn\": \"BCC\",\n",
    "    \"CTCP Xi măng Vicem Hoàng Mai\": \"HOM\",\n",
    "    \"CTCP Gạch men Vicenza\": \"VGC\",\n",
    "    \"CTCP VLXD Viglacera Thăng Long\": \"TLT\",\n",
    "    \"CTCP VLXD Viglacera Đông Triều\": \"DTC\",\n",
    "    \"CTCP Tập đoàn Phú Tài\": \"PTB\",\n",
    "    \"CTCP Hóa chất Cơ bản miền Nam\": \"CSV\",\n",
    "    \"CTCP Hóa chất Đức Giang – Lào Cai\": \"DGL\"\n",
    "}\n",
    "\n",
    "max_retries = 5\n",
    "    \n",
    "for company_name, ticker_symbol in companies.items():\n",
    "    print(f\"Đang xử lý: {company_name} ({ticker_symbol})\")\n",
    "    \n",
    "    success = False\n",
    "    retries = 0\n",
    "    while not success and retries < max_retries:\n",
    "        try:\n",
    "            # Lấy dữ liệu từ 2019 đến 2024 từ mã cổ phiếu ban đầu\n",
    "            ticker = yf.Ticker(ticker_symbol)\n",
    "            data = ticker.history(start=\"2019-01-01\", end=\"2024-12-31\", interval=\"1d\").iloc[:, :5]\n",
    "            # Kiểm tra nếu dữ liệu có ít hơn 1000 dòng\n",
    "            if len(data) < 1000:\n",
    "                print(f\"⚠️ Dữ liệu của {company_name} ({ticker_symbol}) ít hơn 1000 dòng. Thử mã với đuôi .VN.\")\n",
    "                ticker_symbol_vn = ticker_symbol + \".VN\"\n",
    "                ticker = yf.Ticker(ticker_symbol_vn)\n",
    "                try:\n",
    "                    data_vn = ticker.history(start=\"2019-01-01\", end=\"2024-12-31\", interval=\"1d\")\n",
    "                except Exception as e:\n",
    "                    print(f\"❌ Lỗi khi lấy dữ liệu cho {company_name} : {e}\")\n",
    "\n",
    "                # Gộp dữ liệu từ mã gốc và mã .VN nếu có dữ liệu\n",
    "                if data_vn is not None and not data_vn.empty:\n",
    "                    print(f\"✅ Đã tìm thấy dữ liệu cho {company_name} với mã {ticker_symbol}.VN.\")\n",
    "                    data = pd.concat([data, data_vn.iloc[:, :5]])\n",
    "                    data = data.loc[~data.index.duplicated(keep='last')]  # Loại bỏ các dòng trùng lặp\n",
    "                    data_vn = None\n",
    "    \n",
    "            # Dữ liệu không trống, tiếp tục dù số dòng ít\n",
    "            if data.empty:\n",
    "                print(f\"⚠️ Không có dữ liệu cho {company_name} ({ticker_symbol}). Bỏ qua.\")\n",
    "                break\n",
    "\n",
    "            # Làm sạch dữ liệu, chuyển định dạng cột Date (bỏ giờ và timezone)\n",
    "            data = data.reset_index()\n",
    "            data['Date'] = pd.to_datetime(data['Date'], utc=True).dt.date\n",
    "            data = data.set_index('Date')\n",
    "\n",
    "            # Lưu vào file CSV\n",
    "            filename = f\"stock data/{company_name}_stock_data.csv\"\n",
    "            data.to_csv(filename)\n",
    "\n",
    "            print(f\"✅ Đã lưu dữ liệu cho {company_name} ({len(data)} dòng).\")\n",
    "            data = None\n",
    "            success = True  # Gắn cờ thành công\n",
    "    \n",
    "        except Exception as e:\n",
    "            retries += 1\n",
    "            print(f\"❌ Lỗi khi lấy dữ liệu cho {company_name} (thử lại {retries}/{max_retries}): {e}\")\n",
    "            if retries >= max_retries:\n",
    "                print(f\"⚠️ Đã thử {max_retries} lần mà không thành công. Bỏ qua {company_name}.\")\n",
    "            time.sleep(2)  # Delay ngắn giữa các lần thử lại\n",
    "    \n",
    "    time.sleep(3)  # Delay giữa các công ty\n",
    "    \n",
    "# Lưu danh sách công ty hợp lệ và không hợp lệ\n",
    "print(\"\\n✅ Hoàn thành.\")"
   ]
  }
 ],
 "metadata": {
  "kernelspec": {
   "display_name": "Python 3 (ipykernel)",
   "language": "python",
   "name": "python3"
  },
  "language_info": {
   "codemirror_mode": {
    "name": "ipython",
    "version": 3
   },
   "file_extension": ".py",
   "mimetype": "text/x-python",
   "name": "python",
   "nbconvert_exporter": "python",
   "pygments_lexer": "ipython3",
   "version": "3.12.6"
  }
 },
 "nbformat": 4,
 "nbformat_minor": 5
}
