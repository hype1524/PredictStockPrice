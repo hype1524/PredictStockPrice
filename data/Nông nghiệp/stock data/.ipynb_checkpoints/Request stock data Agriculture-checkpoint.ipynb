{
 "cells": [
  {
   "cell_type": "code",
   "execution_count": 2,
   "id": "5543fc7c-1098-44d0-8e6e-b9eacdba2185",
   "metadata": {},
   "outputs": [
    {
     "name": "stdout",
     "output_type": "stream",
     "text": [
      "Đang xử lý: Hoàng Anh Gia Lai (HAG)\n",
      "⚠️ Dữ liệu của Hoàng Anh Gia Lai (HAG) ít hơn 1000 dòng. Thử mã với đuôi .VN.\n",
      "✅ Đã tìm thấy dữ liệu cho Hoàng Anh Gia Lai với mã HAG.VN.\n",
      "✅ Đã lưu dữ liệu cho Hoàng Anh Gia Lai (1142 dòng).\n",
      "Đang xử lý: Tập đoàn PAN (PAN)\n",
      "⚠️ Dữ liệu của Tập đoàn PAN (PAN) ít hơn 1000 dòng. Thử mã với đuôi .VN.\n",
      "❌ Lỗi khi lấy dữ liệu cho Tập đoàn PAN : Length mismatch: Expected axis has 2 elements, new values have 1 elements\n",
      "✅ Đã lưu dữ liệu cho Tập đoàn PAN (700 dòng).\n",
      "Đang xử lý: Dabaco Việt Nam (DBC)\n",
      "✅ Đã lưu dữ liệu cho Dabaco Việt Nam (1509 dòng).\n",
      "Đang xử lý: Giống cây trồng Trung Ương (NSC)\n",
      "✅ Đã lưu dữ liệu cho Giống cây trồng Trung Ương (1509 dòng).\n",
      "Đang xử lý: Mía đường Lam Sơn (LSS)\n",
      "⚠️ Dữ liệu của Mía đường Lam Sơn (LSS) ít hơn 1000 dòng. Thử mã với đuôi .VN.\n",
      "✅ Đã tìm thấy dữ liệu cho Mía đường Lam Sơn với mã LSS.VN.\n",
      "✅ Đã lưu dữ liệu cho Mía đường Lam Sơn (2284 dòng).\n",
      "Đang xử lý: Mía đường Thành Thành Công Tây Ninh (SBT)\n",
      "✅ Đã lưu dữ liệu cho Mía đường Thành Thành Công Tây Ninh (1509 dòng).\n",
      "Đang xử lý: Mía đường Sơn La (SLS)\n",
      "✅ Đã lưu dữ liệu cho Mía đường Sơn La (1509 dòng).\n",
      "Đang xử lý: Mía đường Sóc Trăng (SLS)\n",
      "✅ Đã lưu dữ liệu cho Mía đường Sóc Trăng (1509 dòng).\n",
      "Đang xử lý: Thực phẩm Sao Ta (FMC)\n",
      "✅ Đã lưu dữ liệu cho Thực phẩm Sao Ta (1509 dòng).\n",
      "Đang xử lý: Nông nghiệp Quốc tế Hoàng Anh Gia Lai (HNG)\n",
      "⚠️ Dữ liệu của Nông nghiệp Quốc tế Hoàng Anh Gia Lai (HNG) ít hơn 1000 dòng. Thử mã với đuôi .VN.\n"
     ]
    },
    {
     "name": "stderr",
     "output_type": "stream",
     "text": [
      "$HNG.VN: possibly delisted; no timezone found\n"
     ]
    },
    {
     "name": "stdout",
     "output_type": "stream",
     "text": [
      "✅ Đã lưu dữ liệu cho Nông nghiệp Quốc tế Hoàng Anh Gia Lai (794 dòng).\n",
      "Đang xử lý: Thực phẩm Cholimex (CMF)\n",
      "✅ Đã lưu dữ liệu cho Thực phẩm Cholimex (1509 dòng).\n",
      "Đang xử lý: Giống cây trồng Miền Nam (SSC)\n",
      "⚠️ Dữ liệu của Giống cây trồng Miền Nam (SSC) ít hơn 1000 dòng. Thử mã với đuôi .VN.\n",
      "❌ Lỗi khi lấy dữ liệu cho Giống cây trồng Miền Nam : Length mismatch: Expected axis has 2 elements, new values have 1 elements\n",
      "✅ Đã lưu dữ liệu cho Giống cây trồng Miền Nam (675 dòng).\n",
      "Đang xử lý: Công ty cổ phần Vĩnh Hoàn (VHC)\n",
      "✅ Đã lưu dữ liệu cho Công ty cổ phần Vĩnh Hoàn (1509 dòng).\n",
      "Đang xử lý: Công ty cổ phần Nam Việt (ANV)\n",
      "⚠️ Dữ liệu của Công ty cổ phần Nam Việt (ANV) ít hơn 1000 dòng. Thử mã với đuôi .VN.\n",
      "❌ Lỗi khi lấy dữ liệu cho Công ty cổ phần Nam Việt : Length mismatch: Expected axis has 2 elements, new values have 1 elements\n",
      "✅ Đã lưu dữ liệu cho Công ty cổ phần Nam Việt (786 dòng).\n",
      "Đang xử lý: Công ty cổ phần Thủy sản Minh Phú (MPC)\n",
      "✅ Đã lưu dữ liệu cho Công ty cổ phần Thủy sản Minh Phú (1509 dòng).\n",
      "Đang xử lý: Công ty cổ phần Thực phẩm Bích Chi (BFC)\n",
      "✅ Đã lưu dữ liệu cho Công ty cổ phần Thực phẩm Bích Chi (1509 dòng).\n",
      "Đang xử lý: Công ty cổ phần Tập đoàn Lộc Trời (LTG)\n",
      "⚠️ Dữ liệu của Công ty cổ phần Tập đoàn Lộc Trời (LTG) ít hơn 1000 dòng. Thử mã với đuôi .VN.\n"
     ]
    },
    {
     "name": "stderr",
     "output_type": "stream",
     "text": [
      "$LTG.VN: possibly delisted; no timezone found\n"
     ]
    },
    {
     "name": "stdout",
     "output_type": "stream",
     "text": [
      "✅ Đã lưu dữ liệu cho Công ty cổ phần Tập đoàn Lộc Trời (108 dòng).\n",
      "Đang xử lý: CTCP Nông nghiệp BaF Việt Nam (BAF)\n"
     ]
    },
    {
     "name": "stderr",
     "output_type": "stream",
     "text": [
      "$BAF: possibly delisted; no timezone found\n"
     ]
    },
    {
     "name": "stdout",
     "output_type": "stream",
     "text": [
      "⚠️ Dữ liệu của CTCP Nông nghiệp BaF Việt Nam (BAF) ít hơn 1000 dòng. Thử mã với đuôi .VN.\n",
      "✅ Đã tìm thấy dữ liệu cho CTCP Nông nghiệp BaF Việt Nam với mã BAF.VN.\n",
      "✅ Đã lưu dữ liệu cho CTCP Nông nghiệp BaF Việt Nam (765 dòng).\n"
     ]
    },
    {
     "name": "stderr",
     "output_type": "stream",
     "text": [
      "C:\\Users\\hype1\\AppData\\Local\\Temp\\ipykernel_41700\\2325532569.py:65: FutureWarning: The behavior of array concatenation with empty entries is deprecated. In a future version, this will no longer exclude empty items when determining the result dtype. To retain the old behavior, exclude the empty entries before the concat operation.\n",
      "  data = pd.concat([data, data_vn.iloc[:, :5]])\n"
     ]
    },
    {
     "name": "stdout",
     "output_type": "stream",
     "text": [
      "Đang xử lý: CTCP Dược phẩm Cửu Long (DCL)\n",
      "⚠️ Dữ liệu của CTCP Dược phẩm Cửu Long (DCL) ít hơn 1000 dòng. Thử mã với đuôi .VN.\n",
      "✅ Đã tìm thấy dữ liệu cho CTCP Dược phẩm Cửu Long với mã DCL.VN.\n",
      "✅ Đã lưu dữ liệu cho CTCP Dược phẩm Cửu Long (1142 dòng).\n",
      "Đang xử lý: CTCP Thuốc sát trùng Việt Nam (VFG)\n",
      "⚠️ Dữ liệu của CTCP Thuốc sát trùng Việt Nam (VFG) ít hơn 1000 dòng. Thử mã với đuôi .VN.\n",
      "❌ Lỗi khi lấy dữ liệu cho CTCP Thuốc sát trùng Việt Nam : Length mismatch: Expected axis has 2 elements, new values have 1 elements\n",
      "✅ Đã lưu dữ liệu cho CTCP Thuốc sát trùng Việt Nam (678 dòng).\n",
      "Đang xử lý: CTCP XNK Thủy sản Bến Tre (ABT)\n",
      "✅ Đã lưu dữ liệu cho CTCP XNK Thủy sản Bến Tre (1509 dòng).\n",
      "Đang xử lý: CTCP XNK An Giang (AGM)\n",
      "✅ Đã lưu dữ liệu cho CTCP XNK An Giang (1509 dòng).\n",
      "Đang xử lý: CTCP Chế biến Thực phẩm Xuất khẩu miền Tây (WCF)\n",
      "⚠️ Dữ liệu của CTCP Chế biến Thực phẩm Xuất khẩu miền Tây (WCF) ít hơn 1000 dòng. Thử mã với đuôi .VN.\n"
     ]
    },
    {
     "name": "stderr",
     "output_type": "stream",
     "text": [
      "$WCF.VN: possibly delisted; no timezone found\n"
     ]
    },
    {
     "name": "stdout",
     "output_type": "stream",
     "text": [
      "✅ Đã lưu dữ liệu cho CTCP Chế biến Thực phẩm Xuất khẩu miền Tây (4 dòng).\n",
      "Đang xử lý: CTCP Chế biến Gỗ Đức Thành (GDT)\n",
      "⚠️ Dữ liệu của CTCP Chế biến Gỗ Đức Thành (GDT) ít hơn 1000 dòng. Thử mã với đuôi .VN.\n",
      "❌ Lỗi khi lấy dữ liệu cho CTCP Chế biến Gỗ Đức Thành : Length mismatch: Expected axis has 2 elements, new values have 1 elements\n",
      "✅ Đã lưu dữ liệu cho CTCP Chế biến Gỗ Đức Thành (790 dòng).\n",
      "Đang xử lý: CTCP Chăn nuôi C.P. Việt Nam (CPV)\n",
      "⚠️ Dữ liệu của CTCP Chăn nuôi C.P. Việt Nam (CPV) ít hơn 1000 dòng. Thử mã với đuôi .VN.\n"
     ]
    },
    {
     "name": "stderr",
     "output_type": "stream",
     "text": [
      "$CPV.VN: possibly delisted; no timezone found\n"
     ]
    },
    {
     "name": "stdout",
     "output_type": "stream",
     "text": [
      "✅ Đã lưu dữ liệu cho CTCP Chăn nuôi C.P. Việt Nam (108 dòng).\n",
      "Đang xử lý: CTCP Tập đoàn Dược Bảo Châu (BCP)\n",
      "⚠️ Dữ liệu của CTCP Tập đoàn Dược Bảo Châu (BCP) ít hơn 1000 dòng. Thử mã với đuôi .VN.\n"
     ]
    },
    {
     "name": "stderr",
     "output_type": "stream",
     "text": [
      "$BCP.VN: possibly delisted; no timezone found\n"
     ]
    },
    {
     "name": "stdout",
     "output_type": "stream",
     "text": [
      "✅ Đã lưu dữ liệu cho CTCP Tập đoàn Dược Bảo Châu (790 dòng).\n",
      "Đang xử lý: CTCP Tập đoàn Sao Mai (ASM)\n",
      "✅ Đã lưu dữ liệu cho CTCP Tập đoàn Sao Mai (1509 dòng).\n",
      "Đang xử lý: CTCP Dầu thực vật Tường An (TAC)\n",
      "✅ Đã lưu dữ liệu cho CTCP Dầu thực vật Tường An (1509 dòng).\n",
      "Đang xử lý: CTCP Dầu thực vật Cái Lân (VOC)\n",
      "✅ Đã lưu dữ liệu cho CTCP Dầu thực vật Cái Lân (1509 dòng).\n",
      "\n",
      "✅ Hoàn thành.\n"
     ]
    }
   ],
   "source": [
    "import yfinance as yf\n",
    "import pandas as pd\n",
    "import json\n",
    "import time\n",
    "\n",
    "# Danh sách các mã cổ phiếu của các công ty\n",
    "companies = {\n",
    "    # Nông nghiệp\n",
    "    \"Hoàng Anh Gia Lai\": \"HAG\",\n",
    "    \"Tập đoàn PAN\": \"PAN\",\n",
    "    \"Dabaco Việt Nam\": \"DBC\",\n",
    "    \"Giống cây trồng Trung Ương\": \"NSC\",\n",
    "    \"Mía đường Lam Sơn\": \"LSS\",\n",
    "    \"Mía đường Thành Thành Công Tây Ninh\": \"SBT\",\n",
    "    \"Mía đường Sơn La\": \"SLS\",\n",
    "    \"Mía đường Sóc Trăng\": \"SLS\",\n",
    "    \"Thực phẩm Sao Ta\": \"FMC\",\n",
    "    \"Nông nghiệp Quốc tế Hoàng Anh Gia Lai\": \"HNG\",\n",
    "    \"Thực phẩm Cholimex\": \"CMF\",\n",
    "    \"Giống cây trồng Miền Nam\": \"SSC\",\n",
    "    \"Công ty cổ phần Vĩnh Hoàn\": \"VHC\",\n",
    "    \"Công ty cổ phần Nam Việt\": \"ANV\",\n",
    "    \"Công ty cổ phần Thủy sản Minh Phú\": \"MPC\",\n",
    "    \"Công ty cổ phần Thực phẩm Bích Chi\": \"BFC\",\n",
    "    \"Công ty cổ phần Tập đoàn Lộc Trời\": \"LTG\",\n",
    "    \"CTCP Nông nghiệp BaF Việt Nam\": \"BAF\",\n",
    "    \"CTCP Dược phẩm Cửu Long\": \"DCL\",\n",
    "    \"CTCP Thuốc sát trùng Việt Nam\": \"VFG\",\n",
    "    \"CTCP XNK Thủy sản Bến Tre\": \"ABT\",\n",
    "    \"CTCP XNK An Giang\": \"AGM\",\n",
    "    \"CTCP Chế biến Gỗ Đức Thành\": \"GDT\",\n",
    "    \"CTCP Tập đoàn Dược Bảo Châu\": \"BCP\",\n",
    "    \"CTCP Tập đoàn Sao Mai\": \"ASM\",\n",
    "    \"CTCP Dầu thực vật Tường An\": \"TAC\",\n",
    "    \"CTCP Dầu thực vật Cái Lân\": \"VOC\"\n",
    "}\n",
    "max_retries = 5\n",
    "    \n",
    "for company_name, ticker_symbol in companies.items():\n",
    "    print(f\"Đang xử lý: {company_name} ({ticker_symbol})\")\n",
    "    \n",
    "    success = False\n",
    "    retries = 0\n",
    "    while not success and retries < max_retries:\n",
    "        try:\n",
    "            # Lấy dữ liệu từ 2019 đến 2024 từ mã cổ phiếu ban đầu\n",
    "            ticker = yf.Ticker(ticker_symbol)\n",
    "            data = ticker.history(start=\"2019-01-01\", end=\"2024-12-31\", interval=\"1d\").iloc[:, :5]\n",
    "            # Kiểm tra nếu dữ liệu có ít hơn 1000 dòng\n",
    "            if len(data) < 1000:\n",
    "                print(f\"⚠️ Dữ liệu của {company_name} ({ticker_symbol}) ít hơn 1000 dòng. Thử mã với đuôi .VN.\")\n",
    "                ticker_symbol_vn = ticker_symbol + \".VN\"\n",
    "                ticker = yf.Ticker(ticker_symbol_vn)\n",
    "                try:\n",
    "                    data_vn = ticker.history(start=\"2019-01-01\", end=\"2024-12-31\", interval=\"1d\")\n",
    "                except Exception as e:\n",
    "                    print(f\"❌ Lỗi khi lấy dữ liệu cho {company_name} : {e}\")\n",
    "\n",
    "                # Gộp dữ liệu từ mã gốc và mã .VN nếu có dữ liệu\n",
    "                if data_vn is not None and not data_vn.empty:\n",
    "                    print(f\"✅ Đã tìm thấy dữ liệu cho {company_name} với mã {ticker_symbol}.VN.\")\n",
    "                    data = pd.concat([data, data_vn.iloc[:, :5]])\n",
    "                    data = data.loc[~data.index.duplicated(keep='last')]  # Loại bỏ các dòng trùng lặp\n",
    "                    data_vn = None\n",
    "    \n",
    "            # Dữ liệu không trống, tiếp tục dù số dòng ít\n",
    "            if data.empty:\n",
    "                print(f\"⚠️ Không có dữ liệu cho {company_name} ({ticker_symbol}). Bỏ qua.\")\n",
    "                break\n",
    "\n",
    "            # Làm sạch dữ liệu, chuyển định dạng cột Date (bỏ giờ và timezone)\n",
    "            data = data.reset_index()\n",
    "            data['Date'] = pd.to_datetime(data['Date'], utc=True).dt.date\n",
    "            data = data.set_index('Date')\n",
    "\n",
    "            # Lưu vào file CSV\n",
    "            filename = f\"{company_name}_stock_data.csv\"\n",
    "            data.to_csv(filename)\n",
    "\n",
    "            print(f\"✅ Đã lưu dữ liệu cho {company_name} ({len(data)} dòng).\")\n",
    "            data = None\n",
    "            success = True  # Gắn cờ thành công\n",
    "    \n",
    "        except Exception as e:\n",
    "            retries += 1\n",
    "            print(f\"❌ Lỗi khi lấy dữ liệu cho {company_name} (thử lại {retries}/{max_retries}): {e}\")\n",
    "            if retries >= max_retries:\n",
    "                print(f\"⚠️ Đã thử {max_retries} lần mà không thành công. Bỏ qua {company_name}.\")\n",
    "            time.sleep(2)  # Delay ngắn giữa các lần thử lại\n",
    "    \n",
    "    time.sleep(3)  # Delay giữa các công ty\n",
    "    \n",
    "# Lưu danh sách công ty hợp lệ và không hợp lệ\n",
    "print(\"\\n✅ Hoàn thành.\")"
   ]
  },
  {
   "cell_type": "code",
   "execution_count": null,
   "id": "1ecca06d-f64b-4f5e-8e6f-77cfeeb161c0",
   "metadata": {},
   "outputs": [],
   "source": []
  }
 ],
 "metadata": {
  "kernelspec": {
   "display_name": "Python 3 (ipykernel)",
   "language": "python",
   "name": "python3"
  },
  "language_info": {
   "codemirror_mode": {
    "name": "ipython",
    "version": 3
   },
   "file_extension": ".py",
   "mimetype": "text/x-python",
   "name": "python",
   "nbconvert_exporter": "python",
   "pygments_lexer": "ipython3",
   "version": "3.12.6"
  }
 },
 "nbformat": 4,
 "nbformat_minor": 5
}
