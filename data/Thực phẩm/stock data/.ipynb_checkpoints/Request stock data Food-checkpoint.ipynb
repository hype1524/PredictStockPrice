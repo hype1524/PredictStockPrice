{
 "cells": [
  {
   "cell_type": "code",
   "execution_count": 2,
   "id": "5543fc7c-1098-44d0-8e6e-b9eacdba2185",
   "metadata": {},
   "outputs": [
    {
     "name": "stdout",
     "output_type": "stream",
     "text": [
      "Đang xử lý: Vinamilk (VNM)\n",
      "✅ Đã lưu dữ liệu cho Vinamilk (1509 dòng).\n",
      "Đang xử lý: CTCP Sữa TH True Milk (THM)\n",
      "✅ Đã lưu dữ liệu cho CTCP Sữa TH True Milk (1509 dòng).\n",
      "Đang xử lý: CTCP Bánh kẹo Bibica (BBC)\n",
      "✅ Đã lưu dữ liệu cho CTCP Bánh kẹo Bibica (1509 dòng).\n",
      "Đang xử lý: CTCP Bao bì Dược (BMP)\n",
      "⚠️ Dữ liệu của CTCP Bao bì Dược (BMP) ít hơn 1000 dòng. Thử mã với đuôi .VN.\n",
      "❌ Lỗi khi lấy dữ liệu cho CTCP Bao bì Dược : Length mismatch: Expected axis has 2 elements, new values have 1 elements\n",
      "✅ Đã lưu dữ liệu cho CTCP Bao bì Dược (786 dòng).\n",
      "Đang xử lý: CTCP Tập đoàn Masan (MSN)\n",
      "✅ Đã lưu dữ liệu cho CTCP Tập đoàn Masan (1509 dòng).\n"
     ]
    },
    {
     "name": "stderr",
     "output_type": "stream",
     "text": [
      "$MCH.VN: possibly delisted; no timezone found\n"
     ]
    },
    {
     "name": "stdout",
     "output_type": "stream",
     "text": [
      "Đang xử lý: CTCP Masan Consumer (MCH)\n",
      "⚠️ Dữ liệu của CTCP Masan Consumer (MCH) ít hơn 1000 dòng. Thử mã với đuôi .VN.\n",
      "✅ Đã lưu dữ liệu cho CTCP Masan Consumer (620 dòng).\n",
      "Đang xử lý: CTCP Thực phẩm Cholimex (CMF)\n",
      "✅ Đã lưu dữ liệu cho CTCP Thực phẩm Cholimex (1509 dòng).\n",
      "Đang xử lý: CTCP Chăn nuôi Mitraco (MLS)\n",
      "⚠️ Dữ liệu của CTCP Chăn nuôi Mitraco (MLS) ít hơn 1000 dòng. Thử mã với đuôi .VN.\n"
     ]
    },
    {
     "name": "stderr",
     "output_type": "stream",
     "text": [
      "$MLS.VN: possibly delisted; no timezone found\n"
     ]
    },
    {
     "name": "stdout",
     "output_type": "stream",
     "text": [
      "✅ Đã lưu dữ liệu cho CTCP Chăn nuôi Mitraco (109 dòng).\n",
      "Đang xử lý: CTCP Chăn nuôi Phú Sơn (PSL)\n",
      "✅ Đã lưu dữ liệu cho CTCP Chăn nuôi Phú Sơn (1509 dòng).\n",
      "Đang xử lý: CTCP Chăn nuôi Tiến Nông (TNC)\n",
      "✅ Đã lưu dữ liệu cho CTCP Chăn nuôi Tiến Nông (1509 dòng).\n",
      "\n",
      "✅ Hoàn thành.\n"
     ]
    }
   ],
   "source": [
    "import yfinance as yf\n",
    "import pandas as pd\n",
    "import json\n",
    "import time\n",
    "\n",
    "# Danh sách các mã cổ phiếu của các công ty\n",
    "companies = {\n",
    "    #Thực phẩm\n",
    "    \"Vinamilk\": \"VNM\",\n",
    "    \"CTCP Sữa TH True Milk\": \"THM\",\n",
    "    \"CTCP Bánh kẹo Bibica\": \"BBC\",\n",
    "    \"CTCP Bao bì Dược\": \"BMP\",\n",
    "    \"CTCP Tập đoàn Masan\": \"MSN\",\n",
    "    \"CTCP Masan Consumer\": \"MCH\",\n",
    "    \"CTCP Thực phẩm Cholimex\": \"CMF\",\n",
    "    \"CTCP Chăn nuôi Mitraco\": \"MLS\",\n",
    "    \"CTCP Chăn nuôi Phú Sơn\": \"PSL\",\n",
    "    \"CTCP Chăn nuôi Tiến Nông\": \"TNC\"\n",
    "}\n",
    "\n",
    "max_retries = 5\n",
    "    \n",
    "for company_name, ticker_symbol in companies.items():\n",
    "    print(f\"Đang xử lý: {company_name} ({ticker_symbol})\")\n",
    "    \n",
    "    success = False\n",
    "    retries = 0\n",
    "    while not success and retries < max_retries:\n",
    "        try:\n",
    "            # Lấy dữ liệu từ 2019 đến 2024 từ mã cổ phiếu ban đầu\n",
    "            ticker = yf.Ticker(ticker_symbol)\n",
    "            data = ticker.history(start=\"2019-01-01\", end=\"2024-12-31\", interval=\"1d\").iloc[:, :5]\n",
    "            # Kiểm tra nếu dữ liệu có ít hơn 1000 dòng\n",
    "            if len(data) < 1000:\n",
    "                print(f\"⚠️ Dữ liệu của {company_name} ({ticker_symbol}) ít hơn 1000 dòng. Thử mã với đuôi .VN.\")\n",
    "                ticker_symbol_vn = ticker_symbol + \".VN\"\n",
    "                ticker = yf.Ticker(ticker_symbol_vn)\n",
    "                try:\n",
    "                    data_vn = ticker.history(start=\"2019-01-01\", end=\"2024-12-31\", interval=\"1d\")\n",
    "                except Exception as e:\n",
    "                    print(f\"❌ Lỗi khi lấy dữ liệu cho {company_name} : {e}\")\n",
    "\n",
    "                # Gộp dữ liệu từ mã gốc và mã .VN nếu có dữ liệu\n",
    "                if data_vn is not None and not data_vn.empty:\n",
    "                    print(f\"✅ Đã tìm thấy dữ liệu cho {company_name} với mã {ticker_symbol}.VN.\")\n",
    "                    data = pd.concat([data, data_vn.iloc[:, :5]])\n",
    "                    data = data.loc[~data.index.duplicated(keep='last')]  # Loại bỏ các dòng trùng lặp\n",
    "                    data_vn = None\n",
    "    \n",
    "            # Dữ liệu không trống, tiếp tục dù số dòng ít\n",
    "            if data.empty:\n",
    "                print(f\"⚠️ Không có dữ liệu cho {company_name} ({ticker_symbol}). Bỏ qua.\")\n",
    "                break\n",
    "\n",
    "            # Làm sạch dữ liệu, chuyển định dạng cột Date (bỏ giờ và timezone)\n",
    "            data = data.reset_index()\n",
    "            data['Date'] = pd.to_datetime(data['Date'], utc=True).dt.date\n",
    "            data = data.set_index('Date')\n",
    "\n",
    "            # Lưu vào file CSV\n",
    "            filename = f\"{company_name}_stock_data.csv\"\n",
    "            data.to_csv(filename)\n",
    "\n",
    "            print(f\"✅ Đã lưu dữ liệu cho {company_name} ({len(data)} dòng).\")\n",
    "            data = None\n",
    "            success = True  # Gắn cờ thành công\n",
    "    \n",
    "        except Exception as e:\n",
    "            retries += 1\n",
    "            print(f\"❌ Lỗi khi lấy dữ liệu cho {company_name} (thử lại {retries}/{max_retries}): {e}\")\n",
    "            if retries >= max_retries:\n",
    "                print(f\"⚠️ Đã thử {max_retries} lần mà không thành công. Bỏ qua {company_name}.\")\n",
    "            time.sleep(2)  # Delay ngắn giữa các lần thử lại\n",
    "    \n",
    "    time.sleep(3)  # Delay giữa các công ty\n",
    "    \n",
    "# Lưu danh sách công ty hợp lệ và không hợp lệ\n",
    "print(\"\\n✅ Hoàn thành.\")"
   ]
  }
 ],
 "metadata": {
  "kernelspec": {
   "display_name": "Python 3 (ipykernel)",
   "language": "python",
   "name": "python3"
  },
  "language_info": {
   "codemirror_mode": {
    "name": "ipython",
    "version": 3
   },
   "file_extension": ".py",
   "mimetype": "text/x-python",
   "name": "python",
   "nbconvert_exporter": "python",
   "pygments_lexer": "ipython3",
   "version": "3.12.6"
  }
 },
 "nbformat": 4,
 "nbformat_minor": 5
}
