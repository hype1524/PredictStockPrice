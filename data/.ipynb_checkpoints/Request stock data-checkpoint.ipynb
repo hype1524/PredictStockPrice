{
 "cells": [
  {
   "cell_type": "code",
   "execution_count": 13,
   "id": "5543fc7c-1098-44d0-8e6e-b9eacdba2185",
   "metadata": {},
   "outputs": [
    {
     "name": "stdout",
     "output_type": "stream",
     "text": [
      "Đang xử lý: Hoàng Anh Gia Lai (HAG)\n",
      "⚠️ Dữ liệu của Hoàng Anh Gia Lai (HAG) ít hơn 1000 dòng. Thử mã với đuôi .VN.\n",
      "✅ Đã tìm thấy dữ liệu cho Hoàng Anh Gia Lai với mã HAG.VN.\n",
      "✅ Đã lưu dữ liệu cho Hoàng Anh Gia Lai (1142 dòng).\n",
      "Đang xử lý: Tập đoàn PAN (PAN)\n",
      "⚠️ Dữ liệu của Tập đoàn PAN (PAN) ít hơn 1000 dòng. Thử mã với đuôi .VN.\n",
      "❌ Lỗi khi lấy dữ liệu cho Tập đoàn PAN : Length mismatch: Expected axis has 2 elements, new values have 1 elements\n",
      "✅ Đã lưu dữ liệu cho Tập đoàn PAN (700 dòng).\n",
      "Đang xử lý: Dabaco Việt Nam (DBC)\n",
      "✅ Đã lưu dữ liệu cho Dabaco Việt Nam (1509 dòng).\n",
      "Đang xử lý: Giống cây trồng Trung Ương (NSC)\n",
      "✅ Đã lưu dữ liệu cho Giống cây trồng Trung Ương (1509 dòng).\n",
      "Đang xử lý: Mía đường Lam Sơn (LSS)\n",
      "⚠️ Dữ liệu của Mía đường Lam Sơn (LSS) ít hơn 1000 dòng. Thử mã với đuôi .VN.\n",
      "✅ Đã tìm thấy dữ liệu cho Mía đường Lam Sơn với mã LSS.VN.\n",
      "✅ Đã lưu dữ liệu cho Mía đường Lam Sơn (2284 dòng).\n",
      "Đang xử lý: Mía đường Thành Thành Công Tây Ninh (SBT)\n",
      "✅ Đã lưu dữ liệu cho Mía đường Thành Thành Công Tây Ninh (1509 dòng).\n",
      "Đang xử lý: Mía đường Sơn La (SLS)\n",
      "✅ Đã lưu dữ liệu cho Mía đường Sơn La (1509 dòng).\n",
      "Đang xử lý: Mía đường Sóc Trăng (SLS)\n",
      "✅ Đã lưu dữ liệu cho Mía đường Sóc Trăng (1509 dòng).\n",
      "Đang xử lý: Thực phẩm Sao Ta (FMC)\n",
      "✅ Đã lưu dữ liệu cho Thực phẩm Sao Ta (1509 dòng).\n",
      "Đang xử lý: Nông nghiệp Quốc tế Hoàng Anh Gia Lai (HNG)\n",
      "⚠️ Dữ liệu của Nông nghiệp Quốc tế Hoàng Anh Gia Lai (HNG) ít hơn 1000 dòng. Thử mã với đuôi .VN.\n"
     ]
    },
    {
     "name": "stderr",
     "output_type": "stream",
     "text": [
      "$HNG.VN: possibly delisted; no timezone found\n"
     ]
    },
    {
     "name": "stdout",
     "output_type": "stream",
     "text": [
      "✅ Đã lưu dữ liệu cho Nông nghiệp Quốc tế Hoàng Anh Gia Lai (794 dòng).\n",
      "Đang xử lý: Thực phẩm Cholimex (CMF)\n",
      "✅ Đã lưu dữ liệu cho Thực phẩm Cholimex (1509 dòng).\n",
      "Đang xử lý: Thực phẩm Hữu Nghị (HNF)\n"
     ]
    },
    {
     "name": "stderr",
     "output_type": "stream",
     "text": [
      "$HNF: possibly delisted; no price data found  (1d 2019-01-01 -> 2024-12-31)\n"
     ]
    },
    {
     "name": "stdout",
     "output_type": "stream",
     "text": [
      "⚠️ Dữ liệu của Thực phẩm Hữu Nghị (HNF) ít hơn 1000 dòng. Thử mã với đuôi .VN.\n"
     ]
    },
    {
     "name": "stderr",
     "output_type": "stream",
     "text": [
      "$HNF.VN: possibly delisted; no timezone found\n"
     ]
    },
    {
     "name": "stdout",
     "output_type": "stream",
     "text": [
      "⚠️ Không có dữ liệu cho Thực phẩm Hữu Nghị (HNF). Bỏ qua.\n",
      "Đang xử lý: Giống cây trồng Miền Nam (SSC)\n",
      "⚠️ Dữ liệu của Giống cây trồng Miền Nam (SSC) ít hơn 1000 dòng. Thử mã với đuôi .VN.\n",
      "❌ Lỗi khi lấy dữ liệu cho Giống cây trồng Miền Nam : Length mismatch: Expected axis has 2 elements, new values have 1 elements\n",
      "✅ Đã lưu dữ liệu cho Giống cây trồng Miền Nam (675 dòng).\n",
      "Đang xử lý: Công ty cổ phần Vĩnh Hoàn (VHC)\n",
      "✅ Đã lưu dữ liệu cho Công ty cổ phần Vĩnh Hoàn (1509 dòng).\n",
      "Đang xử lý: Công ty cổ phần Nam Việt (ANV)\n",
      "⚠️ Dữ liệu của Công ty cổ phần Nam Việt (ANV) ít hơn 1000 dòng. Thử mã với đuôi .VN.\n",
      "❌ Lỗi khi lấy dữ liệu cho Công ty cổ phần Nam Việt : Length mismatch: Expected axis has 2 elements, new values have 1 elements\n",
      "✅ Đã lưu dữ liệu cho Công ty cổ phần Nam Việt (786 dòng).\n",
      "Đang xử lý: Công ty cổ phần Thủy sản Minh Phú (MPC)\n",
      "✅ Đã lưu dữ liệu cho Công ty cổ phần Thủy sản Minh Phú (1509 dòng).\n",
      "Đang xử lý: Công ty cổ phần Thực phẩm Bích Chi (BFC)\n",
      "✅ Đã lưu dữ liệu cho Công ty cổ phần Thực phẩm Bích Chi (1509 dòng).\n",
      "Đang xử lý: CTCP Nông nghiệp Công nghệ cao Trung An (TAR)\n"
     ]
    },
    {
     "name": "stderr",
     "output_type": "stream",
     "text": [
      "$TAR: possibly delisted; no price data found  (1d 2019-01-01 -> 2024-12-31)\n"
     ]
    },
    {
     "name": "stdout",
     "output_type": "stream",
     "text": [
      "⚠️ Dữ liệu của CTCP Nông nghiệp Công nghệ cao Trung An (TAR) ít hơn 1000 dòng. Thử mã với đuôi .VN.\n"
     ]
    },
    {
     "name": "stderr",
     "output_type": "stream",
     "text": [
      "$TAR.VN: possibly delisted; no timezone found\n"
     ]
    },
    {
     "name": "stdout",
     "output_type": "stream",
     "text": [
      "⚠️ Không có dữ liệu cho CTCP Nông nghiệp Công nghệ cao Trung An (TAR). Bỏ qua.\n",
      "Đang xử lý: Công ty cổ phần Tập đoàn Lộc Trời (LTG)\n",
      "⚠️ Dữ liệu của Công ty cổ phần Tập đoàn Lộc Trời (LTG) ít hơn 1000 dòng. Thử mã với đuôi .VN.\n"
     ]
    },
    {
     "name": "stderr",
     "output_type": "stream",
     "text": [
      "$LTG.VN: possibly delisted; no timezone found\n"
     ]
    },
    {
     "name": "stdout",
     "output_type": "stream",
     "text": [
      "✅ Đã lưu dữ liệu cho Công ty cổ phần Tập đoàn Lộc Trời (108 dòng).\n",
      "Đang xử lý: CTCP Nông nghiệp BaF Việt Nam (BAF)\n"
     ]
    },
    {
     "name": "stderr",
     "output_type": "stream",
     "text": [
      "$BAF: possibly delisted; no timezone found\n"
     ]
    },
    {
     "name": "stdout",
     "output_type": "stream",
     "text": [
      "⚠️ Dữ liệu của CTCP Nông nghiệp BaF Việt Nam (BAF) ít hơn 1000 dòng. Thử mã với đuôi .VN.\n",
      "✅ Đã tìm thấy dữ liệu cho CTCP Nông nghiệp BaF Việt Nam với mã BAF.VN.\n",
      "✅ Đã lưu dữ liệu cho CTCP Nông nghiệp BaF Việt Nam (765 dòng).\n"
     ]
    },
    {
     "name": "stderr",
     "output_type": "stream",
     "text": [
      "C:\\Users\\hype1\\AppData\\Local\\Temp\\ipykernel_35564\\2248697749.py:182: FutureWarning: The behavior of array concatenation with empty entries is deprecated. In a future version, this will no longer exclude empty items when determining the result dtype. To retain the old behavior, exclude the empty entries before the concat operation.\n",
      "  data = pd.concat([data, data_vn.iloc[:, :5]])\n"
     ]
    },
    {
     "name": "stdout",
     "output_type": "stream",
     "text": [
      "Đang xử lý: CTCP Dược phẩm Cửu Long (DCL)\n",
      "⚠️ Dữ liệu của CTCP Dược phẩm Cửu Long (DCL) ít hơn 1000 dòng. Thử mã với đuôi .VN.\n",
      "✅ Đã tìm thấy dữ liệu cho CTCP Dược phẩm Cửu Long với mã DCL.VN.\n",
      "✅ Đã lưu dữ liệu cho CTCP Dược phẩm Cửu Long (1142 dòng).\n",
      "Đang xử lý: CTCP Thuốc sát trùng Việt Nam (VFG)\n",
      "⚠️ Dữ liệu của CTCP Thuốc sát trùng Việt Nam (VFG) ít hơn 1000 dòng. Thử mã với đuôi .VN.\n",
      "❌ Lỗi khi lấy dữ liệu cho CTCP Thuốc sát trùng Việt Nam : Length mismatch: Expected axis has 2 elements, new values have 1 elements\n",
      "✅ Đã lưu dữ liệu cho CTCP Thuốc sát trùng Việt Nam (678 dòng).\n",
      "Đang xử lý: CTCP Thức ăn chăn nuôi Việt Thắng (VTF)\n"
     ]
    },
    {
     "name": "stderr",
     "output_type": "stream",
     "text": [
      "$VTF: possibly delisted; no price data found  (1d 2019-01-01 -> 2024-12-31)\n"
     ]
    },
    {
     "name": "stdout",
     "output_type": "stream",
     "text": [
      "⚠️ Dữ liệu của CTCP Thức ăn chăn nuôi Việt Thắng (VTF) ít hơn 1000 dòng. Thử mã với đuôi .VN.\n"
     ]
    },
    {
     "name": "stderr",
     "output_type": "stream",
     "text": [
      "$VTF.VN: possibly delisted; no timezone found\n"
     ]
    },
    {
     "name": "stdout",
     "output_type": "stream",
     "text": [
      "⚠️ Không có dữ liệu cho CTCP Thức ăn chăn nuôi Việt Thắng (VTF). Bỏ qua.\n",
      "Đang xử lý: CTCP XNK Thủy sản Bến Tre (ABT)\n",
      "✅ Đã lưu dữ liệu cho CTCP XNK Thủy sản Bến Tre (1509 dòng).\n",
      "Đang xử lý: CTCP XNK An Giang (AGM)\n",
      "✅ Đã lưu dữ liệu cho CTCP XNK An Giang (1509 dòng).\n",
      "Đang xử lý: CTCP Mía đường Cao Bằng (CBS)\n"
     ]
    },
    {
     "name": "stderr",
     "output_type": "stream",
     "text": [
      "$CBS: possibly delisted; no timezone found\n"
     ]
    },
    {
     "name": "stdout",
     "output_type": "stream",
     "text": [
      "⚠️ Dữ liệu của CTCP Mía đường Cao Bằng (CBS) ít hơn 1000 dòng. Thử mã với đuôi .VN.\n"
     ]
    },
    {
     "name": "stderr",
     "output_type": "stream",
     "text": [
      "$CBS.VN: possibly delisted; no timezone found\n"
     ]
    },
    {
     "name": "stdout",
     "output_type": "stream",
     "text": [
      "⚠️ Không có dữ liệu cho CTCP Mía đường Cao Bằng (CBS). Bỏ qua.\n",
      "Đang xử lý: CTCP Đường Quảng Ngãi (QNS)\n"
     ]
    },
    {
     "name": "stderr",
     "output_type": "stream",
     "text": [
      "$QNS: possibly delisted; no price data found  (1d 2019-01-01 -> 2024-12-31)\n"
     ]
    },
    {
     "name": "stdout",
     "output_type": "stream",
     "text": [
      "⚠️ Dữ liệu của CTCP Đường Quảng Ngãi (QNS) ít hơn 1000 dòng. Thử mã với đuôi .VN.\n"
     ]
    },
    {
     "name": "stderr",
     "output_type": "stream",
     "text": [
      "$QNS.VN: possibly delisted; no timezone found\n"
     ]
    },
    {
     "name": "stdout",
     "output_type": "stream",
     "text": [
      "⚠️ Không có dữ liệu cho CTCP Đường Quảng Ngãi (QNS). Bỏ qua.\n",
      "Đang xử lý: CTCP Chế biến Thực phẩm Xuất khẩu miền Tây (WCF)\n",
      "⚠️ Dữ liệu của CTCP Chế biến Thực phẩm Xuất khẩu miền Tây (WCF) ít hơn 1000 dòng. Thử mã với đuôi .VN.\n"
     ]
    },
    {
     "name": "stderr",
     "output_type": "stream",
     "text": [
      "$WCF.VN: possibly delisted; no timezone found\n"
     ]
    },
    {
     "name": "stdout",
     "output_type": "stream",
     "text": [
      "✅ Đã lưu dữ liệu cho CTCP Chế biến Thực phẩm Xuất khẩu miền Tây (4 dòng).\n",
      "Đang xử lý: CTCP Chế biến Gỗ Đức Thành (GDT)\n",
      "⚠️ Dữ liệu của CTCP Chế biến Gỗ Đức Thành (GDT) ít hơn 1000 dòng. Thử mã với đuôi .VN.\n",
      "❌ Lỗi khi lấy dữ liệu cho CTCP Chế biến Gỗ Đức Thành : Length mismatch: Expected axis has 2 elements, new values have 1 elements\n",
      "✅ Đã lưu dữ liệu cho CTCP Chế biến Gỗ Đức Thành (790 dòng).\n",
      "Đang xử lý: CTCP Chăn nuôi C.P. Việt Nam (CPV)\n",
      "⚠️ Dữ liệu của CTCP Chăn nuôi C.P. Việt Nam (CPV) ít hơn 1000 dòng. Thử mã với đuôi .VN.\n"
     ]
    },
    {
     "name": "stderr",
     "output_type": "stream",
     "text": [
      "$CPV.VN: possibly delisted; no timezone found\n"
     ]
    },
    {
     "name": "stdout",
     "output_type": "stream",
     "text": [
      "✅ Đã lưu dữ liệu cho CTCP Chăn nuôi C.P. Việt Nam (108 dòng).\n",
      "Đang xử lý: CTCP Thủy sản số 4 (TS4)\n"
     ]
    },
    {
     "name": "stderr",
     "output_type": "stream",
     "text": [
      "$TS4: possibly delisted; no timezone found\n"
     ]
    },
    {
     "name": "stdout",
     "output_type": "stream",
     "text": [
      "⚠️ Dữ liệu của CTCP Thủy sản số 4 (TS4) ít hơn 1000 dòng. Thử mã với đuôi .VN.\n"
     ]
    },
    {
     "name": "stderr",
     "output_type": "stream",
     "text": [
      "$TS4.VN: possibly delisted; no timezone found\n"
     ]
    },
    {
     "name": "stdout",
     "output_type": "stream",
     "text": [
      "⚠️ Không có dữ liệu cho CTCP Thủy sản số 4 (TS4). Bỏ qua.\n",
      "Đang xử lý: CTCP Nông sản thực phẩm Quảng Ngãi (APF)\n"
     ]
    },
    {
     "name": "stderr",
     "output_type": "stream",
     "text": [
      "$APF: possibly delisted; no timezone found\n"
     ]
    },
    {
     "name": "stdout",
     "output_type": "stream",
     "text": [
      "⚠️ Dữ liệu của CTCP Nông sản thực phẩm Quảng Ngãi (APF) ít hơn 1000 dòng. Thử mã với đuôi .VN.\n"
     ]
    },
    {
     "name": "stderr",
     "output_type": "stream",
     "text": [
      "$APF.VN: possibly delisted; no timezone found\n"
     ]
    },
    {
     "name": "stdout",
     "output_type": "stream",
     "text": [
      "⚠️ Không có dữ liệu cho CTCP Nông sản thực phẩm Quảng Ngãi (APF). Bỏ qua.\n",
      "Đang xử lý: CTCP Mía đường Nhiệt điện Gia Lai (SEC)\n"
     ]
    },
    {
     "name": "stderr",
     "output_type": "stream",
     "text": [
      "$SEC: possibly delisted; no price data found  (1d 2019-01-01 -> 2024-12-31)\n"
     ]
    },
    {
     "name": "stdout",
     "output_type": "stream",
     "text": [
      "⚠️ Dữ liệu của CTCP Mía đường Nhiệt điện Gia Lai (SEC) ít hơn 1000 dòng. Thử mã với đuôi .VN.\n"
     ]
    },
    {
     "name": "stderr",
     "output_type": "stream",
     "text": [
      "$SEC.VN: possibly delisted; no timezone found\n"
     ]
    },
    {
     "name": "stdout",
     "output_type": "stream",
     "text": [
      "⚠️ Không có dữ liệu cho CTCP Mía đường Nhiệt điện Gia Lai (SEC). Bỏ qua.\n",
      "Đang xử lý: CTCP Tập đoàn Dược Bảo Châu (BCP)\n",
      "⚠️ Dữ liệu của CTCP Tập đoàn Dược Bảo Châu (BCP) ít hơn 1000 dòng. Thử mã với đuôi .VN.\n"
     ]
    },
    {
     "name": "stderr",
     "output_type": "stream",
     "text": [
      "$BCP.VN: possibly delisted; no timezone found\n"
     ]
    },
    {
     "name": "stdout",
     "output_type": "stream",
     "text": [
      "✅ Đã lưu dữ liệu cho CTCP Tập đoàn Dược Bảo Châu (790 dòng).\n",
      "Đang xử lý: CTCP Nông sản Xuất khẩu Phú Yên (PPY)\n"
     ]
    },
    {
     "name": "stderr",
     "output_type": "stream",
     "text": [
      "$PPY: possibly delisted; no price data found  (1d 2019-01-01 -> 2024-12-31)\n"
     ]
    },
    {
     "name": "stdout",
     "output_type": "stream",
     "text": [
      "⚠️ Dữ liệu của CTCP Nông sản Xuất khẩu Phú Yên (PPY) ít hơn 1000 dòng. Thử mã với đuôi .VN.\n"
     ]
    },
    {
     "name": "stderr",
     "output_type": "stream",
     "text": [
      "$PPY.VN: possibly delisted; no timezone found\n"
     ]
    },
    {
     "name": "stdout",
     "output_type": "stream",
     "text": [
      "⚠️ Không có dữ liệu cho CTCP Nông sản Xuất khẩu Phú Yên (PPY). Bỏ qua.\n",
      "Đang xử lý: CTCP Tập đoàn Sao Mai (ASM)\n",
      "✅ Đã lưu dữ liệu cho CTCP Tập đoàn Sao Mai (1509 dòng).\n",
      "Đang xử lý: CTCP Dầu thực vật Tường An (TAC)\n",
      "✅ Đã lưu dữ liệu cho CTCP Dầu thực vật Tường An (1509 dòng).\n",
      "Đang xử lý: CTCP Dầu thực vật Cái Lân (VOC)\n",
      "✅ Đã lưu dữ liệu cho CTCP Dầu thực vật Cái Lân (1509 dòng).\n",
      "Đang xử lý: CTCP Vissan (VSN)\n"
     ]
    },
    {
     "name": "stderr",
     "output_type": "stream",
     "text": [
      "$VSN: possibly delisted; no price data found  (1d 2019-01-01 -> 2024-12-31)\n"
     ]
    },
    {
     "name": "stdout",
     "output_type": "stream",
     "text": [
      "⚠️ Dữ liệu của CTCP Vissan (VSN) ít hơn 1000 dòng. Thử mã với đuôi .VN.\n"
     ]
    },
    {
     "name": "stderr",
     "output_type": "stream",
     "text": [
      "$VSN.VN: possibly delisted; no timezone found\n"
     ]
    },
    {
     "name": "stdout",
     "output_type": "stream",
     "text": [
      "⚠️ Không có dữ liệu cho CTCP Vissan (VSN). Bỏ qua.\n",
      "Đang xử lý: Vinamilk (VNM)\n",
      "✅ Đã lưu dữ liệu cho Vinamilk (1509 dòng).\n",
      "Đang xử lý: Sữa Quốc tế IDP (IDP)\n"
     ]
    },
    {
     "name": "stderr",
     "output_type": "stream",
     "text": [
      "$IDP: possibly delisted; no price data found  (1d 2019-01-01 -> 2024-12-31)\n"
     ]
    },
    {
     "name": "stdout",
     "output_type": "stream",
     "text": [
      "⚠️ Dữ liệu của Sữa Quốc tế IDP (IDP) ít hơn 1000 dòng. Thử mã với đuôi .VN.\n"
     ]
    },
    {
     "name": "stderr",
     "output_type": "stream",
     "text": [
      "$IDP.VN: possibly delisted; no timezone found\n"
     ]
    },
    {
     "name": "stdout",
     "output_type": "stream",
     "text": [
      "⚠️ Không có dữ liệu cho Sữa Quốc tế IDP (IDP). Bỏ qua.\n",
      "Đang xử lý: Sữa Mộc Châu (MCM)\n"
     ]
    },
    {
     "name": "stderr",
     "output_type": "stream",
     "text": [
      "$MCM: possibly delisted; no price data found  (1d 2019-01-01 -> 2024-12-31)\n"
     ]
    },
    {
     "name": "stdout",
     "output_type": "stream",
     "text": [
      "⚠️ Dữ liệu của Sữa Mộc Châu (MCM) ít hơn 1000 dòng. Thử mã với đuôi .VN.\n",
      "❌ Lỗi khi lấy dữ liệu cho Sữa Mộc Châu : Length mismatch: Expected axis has 2 elements, new values have 1 elements\n",
      "⚠️ Không có dữ liệu cho Sữa Mộc Châu (MCM). Bỏ qua.\n",
      "Đang xử lý: CTCP Sữa Hà Nội (HNM)\n"
     ]
    },
    {
     "name": "stderr",
     "output_type": "stream",
     "text": [
      "$HNM: possibly delisted; no price data found  (1d 2019-01-01 -> 2024-12-31)\n"
     ]
    },
    {
     "name": "stdout",
     "output_type": "stream",
     "text": [
      "⚠️ Dữ liệu của CTCP Sữa Hà Nội (HNM) ít hơn 1000 dòng. Thử mã với đuôi .VN.\n"
     ]
    },
    {
     "name": "stderr",
     "output_type": "stream",
     "text": [
      "$HNM.VN: possibly delisted; no timezone found\n"
     ]
    },
    {
     "name": "stdout",
     "output_type": "stream",
     "text": [
      "⚠️ Không có dữ liệu cho CTCP Sữa Hà Nội (HNM). Bỏ qua.\n",
      "Đang xử lý: CTCP Sữa Ba Vì (BVM)\n"
     ]
    },
    {
     "name": "stderr",
     "output_type": "stream",
     "text": [
      "$BVM: possibly delisted; no price data found  (1d 2019-01-01 -> 2024-12-31)\n"
     ]
    },
    {
     "name": "stdout",
     "output_type": "stream",
     "text": [
      "⚠️ Dữ liệu của CTCP Sữa Ba Vì (BVM) ít hơn 1000 dòng. Thử mã với đuôi .VN.\n"
     ]
    },
    {
     "name": "stderr",
     "output_type": "stream",
     "text": [
      "$BVM.VN: possibly delisted; no timezone found\n"
     ]
    },
    {
     "name": "stdout",
     "output_type": "stream",
     "text": [
      "⚠️ Không có dữ liệu cho CTCP Sữa Ba Vì (BVM). Bỏ qua.\n",
      "Đang xử lý: CTCP Sữa TH True Milk (THM)\n",
      "✅ Đã lưu dữ liệu cho CTCP Sữa TH True Milk (1509 dòng).\n",
      "Đang xử lý: CTCP Bánh kẹo Bibica (BBC)\n",
      "✅ Đã lưu dữ liệu cho CTCP Bánh kẹo Bibica (1509 dòng).\n",
      "Đang xử lý: CTCP Bánh kẹo Hải Hà (HHC)\n"
     ]
    },
    {
     "name": "stderr",
     "output_type": "stream",
     "text": [
      "$HHC: possibly delisted; no timezone found\n"
     ]
    },
    {
     "name": "stdout",
     "output_type": "stream",
     "text": [
      "⚠️ Dữ liệu của CTCP Bánh kẹo Hải Hà (HHC) ít hơn 1000 dòng. Thử mã với đuôi .VN.\n"
     ]
    },
    {
     "name": "stderr",
     "output_type": "stream",
     "text": [
      "$HHC.VN: possibly delisted; no timezone found\n"
     ]
    },
    {
     "name": "stdout",
     "output_type": "stream",
     "text": [
      "⚠️ Không có dữ liệu cho CTCP Bánh kẹo Hải Hà (HHC). Bỏ qua.\n"
     ]
    },
    {
     "name": "stderr",
     "output_type": "stream",
     "text": [
      "$HNF: possibly delisted; no price data found  (1d 2019-01-01 -> 2024-12-31)\n",
      "$HNF.VN: possibly delisted; no timezone found\n"
     ]
    },
    {
     "name": "stdout",
     "output_type": "stream",
     "text": [
      "Đang xử lý: CTCP Thực phẩm Hữu Nghị (HNF)\n",
      "⚠️ Dữ liệu của CTCP Thực phẩm Hữu Nghị (HNF) ít hơn 1000 dòng. Thử mã với đuôi .VN.\n",
      "⚠️ Không có dữ liệu cho CTCP Thực phẩm Hữu Nghị (HNF). Bỏ qua.\n",
      "Đang xử lý: CTCP Chế biến Thực phẩm nông sản xuất khẩu Nam Định (NDF)\n"
     ]
    },
    {
     "name": "stderr",
     "output_type": "stream",
     "text": [
      "$NDF: possibly delisted; no price data found  (1d 2019-01-01 -> 2024-12-31)\n"
     ]
    },
    {
     "name": "stdout",
     "output_type": "stream",
     "text": [
      "⚠️ Dữ liệu của CTCP Chế biến Thực phẩm nông sản xuất khẩu Nam Định (NDF) ít hơn 1000 dòng. Thử mã với đuôi .VN.\n"
     ]
    },
    {
     "name": "stderr",
     "output_type": "stream",
     "text": [
      "$NDF.VN: possibly delisted; no timezone found\n"
     ]
    },
    {
     "name": "stdout",
     "output_type": "stream",
     "text": [
      "⚠️ Không có dữ liệu cho CTCP Chế biến Thực phẩm nông sản xuất khẩu Nam Định (NDF). Bỏ qua.\n",
      "Đang xử lý: CTCP Thực phẩm đông lạnh Kido (KDF)\n"
     ]
    },
    {
     "name": "stderr",
     "output_type": "stream",
     "text": [
      "$KDF: possibly delisted; no price data found  (1d 2019-01-01 -> 2024-12-31)\n"
     ]
    },
    {
     "name": "stdout",
     "output_type": "stream",
     "text": [
      "⚠️ Dữ liệu của CTCP Thực phẩm đông lạnh Kido (KDF) ít hơn 1000 dòng. Thử mã với đuôi .VN.\n"
     ]
    },
    {
     "name": "stderr",
     "output_type": "stream",
     "text": [
      "$KDF.VN: possibly delisted; no timezone found\n"
     ]
    },
    {
     "name": "stdout",
     "output_type": "stream",
     "text": [
      "⚠️ Không có dữ liệu cho CTCP Thực phẩm đông lạnh Kido (KDF). Bỏ qua.\n",
      "Đang xử lý: CTCP Dược Hậu Giang (DHG)\n"
     ]
    },
    {
     "name": "stderr",
     "output_type": "stream",
     "text": [
      "$DHG: possibly delisted; no price data found  (1d 2019-01-01 -> 2024-12-31)\n"
     ]
    },
    {
     "name": "stdout",
     "output_type": "stream",
     "text": [
      "⚠️ Dữ liệu của CTCP Dược Hậu Giang (DHG) ít hơn 1000 dòng. Thử mã với đuôi .VN.\n",
      "❌ Lỗi khi lấy dữ liệu cho CTCP Dược Hậu Giang : Length mismatch: Expected axis has 2 elements, new values have 1 elements\n",
      "⚠️ Không có dữ liệu cho CTCP Dược Hậu Giang (DHG). Bỏ qua.\n",
      "Đang xử lý: CTCP Bao bì Dược (BMP)\n",
      "⚠️ Dữ liệu của CTCP Bao bì Dược (BMP) ít hơn 1000 dòng. Thử mã với đuôi .VN.\n",
      "❌ Lỗi khi lấy dữ liệu cho CTCP Bao bì Dược : Length mismatch: Expected axis has 2 elements, new values have 1 elements\n",
      "✅ Đã lưu dữ liệu cho CTCP Bao bì Dược (786 dòng).\n",
      "Đang xử lý: CTCP Tập đoàn Masan (MSN)\n",
      "✅ Đã lưu dữ liệu cho CTCP Tập đoàn Masan (1509 dòng).\n",
      "Đang xử lý: CTCP Masan Consumer (MCH)\n",
      "⚠️ Dữ liệu của CTCP Masan Consumer (MCH) ít hơn 1000 dòng. Thử mã với đuôi .VN.\n"
     ]
    },
    {
     "name": "stderr",
     "output_type": "stream",
     "text": [
      "$MCH.VN: possibly delisted; no timezone found\n"
     ]
    },
    {
     "name": "stdout",
     "output_type": "stream",
     "text": [
      "✅ Đã lưu dữ liệu cho CTCP Masan Consumer (620 dòng).\n",
      "Đang xử lý: CTCP Thực phẩm Cholimex (CMF)\n",
      "✅ Đã lưu dữ liệu cho CTCP Thực phẩm Cholimex (1509 dòng).\n"
     ]
    },
    {
     "name": "stderr",
     "output_type": "stream",
     "text": [
      "$VSN: possibly delisted; no price data found  (1d 2019-01-01 -> 2024-12-31)\n",
      "$VSN.VN: possibly delisted; no timezone found\n"
     ]
    },
    {
     "name": "stdout",
     "output_type": "stream",
     "text": [
      "Đang xử lý: CTCP Việt Nam Kỹ nghệ Súc sản (VISSAN) (VSN)\n",
      "⚠️ Dữ liệu của CTCP Việt Nam Kỹ nghệ Súc sản (VISSAN) (VSN) ít hơn 1000 dòng. Thử mã với đuôi .VN.\n",
      "⚠️ Không có dữ liệu cho CTCP Việt Nam Kỹ nghệ Súc sản (VISSAN) (VSN). Bỏ qua.\n",
      "Đang xử lý: CTCP Chăn nuôi Mitraco (MLS)\n",
      "⚠️ Dữ liệu của CTCP Chăn nuôi Mitraco (MLS) ít hơn 1000 dòng. Thử mã với đuôi .VN.\n"
     ]
    },
    {
     "name": "stderr",
     "output_type": "stream",
     "text": [
      "$MLS.VN: possibly delisted; no timezone found\n"
     ]
    },
    {
     "name": "stdout",
     "output_type": "stream",
     "text": [
      "✅ Đã lưu dữ liệu cho CTCP Chăn nuôi Mitraco (109 dòng).\n",
      "Đang xử lý: CTCP Thực phẩm Lâm Đồng (VDL)\n"
     ]
    },
    {
     "name": "stderr",
     "output_type": "stream",
     "text": [
      "$VDL: possibly delisted; no price data found  (1d 2019-01-01 -> 2024-12-31)\n"
     ]
    },
    {
     "name": "stdout",
     "output_type": "stream",
     "text": [
      "⚠️ Dữ liệu của CTCP Thực phẩm Lâm Đồng (VDL) ít hơn 1000 dòng. Thử mã với đuôi .VN.\n"
     ]
    },
    {
     "name": "stderr",
     "output_type": "stream",
     "text": [
      "$VDL.VN: possibly delisted; no timezone found\n"
     ]
    },
    {
     "name": "stdout",
     "output_type": "stream",
     "text": [
      "⚠️ Không có dữ liệu cho CTCP Thực phẩm Lâm Đồng (VDL). Bỏ qua.\n",
      "Đang xử lý: CTCP Chăn nuôi Phú Sơn (PSL)\n",
      "✅ Đã lưu dữ liệu cho CTCP Chăn nuôi Phú Sơn (1509 dòng).\n",
      "Đang xử lý: CTCP Chăn nuôi Tiến Nông (TNC)\n",
      "✅ Đã lưu dữ liệu cho CTCP Chăn nuôi Tiến Nông (1509 dòng).\n",
      "Đang xử lý: Hòa Phát (HPG)\n",
      "⚠️ Dữ liệu của Hòa Phát (HPG) ít hơn 1000 dòng. Thử mã với đuôi .VN.\n",
      "✅ Đã tìm thấy dữ liệu cho Hòa Phát với mã HPG.VN.\n",
      "✅ Đã lưu dữ liệu cho Hòa Phát (2282 dòng).\n",
      "Đang xử lý: Tập đoàn Hoa Sen (HSG)\n",
      "⚠️ Dữ liệu của Tập đoàn Hoa Sen (HSG) ít hơn 1000 dòng. Thử mã với đuôi .VN.\n",
      "❌ Lỗi khi lấy dữ liệu cho Tập đoàn Hoa Sen : Length mismatch: Expected axis has 2 elements, new values have 1 elements\n",
      "✅ Đã lưu dữ liệu cho Tập đoàn Hoa Sen (789 dòng).\n",
      "Đang xử lý: CTCP Thép Nam Kim (NKG)\n"
     ]
    },
    {
     "name": "stderr",
     "output_type": "stream",
     "text": [
      "$NKG: possibly delisted; no timezone found\n"
     ]
    },
    {
     "name": "stdout",
     "output_type": "stream",
     "text": [
      "⚠️ Dữ liệu của CTCP Thép Nam Kim (NKG) ít hơn 1000 dòng. Thử mã với đuôi .VN.\n",
      "✅ Đã tìm thấy dữ liệu cho CTCP Thép Nam Kim với mã NKG.VN.\n",
      "✅ Đã lưu dữ liệu cho CTCP Thép Nam Kim (1499 dòng).\n"
     ]
    },
    {
     "name": "stderr",
     "output_type": "stream",
     "text": [
      "C:\\Users\\hype1\\AppData\\Local\\Temp\\ipykernel_35564\\2248697749.py:182: FutureWarning: The behavior of array concatenation with empty entries is deprecated. In a future version, this will no longer exclude empty items when determining the result dtype. To retain the old behavior, exclude the empty entries before the concat operation.\n",
      "  data = pd.concat([data, data_vn.iloc[:, :5]])\n"
     ]
    },
    {
     "name": "stdout",
     "output_type": "stream",
     "text": [
      "Đang xử lý: CTCP Tập đoàn Thép Tiến Lên (TLH)\n",
      "✅ Đã lưu dữ liệu cho CTCP Tập đoàn Thép Tiến Lên (1509 dòng).\n",
      "Đang xử lý: CTCP Thép Pomina (POM)\n"
     ]
    },
    {
     "name": "stderr",
     "output_type": "stream",
     "text": [
      "$POM: possibly delisted; no price data found  (1d 2019-01-01 -> 2024-12-31)\n"
     ]
    },
    {
     "name": "stdout",
     "output_type": "stream",
     "text": [
      "⚠️ Dữ liệu của CTCP Thép Pomina (POM) ít hơn 1000 dòng. Thử mã với đuôi .VN.\n"
     ]
    },
    {
     "name": "stderr",
     "output_type": "stream",
     "text": [
      "$POM.VN: possibly delisted; no timezone found\n"
     ]
    },
    {
     "name": "stdout",
     "output_type": "stream",
     "text": [
      "⚠️ Không có dữ liệu cho CTCP Thép Pomina (POM). Bỏ qua.\n",
      "Đang xử lý: CTCP Thép Việt Ý (VIS)\n"
     ]
    },
    {
     "name": "stderr",
     "output_type": "stream",
     "text": [
      "$VIS: possibly delisted; no price data found  (1d 2019-01-01 -> 2024-12-31)\n"
     ]
    },
    {
     "name": "stdout",
     "output_type": "stream",
     "text": [
      "⚠️ Dữ liệu của CTCP Thép Việt Ý (VIS) ít hơn 1000 dòng. Thử mã với đuôi .VN.\n"
     ]
    },
    {
     "name": "stderr",
     "output_type": "stream",
     "text": [
      "$VIS.VN: possibly delisted; no timezone found\n"
     ]
    },
    {
     "name": "stdout",
     "output_type": "stream",
     "text": [
      "⚠️ Không có dữ liệu cho CTCP Thép Việt Ý (VIS). Bỏ qua.\n",
      "Đang xử lý: CTCP Thép Việt Đức (VGS)\n"
     ]
    },
    {
     "name": "stderr",
     "output_type": "stream",
     "text": [
      "$VGS: possibly delisted; no price data found  (1d 2019-01-01 -> 2024-12-31)\n"
     ]
    },
    {
     "name": "stdout",
     "output_type": "stream",
     "text": [
      "⚠️ Dữ liệu của CTCP Thép Việt Đức (VGS) ít hơn 1000 dòng. Thử mã với đuôi .VN.\n"
     ]
    },
    {
     "name": "stderr",
     "output_type": "stream",
     "text": [
      "$VGS.VN: possibly delisted; no timezone found\n"
     ]
    },
    {
     "name": "stdout",
     "output_type": "stream",
     "text": [
      "⚠️ Không có dữ liệu cho CTCP Thép Việt Đức (VGS). Bỏ qua.\n",
      "Đang xử lý: CTCP Thép TVP (TVP)\n"
     ]
    },
    {
     "name": "stderr",
     "output_type": "stream",
     "text": [
      "$TVP: possibly delisted; no price data found  (1d 2019-01-01 -> 2024-12-31)\n"
     ]
    },
    {
     "name": "stdout",
     "output_type": "stream",
     "text": [
      "⚠️ Dữ liệu của CTCP Thép TVP (TVP) ít hơn 1000 dòng. Thử mã với đuôi .VN.\n"
     ]
    },
    {
     "name": "stderr",
     "output_type": "stream",
     "text": [
      "$TVP.VN: possibly delisted; no timezone found\n"
     ]
    },
    {
     "name": "stdout",
     "output_type": "stream",
     "text": [
      "⚠️ Không có dữ liệu cho CTCP Thép TVP (TVP). Bỏ qua.\n"
     ]
    },
    {
     "name": "stderr",
     "output_type": "stream",
     "text": [
      "$VGS: possibly delisted; no price data found  (1d 2019-01-01 -> 2024-12-31)\n",
      "$VGS.VN: possibly delisted; no timezone found\n"
     ]
    },
    {
     "name": "stdout",
     "output_type": "stream",
     "text": [
      "Đang xử lý: CTCP Ống thép Việt Đức VG PIPE (VGS)\n",
      "⚠️ Dữ liệu của CTCP Ống thép Việt Đức VG PIPE (VGS) ít hơn 1000 dòng. Thử mã với đuôi .VN.\n",
      "⚠️ Không có dữ liệu cho CTCP Ống thép Việt Đức VG PIPE (VGS). Bỏ qua.\n",
      "Đang xử lý: CTCP Gang thép Thái Nguyên (TIS)\n"
     ]
    },
    {
     "name": "stderr",
     "output_type": "stream",
     "text": [
      "$TIS: possibly delisted; no timezone found\n"
     ]
    },
    {
     "name": "stdout",
     "output_type": "stream",
     "text": [
      "⚠️ Dữ liệu của CTCP Gang thép Thái Nguyên (TIS) ít hơn 1000 dòng. Thử mã với đuôi .VN.\n"
     ]
    },
    {
     "name": "stderr",
     "output_type": "stream",
     "text": [
      "$TIS.VN: possibly delisted; no timezone found\n"
     ]
    },
    {
     "name": "stdout",
     "output_type": "stream",
     "text": [
      "⚠️ Không có dữ liệu cho CTCP Gang thép Thái Nguyên (TIS). Bỏ qua.\n",
      "Đang xử lý: CTCP Tập đoàn Đại Thiên Lộc (DTL)\n",
      "⚠️ Dữ liệu của CTCP Tập đoàn Đại Thiên Lộc (DTL) ít hơn 1000 dòng. Thử mã với đuôi .VN.\n",
      "✅ Đã tìm thấy dữ liệu cho CTCP Tập đoàn Đại Thiên Lộc với mã DTL.VN.\n",
      "✅ Đã lưu dữ liệu cho CTCP Tập đoàn Đại Thiên Lộc (1107 dòng).\n",
      "Đang xử lý: CTCP Thép Dana Ý (DNY)\n"
     ]
    },
    {
     "name": "stderr",
     "output_type": "stream",
     "text": [
      "$DNY: possibly delisted; no price data found  (1d 2019-01-01 -> 2024-12-31)\n"
     ]
    },
    {
     "name": "stdout",
     "output_type": "stream",
     "text": [
      "⚠️ Dữ liệu của CTCP Thép Dana Ý (DNY) ít hơn 1000 dòng. Thử mã với đuôi .VN.\n"
     ]
    },
    {
     "name": "stderr",
     "output_type": "stream",
     "text": [
      "$DNY.VN: possibly delisted; no timezone found\n"
     ]
    },
    {
     "name": "stdout",
     "output_type": "stream",
     "text": [
      "⚠️ Không có dữ liệu cho CTCP Thép Dana Ý (DNY). Bỏ qua.\n",
      "Đang xử lý: CTCP Thép VICASA - VNSTEEL (VCA)\n"
     ]
    },
    {
     "name": "stderr",
     "output_type": "stream",
     "text": [
      "$VCA: possibly delisted; no price data found  (1d 2019-01-01 -> 2024-12-31)\n"
     ]
    },
    {
     "name": "stdout",
     "output_type": "stream",
     "text": [
      "⚠️ Dữ liệu của CTCP Thép VICASA - VNSTEEL (VCA) ít hơn 1000 dòng. Thử mã với đuôi .VN.\n",
      "✅ Đã tìm thấy dữ liệu cho CTCP Thép VICASA - VNSTEEL với mã VCA.VN.\n",
      "✅ Đã lưu dữ liệu cho CTCP Thép VICASA - VNSTEEL (311 dòng).\n"
     ]
    },
    {
     "name": "stderr",
     "output_type": "stream",
     "text": [
      "C:\\Users\\hype1\\AppData\\Local\\Temp\\ipykernel_35564\\2248697749.py:182: FutureWarning: The behavior of array concatenation with empty entries is deprecated. In a future version, this will no longer exclude empty items when determining the result dtype. To retain the old behavior, exclude the empty entries before the concat operation.\n",
      "  data = pd.concat([data, data_vn.iloc[:, :5]])\n"
     ]
    },
    {
     "name": "stdout",
     "output_type": "stream",
     "text": [
      "Đang xử lý: CTCP VLXD Biên Hòa (VLB)\n"
     ]
    },
    {
     "name": "stderr",
     "output_type": "stream",
     "text": [
      "$VLB: possibly delisted; no price data found  (1d 2019-01-01 -> 2024-12-31)\n"
     ]
    },
    {
     "name": "stdout",
     "output_type": "stream",
     "text": [
      "⚠️ Dữ liệu của CTCP VLXD Biên Hòa (VLB) ít hơn 1000 dòng. Thử mã với đuôi .VN.\n"
     ]
    },
    {
     "name": "stderr",
     "output_type": "stream",
     "text": [
      "$VLB.VN: possibly delisted; no timezone found\n"
     ]
    },
    {
     "name": "stdout",
     "output_type": "stream",
     "text": [
      "⚠️ Không có dữ liệu cho CTCP VLXD Biên Hòa (VLB). Bỏ qua.\n",
      "Đang xử lý: CTCP VLXD Bưu điện (BDB)\n"
     ]
    },
    {
     "name": "stderr",
     "output_type": "stream",
     "text": [
      "$BDB: possibly delisted; no price data found  (1d 2019-01-01 -> 2024-12-31)\n"
     ]
    },
    {
     "name": "stdout",
     "output_type": "stream",
     "text": [
      "⚠️ Dữ liệu của CTCP VLXD Bưu điện (BDB) ít hơn 1000 dòng. Thử mã với đuôi .VN.\n"
     ]
    },
    {
     "name": "stderr",
     "output_type": "stream",
     "text": [
      "$BDB.VN: possibly delisted; no timezone found\n"
     ]
    },
    {
     "name": "stdout",
     "output_type": "stream",
     "text": [
      "⚠️ Không có dữ liệu cho CTCP VLXD Bưu điện (BDB). Bỏ qua.\n",
      "Đang xử lý: CTCP Xi măng Bỉm Sơn (BCC)\n",
      "✅ Đã lưu dữ liệu cho CTCP Xi măng Bỉm Sơn (1509 dòng).\n",
      "Đang xử lý: CTCP Xi măng Hà Tiên 1 (HT1)\n"
     ]
    },
    {
     "name": "stderr",
     "output_type": "stream",
     "text": [
      "$HT1: possibly delisted; no timezone found\n"
     ]
    },
    {
     "name": "stdout",
     "output_type": "stream",
     "text": [
      "⚠️ Dữ liệu của CTCP Xi măng Hà Tiên 1 (HT1) ít hơn 1000 dòng. Thử mã với đuôi .VN.\n",
      "❌ Lỗi khi lấy dữ liệu cho CTCP Xi măng Hà Tiên 1 : Length mismatch: Expected axis has 2 elements, new values have 1 elements\n",
      "⚠️ Không có dữ liệu cho CTCP Xi măng Hà Tiên 1 (HT1). Bỏ qua.\n",
      "Đang xử lý: CTCP Xi măng Vicem Hoàng Mai (HOM)\n",
      "⚠️ Dữ liệu của CTCP Xi măng Vicem Hoàng Mai (HOM) ít hơn 1000 dòng. Thử mã với đuôi .VN.\n"
     ]
    },
    {
     "name": "stderr",
     "output_type": "stream",
     "text": [
      "$HOM.VN: possibly delisted; no timezone found\n"
     ]
    },
    {
     "name": "stdout",
     "output_type": "stream",
     "text": [
      "✅ Đã lưu dữ liệu cho CTCP Xi măng Vicem Hoàng Mai (448 dòng).\n",
      "Đang xử lý: CTCP Xi măng Vicem Bút Sơn (BTS)\n"
     ]
    },
    {
     "name": "stderr",
     "output_type": "stream",
     "text": [
      "$BTS: possibly delisted; no price data found  (1d 2019-01-01 -> 2024-12-31)\n"
     ]
    },
    {
     "name": "stdout",
     "output_type": "stream",
     "text": [
      "⚠️ Dữ liệu của CTCP Xi măng Vicem Bút Sơn (BTS) ít hơn 1000 dòng. Thử mã với đuôi .VN.\n"
     ]
    },
    {
     "name": "stderr",
     "output_type": "stream",
     "text": [
      "$BTS.VN: possibly delisted; no timezone found\n"
     ]
    },
    {
     "name": "stdout",
     "output_type": "stream",
     "text": [
      "⚠️ Không có dữ liệu cho CTCP Xi măng Vicem Bút Sơn (BTS). Bỏ qua.\n",
      "Đang xử lý: CTCP Tập đoàn Thạch Bàn (TBC)\n"
     ]
    },
    {
     "name": "stderr",
     "output_type": "stream",
     "text": [
      "$TBC: possibly delisted; no timezone found\n"
     ]
    },
    {
     "name": "stdout",
     "output_type": "stream",
     "text": [
      "⚠️ Dữ liệu của CTCP Tập đoàn Thạch Bàn (TBC) ít hơn 1000 dòng. Thử mã với đuôi .VN.\n",
      "❌ Lỗi khi lấy dữ liệu cho CTCP Tập đoàn Thạch Bàn : Length mismatch: Expected axis has 2 elements, new values have 1 elements\n",
      "⚠️ Không có dữ liệu cho CTCP Tập đoàn Thạch Bàn (TBC). Bỏ qua.\n",
      "Đang xử lý: CTCP Gạch men Vicenza (VGC)\n",
      "⚠️ Dữ liệu của CTCP Gạch men Vicenza (VGC) ít hơn 1000 dòng. Thử mã với đuôi .VN.\n",
      "❌ Lỗi khi lấy dữ liệu cho CTCP Gạch men Vicenza : Length mismatch: Expected axis has 2 elements, new values have 1 elements\n",
      "✅ Đã lưu dữ liệu cho CTCP Gạch men Vicenza (685 dòng).\n",
      "Đang xử lý: CTCP VLXD Viglacera Thăng Long (TLT)\n",
      "✅ Đã lưu dữ liệu cho CTCP VLXD Viglacera Thăng Long (1509 dòng).\n",
      "Đang xử lý: CTCP VLXD Viglacera Đông Triều (DTC)\n",
      "⚠️ Dữ liệu của CTCP VLXD Viglacera Đông Triều (DTC) ít hơn 1000 dòng. Thử mã với đuôi .VN.\n"
     ]
    },
    {
     "name": "stderr",
     "output_type": "stream",
     "text": [
      "$DTC.VN: possibly delisted; no timezone found\n"
     ]
    },
    {
     "name": "stdout",
     "output_type": "stream",
     "text": [
      "✅ Đã lưu dữ liệu cho CTCP VLXD Viglacera Đông Triều (797 dòng).\n",
      "Đang xử lý: CTCP Sản xuất VLXD Kiên Giang (KGM)\n"
     ]
    },
    {
     "name": "stderr",
     "output_type": "stream",
     "text": [
      "$KGM: possibly delisted; no price data found  (1d 2019-01-01 -> 2024-12-31)\n"
     ]
    },
    {
     "name": "stdout",
     "output_type": "stream",
     "text": [
      "⚠️ Dữ liệu của CTCP Sản xuất VLXD Kiên Giang (KGM) ít hơn 1000 dòng. Thử mã với đuôi .VN.\n"
     ]
    },
    {
     "name": "stderr",
     "output_type": "stream",
     "text": [
      "$KGM.VN: possibly delisted; no timezone found\n"
     ]
    },
    {
     "name": "stdout",
     "output_type": "stream",
     "text": [
      "⚠️ Không có dữ liệu cho CTCP Sản xuất VLXD Kiên Giang (KGM). Bỏ qua.\n",
      "Đang xử lý: CTCP VLXD Cần Thơ (BCL)\n"
     ]
    },
    {
     "name": "stderr",
     "output_type": "stream",
     "text": [
      "$BCL: possibly delisted; no price data found  (1d 2019-01-01 -> 2024-12-31)\n"
     ]
    },
    {
     "name": "stdout",
     "output_type": "stream",
     "text": [
      "⚠️ Dữ liệu của CTCP VLXD Cần Thơ (BCL) ít hơn 1000 dòng. Thử mã với đuôi .VN.\n"
     ]
    },
    {
     "name": "stderr",
     "output_type": "stream",
     "text": [
      "$BCL.VN: possibly delisted; no timezone found\n"
     ]
    },
    {
     "name": "stdout",
     "output_type": "stream",
     "text": [
      "⚠️ Không có dữ liệu cho CTCP VLXD Cần Thơ (BCL). Bỏ qua.\n",
      "Đang xử lý: CTCP Tập đoàn Phú Tài (PTB)\n",
      "⚠️ Dữ liệu của CTCP Tập đoàn Phú Tài (PTB) ít hơn 1000 dòng. Thử mã với đuôi .VN.\n",
      "❌ Lỗi khi lấy dữ liệu cho CTCP Tập đoàn Phú Tài : Length mismatch: Expected axis has 2 elements, new values have 1 elements\n",
      "✅ Đã lưu dữ liệu cho CTCP Tập đoàn Phú Tài (786 dòng).\n",
      "Đang xử lý: CTCP Tập đoàn Hóa chất Đức Giang (DGC)\n"
     ]
    },
    {
     "name": "stderr",
     "output_type": "stream",
     "text": [
      "$DGC: possibly delisted; no price data found  (1d 2019-01-01 -> 2024-12-31)\n"
     ]
    },
    {
     "name": "stdout",
     "output_type": "stream",
     "text": [
      "⚠️ Dữ liệu của CTCP Tập đoàn Hóa chất Đức Giang (DGC) ít hơn 1000 dòng. Thử mã với đuôi .VN.\n",
      "❌ Lỗi khi lấy dữ liệu cho CTCP Tập đoàn Hóa chất Đức Giang : Length mismatch: Expected axis has 2 elements, new values have 1 elements\n",
      "⚠️ Không có dữ liệu cho CTCP Tập đoàn Hóa chất Đức Giang (DGC). Bỏ qua.\n",
      "Đang xử lý: CTCP Hóa chất Cơ bản miền Nam (CSV)\n",
      "✅ Đã lưu dữ liệu cho CTCP Hóa chất Cơ bản miền Nam (1509 dòng).\n",
      "Đang xử lý: CTCP Hóa chất Đức Giang – Lào Cai (DGL)\n",
      "✅ Đã lưu dữ liệu cho CTCP Hóa chất Đức Giang – Lào Cai (1059 dòng).\n",
      "Đang xử lý: FPT (FPT)\n",
      "⚠️ Dữ liệu của FPT (FPT) ít hơn 1000 dòng. Thử mã với đuôi .VN.\n",
      "❌ Lỗi khi lấy dữ liệu cho FPT : Length mismatch: Expected axis has 2 elements, new values have 1 elements\n",
      "✅ Đã lưu dữ liệu cho FPT (789 dòng).\n",
      "Đang xử lý: CTCP Bán lẻ Kỹ thuật số FPT (FRT)\n",
      "✅ Đã lưu dữ liệu cho CTCP Bán lẻ Kỹ thuật số FPT (1509 dòng).\n",
      "Đang xử lý: CTCP Thế giới Di động (MWG)\n",
      "⚠️ Dữ liệu của CTCP Thế giới Di động (MWG) ít hơn 1000 dòng. Thử mã với đuôi .VN.\n",
      "❌ Lỗi khi lấy dữ liệu cho CTCP Thế giới Di động : Length mismatch: Expected axis has 2 elements, new values have 1 elements\n",
      "✅ Đã lưu dữ liệu cho CTCP Thế giới Di động (439 dòng).\n",
      "Đang xử lý: CTCP Tập đoàn Masan (có đầu tư vào tech) (MSN)\n",
      "✅ Đã lưu dữ liệu cho CTCP Tập đoàn Masan (có đầu tư vào tech) (1509 dòng).\n",
      "Đang xử lý: CTCP VNG (VNZ)\n"
     ]
    },
    {
     "name": "stderr",
     "output_type": "stream",
     "text": [
      "$VNZ: possibly delisted; no price data found  (1d 2019-01-01 -> 2024-12-31)\n"
     ]
    },
    {
     "name": "stdout",
     "output_type": "stream",
     "text": [
      "⚠️ Dữ liệu của CTCP VNG (VNZ) ít hơn 1000 dòng. Thử mã với đuôi .VN.\n"
     ]
    },
    {
     "name": "stderr",
     "output_type": "stream",
     "text": [
      "$VNZ.VN: possibly delisted; no timezone found\n"
     ]
    },
    {
     "name": "stdout",
     "output_type": "stream",
     "text": [
      "⚠️ Không có dữ liệu cho CTCP VNG (VNZ). Bỏ qua.\n",
      "Đang xử lý: CTCP Công nghệ Viễn thông Sài Gòn (SGT)\n",
      "⚠️ Dữ liệu của CTCP Công nghệ Viễn thông Sài Gòn (SGT) ít hơn 1000 dòng. Thử mã với đuôi .VN.\n",
      "✅ Đã tìm thấy dữ liệu cho CTCP Công nghệ Viễn thông Sài Gòn với mã SGT.VN.\n",
      "✅ Đã lưu dữ liệu cho CTCP Công nghệ Viễn thông Sài Gòn (1142 dòng).\n",
      "Đang xử lý: CTCP Công nghệ Sao Bắc Đẩu (SBD)\n"
     ]
    },
    {
     "name": "stderr",
     "output_type": "stream",
     "text": [
      "$SBD: possibly delisted; no price data found  (1d 2019-01-01 -> 2024-12-31)\n"
     ]
    },
    {
     "name": "stdout",
     "output_type": "stream",
     "text": [
      "⚠️ Dữ liệu của CTCP Công nghệ Sao Bắc Đẩu (SBD) ít hơn 1000 dòng. Thử mã với đuôi .VN.\n"
     ]
    },
    {
     "name": "stderr",
     "output_type": "stream",
     "text": [
      "$SBD.VN: possibly delisted; no timezone found\n"
     ]
    },
    {
     "name": "stdout",
     "output_type": "stream",
     "text": [
      "⚠️ Không có dữ liệu cho CTCP Công nghệ Sao Bắc Đẩu (SBD). Bỏ qua.\n",
      "Đang xử lý: CTCP Tập đoàn CMC (CMG)\n",
      "✅ Đã lưu dữ liệu cho CTCP Tập đoàn CMC (1509 dòng).\n",
      "Đang xử lý: CTCP Công nghệ Viễn thông Elcom (ELC)\n",
      "⚠️ Dữ liệu của CTCP Công nghệ Viễn thông Elcom (ELC) ít hơn 1000 dòng. Thử mã với đuôi .VN.\n",
      "✅ Đã tìm thấy dữ liệu cho CTCP Công nghệ Viễn thông Elcom với mã ELC.VN.\n",
      "✅ Đã lưu dữ liệu cho CTCP Công nghệ Viễn thông Elcom (2246 dòng).\n",
      "Đang xử lý: CTCP MISA (sắp niêm yết) (MISA)\n"
     ]
    },
    {
     "name": "stderr",
     "output_type": "stream",
     "text": [
      "$MISA: possibly delisted; no timezone found\n"
     ]
    },
    {
     "name": "stdout",
     "output_type": "stream",
     "text": [
      "⚠️ Dữ liệu của CTCP MISA (sắp niêm yết) (MISA) ít hơn 1000 dòng. Thử mã với đuôi .VN.\n"
     ]
    },
    {
     "name": "stderr",
     "output_type": "stream",
     "text": [
      "$MISA.VN: possibly delisted; no timezone found\n"
     ]
    },
    {
     "name": "stdout",
     "output_type": "stream",
     "text": [
      "⚠️ Không có dữ liệu cho CTCP MISA (sắp niêm yết) (MISA). Bỏ qua.\n",
      "Đang xử lý: CTCP Đầu tư và Phát triển Công nghệ Văn Lang (VLT)\n",
      "✅ Đã lưu dữ liệu cho CTCP Đầu tư và Phát triển Công nghệ Văn Lang (1509 dòng).\n",
      "Đang xử lý: CTCP Giải pháp Công nghệ Thông minh ITD (ITD)\n",
      "⚠️ Dữ liệu của CTCP Giải pháp Công nghệ Thông minh ITD (ITD) ít hơn 1000 dòng. Thử mã với đuôi .VN.\n",
      "✅ Đã tìm thấy dữ liệu cho CTCP Giải pháp Công nghệ Thông minh ITD với mã ITD.VN.\n",
      "✅ Đã lưu dữ liệu cho CTCP Giải pháp Công nghệ Thông minh ITD (1150 dòng).\n",
      "Đang xử lý: CTCP Tư vấn Đầu tư và Phát triển Tin học (ITC)\n",
      "⚠️ Dữ liệu của CTCP Tư vấn Đầu tư và Phát triển Tin học (ITC) ít hơn 1000 dòng. Thử mã với đuôi .VN.\n",
      "✅ Đã tìm thấy dữ liệu cho CTCP Tư vấn Đầu tư và Phát triển Tin học với mã ITC.VN.\n",
      "✅ Đã lưu dữ liệu cho CTCP Tư vấn Đầu tư và Phát triển Tin học (1154 dòng).\n",
      "Đang xử lý: CTCP Công nghệ Thông tin Lạc Việt (LAV)\n"
     ]
    },
    {
     "name": "stderr",
     "output_type": "stream",
     "text": [
      "$LAV: possibly delisted; no price data found  (1d 2019-01-01 -> 2024-12-31)\n"
     ]
    },
    {
     "name": "stdout",
     "output_type": "stream",
     "text": [
      "⚠️ Dữ liệu của CTCP Công nghệ Thông tin Lạc Việt (LAV) ít hơn 1000 dòng. Thử mã với đuôi .VN.\n"
     ]
    },
    {
     "name": "stderr",
     "output_type": "stream",
     "text": [
      "$LAV.VN: possibly delisted; no timezone found\n"
     ]
    },
    {
     "name": "stdout",
     "output_type": "stream",
     "text": [
      "⚠️ Không có dữ liệu cho CTCP Công nghệ Thông tin Lạc Việt (LAV). Bỏ qua.\n",
      "Đang xử lý: CTCP Công nghệ Sao Thái Dương (STD)\n"
     ]
    },
    {
     "name": "stderr",
     "output_type": "stream",
     "text": [
      "$STD: possibly delisted; no price data found  (1d 2019-01-01 -> 2024-12-31)\n"
     ]
    },
    {
     "name": "stdout",
     "output_type": "stream",
     "text": [
      "⚠️ Dữ liệu của CTCP Công nghệ Sao Thái Dương (STD) ít hơn 1000 dòng. Thử mã với đuôi .VN.\n"
     ]
    },
    {
     "name": "stderr",
     "output_type": "stream",
     "text": [
      "$STD.VN: possibly delisted; no timezone found\n"
     ]
    },
    {
     "name": "stdout",
     "output_type": "stream",
     "text": [
      "⚠️ Không có dữ liệu cho CTCP Công nghệ Sao Thái Dương (STD). Bỏ qua.\n",
      "Đang xử lý: CTCP Tập đoàn Công nghệ Asanzo (ASN)\n"
     ]
    },
    {
     "name": "stderr",
     "output_type": "stream",
     "text": [
      "$ASN: possibly delisted; no price data found  (1d 2019-01-01 -> 2024-12-31)\n"
     ]
    },
    {
     "name": "stdout",
     "output_type": "stream",
     "text": [
      "⚠️ Dữ liệu của CTCP Tập đoàn Công nghệ Asanzo (ASN) ít hơn 1000 dòng. Thử mã với đuôi .VN.\n"
     ]
    },
    {
     "name": "stderr",
     "output_type": "stream",
     "text": [
      "$ASN.VN: possibly delisted; no timezone found\n"
     ]
    },
    {
     "name": "stdout",
     "output_type": "stream",
     "text": [
      "⚠️ Không có dữ liệu cho CTCP Tập đoàn Công nghệ Asanzo (ASN). Bỏ qua.\n",
      "Đang xử lý: CTCP Dịch vụ Trực tuyến NetNam (NET)\n",
      "✅ Đã lưu dữ liệu cho CTCP Dịch vụ Trực tuyến NetNam (1333 dòng).\n",
      "Đang xử lý: CTCP Tin học HPT (HPT)\n"
     ]
    },
    {
     "name": "stderr",
     "output_type": "stream",
     "text": [
      "$HPT: possibly delisted; no timezone found\n"
     ]
    },
    {
     "name": "stdout",
     "output_type": "stream",
     "text": [
      "⚠️ Dữ liệu của CTCP Tin học HPT (HPT) ít hơn 1000 dòng. Thử mã với đuôi .VN.\n"
     ]
    },
    {
     "name": "stderr",
     "output_type": "stream",
     "text": [
      "$HPT.VN: possibly delisted; no timezone found\n"
     ]
    },
    {
     "name": "stdout",
     "output_type": "stream",
     "text": [
      "⚠️ Không có dữ liệu cho CTCP Tin học HPT (HPT). Bỏ qua.\n",
      "Đang xử lý: CTCP VTC Dịch vụ truyền hình số (VTC)\n",
      "✅ Đã lưu dữ liệu cho CTCP VTC Dịch vụ truyền hình số (1509 dòng).\n",
      "Đang xử lý: CTCP Công nghệ Truyền thông DTT (DTT)\n",
      "⚠️ Dữ liệu của CTCP Công nghệ Truyền thông DTT (DTT) ít hơn 1000 dòng. Thử mã với đuôi .VN.\n",
      "❌ Lỗi khi lấy dữ liệu cho CTCP Công nghệ Truyền thông DTT : Length mismatch: Expected axis has 2 elements, new values have 1 elements\n",
      "✅ Đã lưu dữ liệu cho CTCP Công nghệ Truyền thông DTT (786 dòng).\n",
      "Đang xử lý: MB Bank (MBB)\n",
      "✅ Đã lưu dữ liệu cho MB Bank (1509 dòng).\n",
      "Đang xử lý: Vietcombank (VCB)\n",
      "⚠️ Dữ liệu của Vietcombank (VCB) ít hơn 1000 dòng. Thử mã với đuôi .VN.\n",
      "✅ Đã tìm thấy dữ liệu cho Vietcombank với mã VCB.VN.\n",
      "✅ Đã lưu dữ liệu cho Vietcombank (2289 dòng).\n",
      "Đang xử lý: VietinBank (CTG)\n"
     ]
    },
    {
     "name": "stderr",
     "output_type": "stream",
     "text": [
      "$CTG: possibly delisted; no timezone found\n"
     ]
    },
    {
     "name": "stdout",
     "output_type": "stream",
     "text": [
      "⚠️ Dữ liệu của VietinBank (CTG) ít hơn 1000 dòng. Thử mã với đuôi .VN.\n",
      "✅ Đã tìm thấy dữ liệu cho VietinBank với mã CTG.VN.\n",
      "✅ Đã lưu dữ liệu cho VietinBank (1495 dòng).\n"
     ]
    },
    {
     "name": "stderr",
     "output_type": "stream",
     "text": [
      "C:\\Users\\hype1\\AppData\\Local\\Temp\\ipykernel_35564\\2248697749.py:182: FutureWarning: The behavior of array concatenation with empty entries is deprecated. In a future version, this will no longer exclude empty items when determining the result dtype. To retain the old behavior, exclude the empty entries before the concat operation.\n",
      "  data = pd.concat([data, data_vn.iloc[:, :5]])\n"
     ]
    },
    {
     "name": "stdout",
     "output_type": "stream",
     "text": [
      "Đang xử lý: BIDV (BID)\n"
     ]
    },
    {
     "name": "stderr",
     "output_type": "stream",
     "text": [
      "$BID: possibly delisted; no timezone found\n"
     ]
    },
    {
     "name": "stdout",
     "output_type": "stream",
     "text": [
      "⚠️ Dữ liệu của BIDV (BID) ít hơn 1000 dòng. Thử mã với đuôi .VN.\n",
      "✅ Đã tìm thấy dữ liệu cho BIDV với mã BID.VN.\n",
      "✅ Đã lưu dữ liệu cho BIDV (1499 dòng).\n"
     ]
    },
    {
     "name": "stderr",
     "output_type": "stream",
     "text": [
      "C:\\Users\\hype1\\AppData\\Local\\Temp\\ipykernel_35564\\2248697749.py:182: FutureWarning: The behavior of array concatenation with empty entries is deprecated. In a future version, this will no longer exclude empty items when determining the result dtype. To retain the old behavior, exclude the empty entries before the concat operation.\n",
      "  data = pd.concat([data, data_vn.iloc[:, :5]])\n"
     ]
    },
    {
     "name": "stdout",
     "output_type": "stream",
     "text": [
      "Đang xử lý: Techcombank (TCB)\n",
      "⚠️ Dữ liệu của Techcombank (TCB) ít hơn 1000 dòng. Thử mã với đuôi .VN.\n",
      "❌ Lỗi khi lấy dữ liệu cho Techcombank : Length mismatch: Expected axis has 2 elements, new values have 1 elements\n",
      "✅ Đã lưu dữ liệu cho Techcombank (786 dòng).\n",
      "Đang xử lý: ACB (ACB)\n",
      "✅ Đã lưu dữ liệu cho ACB (1509 dòng).\n",
      "Đang xử lý: TPBank (TPB)\n",
      "✅ Đã lưu dữ liệu cho TPBank (1509 dòng).\n",
      "Đang xử lý: VPBank (VPB)\n",
      "⚠️ Dữ liệu của VPBank (VPB) ít hơn 1000 dòng. Thử mã với đuôi .VN.\n",
      "❌ Lỗi khi lấy dữ liệu cho VPBank : Length mismatch: Expected axis has 2 elements, new values have 1 elements\n",
      "✅ Đã lưu dữ liệu cho VPBank (790 dòng).\n",
      "Đang xử lý: HDBank (HDB)\n",
      "✅ Đã lưu dữ liệu cho HDBank (1509 dòng).\n",
      "Đang xử lý: Sacombank (STB)\n"
     ]
    },
    {
     "name": "stderr",
     "output_type": "stream",
     "text": [
      "$STB: possibly delisted; no timezone found\n"
     ]
    },
    {
     "name": "stdout",
     "output_type": "stream",
     "text": [
      "⚠️ Dữ liệu của Sacombank (STB) ít hơn 1000 dòng. Thử mã với đuôi .VN.\n",
      "✅ Đã tìm thấy dữ liệu cho Sacombank với mã STB.VN.\n",
      "✅ Đã lưu dữ liệu cho Sacombank (356 dòng).\n"
     ]
    },
    {
     "name": "stderr",
     "output_type": "stream",
     "text": [
      "C:\\Users\\hype1\\AppData\\Local\\Temp\\ipykernel_35564\\2248697749.py:182: FutureWarning: The behavior of array concatenation with empty entries is deprecated. In a future version, this will no longer exclude empty items when determining the result dtype. To retain the old behavior, exclude the empty entries before the concat operation.\n",
      "  data = pd.concat([data, data_vn.iloc[:, :5]])\n"
     ]
    },
    {
     "name": "stdout",
     "output_type": "stream",
     "text": [
      "Đang xử lý: SHB (SHB)\n"
     ]
    },
    {
     "name": "stderr",
     "output_type": "stream",
     "text": [
      "$SHB: possibly delisted; no price data found  (1d 2019-01-01 -> 2024-12-31)\n"
     ]
    },
    {
     "name": "stdout",
     "output_type": "stream",
     "text": [
      "⚠️ Dữ liệu của SHB (SHB) ít hơn 1000 dòng. Thử mã với đuôi .VN.\n",
      "❌ Lỗi khi lấy dữ liệu cho SHB : Length mismatch: Expected axis has 2 elements, new values have 1 elements\n",
      "⚠️ Không có dữ liệu cho SHB (SHB). Bỏ qua.\n",
      "Đang xử lý: SeABank (SSB)\n",
      "✅ Đã lưu dữ liệu cho SeABank (1509 dòng).\n",
      "Đang xử lý: OCB (OCB)\n"
     ]
    },
    {
     "name": "stderr",
     "output_type": "stream",
     "text": [
      "$OCB: possibly delisted; no price data found  (1d 2019-01-01 -> 2024-12-31)\n"
     ]
    },
    {
     "name": "stdout",
     "output_type": "stream",
     "text": [
      "⚠️ Dữ liệu của OCB (OCB) ít hơn 1000 dòng. Thử mã với đuôi .VN.\n",
      "✅ Đã tìm thấy dữ liệu cho OCB với mã OCB.VN.\n",
      "✅ Đã lưu dữ liệu cho OCB (977 dòng).\n"
     ]
    },
    {
     "name": "stderr",
     "output_type": "stream",
     "text": [
      "C:\\Users\\hype1\\AppData\\Local\\Temp\\ipykernel_35564\\2248697749.py:182: FutureWarning: The behavior of array concatenation with empty entries is deprecated. In a future version, this will no longer exclude empty items when determining the result dtype. To retain the old behavior, exclude the empty entries before the concat operation.\n",
      "  data = pd.concat([data, data_vn.iloc[:, :5]])\n"
     ]
    },
    {
     "name": "stdout",
     "output_type": "stream",
     "text": [
      "Đang xử lý: LienVietPostBank (LPB)\n"
     ]
    },
    {
     "name": "stderr",
     "output_type": "stream",
     "text": [
      "$LPB: possibly delisted; no price data found  (1d 2019-01-01 -> 2024-12-31)\n"
     ]
    },
    {
     "name": "stdout",
     "output_type": "stream",
     "text": [
      "⚠️ Dữ liệu của LienVietPostBank (LPB) ít hơn 1000 dòng. Thử mã với đuôi .VN.\n",
      "✅ Đã tìm thấy dữ liệu cho LienVietPostBank với mã LPB.VN.\n",
      "✅ Đã lưu dữ liệu cho LienVietPostBank (1036 dòng).\n"
     ]
    },
    {
     "name": "stderr",
     "output_type": "stream",
     "text": [
      "C:\\Users\\hype1\\AppData\\Local\\Temp\\ipykernel_35564\\2248697749.py:182: FutureWarning: The behavior of array concatenation with empty entries is deprecated. In a future version, this will no longer exclude empty items when determining the result dtype. To retain the old behavior, exclude the empty entries before the concat operation.\n",
      "  data = pd.concat([data, data_vn.iloc[:, :5]])\n"
     ]
    },
    {
     "name": "stdout",
     "output_type": "stream",
     "text": [
      "Đang xử lý: VIB (VIB)\n"
     ]
    },
    {
     "name": "stderr",
     "output_type": "stream",
     "text": [
      "$VIB: possibly delisted; no price data found  (1d 2019-01-01 -> 2024-12-31)\n"
     ]
    },
    {
     "name": "stdout",
     "output_type": "stream",
     "text": [
      "⚠️ Dữ liệu của VIB (VIB) ít hơn 1000 dòng. Thử mã với đuôi .VN.\n",
      "❌ Lỗi khi lấy dữ liệu cho VIB : Length mismatch: Expected axis has 2 elements, new values have 1 elements\n",
      "⚠️ Không có dữ liệu cho VIB (VIB). Bỏ qua.\n",
      "Đang xử lý: MSB (MSB)\n",
      "✅ Đã lưu dữ liệu cho MSB (1509 dòng).\n",
      "Đang xử lý: Nam A Bank (NAB)\n"
     ]
    },
    {
     "name": "stderr",
     "output_type": "stream",
     "text": [
      "$NAB: possibly delisted; no price data found  (1d 2019-01-01 -> 2024-12-31)\n"
     ]
    },
    {
     "name": "stdout",
     "output_type": "stream",
     "text": [
      "⚠️ Dữ liệu của Nam A Bank (NAB) ít hơn 1000 dòng. Thử mã với đuôi .VN.\n",
      "✅ Đã tìm thấy dữ liệu cho Nam A Bank với mã NAB.VN.\n",
      "✅ Đã lưu dữ liệu cho Nam A Bank (208 dòng).\n"
     ]
    },
    {
     "name": "stderr",
     "output_type": "stream",
     "text": [
      "C:\\Users\\hype1\\AppData\\Local\\Temp\\ipykernel_35564\\2248697749.py:182: FutureWarning: The behavior of array concatenation with empty entries is deprecated. In a future version, this will no longer exclude empty items when determining the result dtype. To retain the old behavior, exclude the empty entries before the concat operation.\n",
      "  data = pd.concat([data, data_vn.iloc[:, :5]])\n"
     ]
    },
    {
     "name": "stdout",
     "output_type": "stream",
     "text": [
      "Đang xử lý: Bac A Bank (BAB)\n",
      "✅ Đã lưu dữ liệu cho Bac A Bank (1509 dòng).\n",
      "Đang xử lý: KienLongBank (KLB)\n"
     ]
    },
    {
     "name": "stderr",
     "output_type": "stream",
     "text": [
      "$KLB: possibly delisted; no price data found  (1d 2019-01-01 -> 2024-12-31)\n"
     ]
    },
    {
     "name": "stdout",
     "output_type": "stream",
     "text": [
      "⚠️ Dữ liệu của KienLongBank (KLB) ít hơn 1000 dòng. Thử mã với đuôi .VN.\n"
     ]
    },
    {
     "name": "stderr",
     "output_type": "stream",
     "text": [
      "$KLB.VN: possibly delisted; no timezone found\n"
     ]
    },
    {
     "name": "stdout",
     "output_type": "stream",
     "text": [
      "⚠️ Không có dữ liệu cho KienLongBank (KLB). Bỏ qua.\n",
      "Đang xử lý: Saigonbank (SGB)\n"
     ]
    },
    {
     "name": "stderr",
     "output_type": "stream",
     "text": [
      "$SGB: possibly delisted; no timezone found\n"
     ]
    },
    {
     "name": "stdout",
     "output_type": "stream",
     "text": [
      "⚠️ Dữ liệu của Saigonbank (SGB) ít hơn 1000 dòng. Thử mã với đuôi .VN.\n"
     ]
    },
    {
     "name": "stderr",
     "output_type": "stream",
     "text": [
      "$SGB.VN: possibly delisted; no timezone found\n"
     ]
    },
    {
     "name": "stdout",
     "output_type": "stream",
     "text": [
      "⚠️ Không có dữ liệu cho Saigonbank (SGB). Bỏ qua.\n",
      "Đang xử lý: ABBANK (ABB)\n"
     ]
    },
    {
     "name": "stderr",
     "output_type": "stream",
     "text": [
      "$ABB: possibly delisted; no timezone found\n"
     ]
    },
    {
     "name": "stdout",
     "output_type": "stream",
     "text": [
      "⚠️ Dữ liệu của ABBANK (ABB) ít hơn 1000 dòng. Thử mã với đuôi .VN.\n"
     ]
    },
    {
     "name": "stderr",
     "output_type": "stream",
     "text": [
      "$ABB.VN: possibly delisted; no timezone found\n"
     ]
    },
    {
     "name": "stdout",
     "output_type": "stream",
     "text": [
      "⚠️ Không có dữ liệu cho ABBANK (ABB). Bỏ qua.\n",
      "Đang xử lý: PG Bank (PGB)\n"
     ]
    },
    {
     "name": "stderr",
     "output_type": "stream",
     "text": [
      "$PGB: possibly delisted; no price data found  (1d 2019-01-01 -> 2024-12-31)\n"
     ]
    },
    {
     "name": "stdout",
     "output_type": "stream",
     "text": [
      "⚠️ Dữ liệu của PG Bank (PGB) ít hơn 1000 dòng. Thử mã với đuôi .VN.\n"
     ]
    },
    {
     "name": "stderr",
     "output_type": "stream",
     "text": [
      "$PGB.VN: possibly delisted; no timezone found\n"
     ]
    },
    {
     "name": "stdout",
     "output_type": "stream",
     "text": [
      "⚠️ Không có dữ liệu cho PG Bank (PGB). Bỏ qua.\n",
      "Đang xử lý: Eximbank (EIB)\n",
      "⚠️ Dữ liệu của Eximbank (EIB) ít hơn 1000 dòng. Thử mã với đuôi .VN.\n",
      "❌ Lỗi khi lấy dữ liệu cho Eximbank : Length mismatch: Expected axis has 2 elements, new values have 1 elements\n",
      "✅ Đã lưu dữ liệu cho Eximbank (794 dòng).\n",
      "Đang xử lý: Nội Bài Bank (NB Bank) (NBB)\n",
      "✅ Đã lưu dữ liệu cho Nội Bài Bank (NB Bank) (1509 dòng).\n",
      "Đang xử lý: Công ty tài chính cổ phần Điện lực (EVNFinance) (EVF)\n",
      "✅ Đã lưu dữ liệu cho Công ty tài chính cổ phần Điện lực (EVNFinance) (1509 dòng).\n",
      "Đang xử lý: Công ty tài chính Sông Đà (SDF)\n"
     ]
    },
    {
     "name": "stderr",
     "output_type": "stream",
     "text": [
      "$SDF: possibly delisted; no price data found  (1d 2019-01-01 -> 2024-12-31)\n"
     ]
    },
    {
     "name": "stdout",
     "output_type": "stream",
     "text": [
      "⚠️ Dữ liệu của Công ty tài chính Sông Đà (SDF) ít hơn 1000 dòng. Thử mã với đuôi .VN.\n"
     ]
    },
    {
     "name": "stderr",
     "output_type": "stream",
     "text": [
      "$SDF.VN: possibly delisted; no timezone found\n"
     ]
    },
    {
     "name": "stdout",
     "output_type": "stream",
     "text": [
      "⚠️ Không có dữ liệu cho Công ty tài chính Sông Đà (SDF). Bỏ qua.\n",
      "Đang xử lý: Công ty tài chính dầu khí PVFC (giờ là PVcomBank) (PVCB)\n"
     ]
    },
    {
     "name": "stderr",
     "output_type": "stream",
     "text": [
      "$PVCB: possibly delisted; no timezone found\n"
     ]
    },
    {
     "name": "stdout",
     "output_type": "stream",
     "text": [
      "⚠️ Dữ liệu của Công ty tài chính dầu khí PVFC (giờ là PVcomBank) (PVCB) ít hơn 1000 dòng. Thử mã với đuôi .VN.\n"
     ]
    },
    {
     "name": "stderr",
     "output_type": "stream",
     "text": [
      "$PVCB.VN: possibly delisted; no timezone found\n"
     ]
    },
    {
     "name": "stdout",
     "output_type": "stream",
     "text": [
      "⚠️ Không có dữ liệu cho Công ty tài chính dầu khí PVFC (giờ là PVcomBank) (PVCB). Bỏ qua.\n",
      "\n",
      "✅ Hoàn thành.\n",
      "Tổng số công ty thành công: 85\n",
      "Tổng số công ty không hợp lệ: 51\n",
      "✅ Đã lưu danh sách valid_companies vào valid_companies.json\n",
      "✅ Đã lưu danh sách invalid_companies vào invalid_companies.json\n"
     ]
    }
   ],
   "source": [
    "import yfinance as yf\n",
    "import pandas as pd\n",
    "import json\n",
    "import time\n",
    "\n",
    "# Danh sách các mã cổ phiếu của các công ty\n",
    "companies = {\n",
    "    # Nông nghiệp\n",
    "    \"Hoàng Anh Gia Lai\": \"HAG\",\n",
    "    \"Tập đoàn PAN\": \"PAN\",\n",
    "    \"Dabaco Việt Nam\": \"DBC\",\n",
    "    \"Giống cây trồng Trung Ương\": \"NSC\",\n",
    "    \"Mía đường Lam Sơn\": \"LSS\",\n",
    "    \"Mía đường Thành Thành Công Tây Ninh\": \"SBT\",\n",
    "    \"Mía đường Sơn La\": \"SLS\",\n",
    "    \"Mía đường Sóc Trăng\": \"SLS\",\n",
    "    \"Thực phẩm Sao Ta\": \"FMC\",\n",
    "    \"Nông nghiệp Quốc tế Hoàng Anh Gia Lai\": \"HNG\",\n",
    "    \"Thực phẩm Cholimex\": \"CMF\",\n",
    "    \"Giống cây trồng Miền Nam\": \"SSC\",\n",
    "    \"Công ty cổ phần Vĩnh Hoàn\": \"VHC\",\n",
    "    \"Công ty cổ phần Nam Việt\": \"ANV\",\n",
    "    \"Công ty cổ phần Thủy sản Minh Phú\": \"MPC\",\n",
    "    \"Công ty cổ phần Thực phẩm Bích Chi\": \"BFC\",\n",
    "    \"Công ty cổ phần Tập đoàn Lộc Trời\": \"LTG\",\n",
    "    \"CTCP Nông nghiệp BaF Việt Nam\": \"BAF\",\n",
    "    \"CTCP Dược phẩm Cửu Long\": \"DCL\",\n",
    "    \"CTCP Thuốc sát trùng Việt Nam\": \"VFG\",\n",
    "    \"CTCP XNK Thủy sản Bến Tre\": \"ABT\",\n",
    "    \"CTCP XNK An Giang\": \"AGM\",\n",
    "    \"CTCP Chế biến Thực phẩm Xuất khẩu miền Tây\": \"WCF\",\n",
    "    \"CTCP Chế biến Gỗ Đức Thành\": \"GDT\",\n",
    "    \"CTCP Chăn nuôi C.P. Việt Nam\": \"CPV\",\n",
    "    \"CTCP Tập đoàn Dược Bảo Châu\": \"BCP\",\n",
    "    \"CTCP Tập đoàn Sao Mai\": \"ASM\",\n",
    "    \"CTCP Dầu thực vật Tường An\": \"TAC\",\n",
    "    \"CTCP Dầu thực vật Cái Lân\": \"VOC\",\n",
    "\n",
    "    #Thực phẩm\n",
    "    \"Vinamilk\": \"VNM\",\n",
    "    \"CTCP Sữa TH True Milk\": \"THM\",\n",
    "    \"CTCP Bánh kẹo Bibica\": \"BBC\",\n",
    "    \"CTCP Bao bì Dược\": \"BMP\",\n",
    "    \"CTCP Tập đoàn Masan\": \"MSN\",\n",
    "    \"CTCP Masan Consumer\": \"MCH\",\n",
    "    \"CTCP Thực phẩm Cholimex\": \"CMF\",\n",
    "    \"CTCP Chăn nuôi Mitraco\": \"MLS\",\n",
    "    \"CTCP Chăn nuôi Phú Sơn\": \"PSL\",\n",
    "    \"CTCP Chăn nuôi Tiến Nông\": \"TNC\",\n",
    "\n",
    "    #Thép\n",
    "    \"Hòa Phát\": \"HPG\",\n",
    "    \"Tập đoàn Hoa Sen\": \"HSG\",\n",
    "    \"CTCP Thép Nam Kim\": \"NKG\",\n",
    "    \"CTCP Tập đoàn Thép Tiến Lên\": \"TLH\",\n",
    "    \"CTCP Tập đoàn Đại Thiên Lộc\": \"DTL\",\n",
    "    \"CTCP Thép VICASA - VNSTEEL\": \"VCA\",\n",
    "    \"CTCP Xi măng Bỉm Sơn\": \"BCC\",\n",
    "    \"CTCP Xi măng Vicem Hoàng Mai\": \"HOM\",\n",
    "    \"CTCP Gạch men Vicenza\": \"VGC\",\n",
    "    \"CTCP VLXD Viglacera Thăng Long\": \"TLT\",\n",
    "    \"CTCP VLXD Viglacera Đông Triều\": \"DTC\",\n",
    "    \"CTCP Tập đoàn Phú Tài\": \"PTB\",\n",
    "    \"CTCP Hóa chất Cơ bản miền Nam\": \"CSV\",\n",
    "    \"CTCP Hóa chất Đức Giang – Lào Cai\": \"DGL\",\n",
    "\n",
    "    #Công nghệ\n",
    "    \"FPT\": \"FPT\",\n",
    "    \"CTCP Bán lẻ Kỹ thuật số FPT\": \"FRT\",\n",
    "    \"CTCP Thế giới Di động\": \"MWG\",\n",
    "    \"CTCP Tập đoàn Masan (có đầu tư vào tech)\": \"MSN\",\n",
    "    \"CTCP Công nghệ Viễn thông Sài Gòn\": \"SGT\",\n",
    "    \"CTCP Tập đoàn CMC\": \"CMG\",\n",
    "    \"CTCP Công nghệ Viễn thông Elcom\": \"ELC\",\n",
    "    \"CTCP Đầu tư và Phát triển Công nghệ Văn Lang\": \"VLT\",\n",
    "    \"CTCP Giải pháp Công nghệ Thông minh ITD\": \"ITD\",\n",
    "    \"CTCP Tư vấn Đầu tư và Phát triển Tin học\": \"ITC\",\n",
    "    \"CTCP Dịch vụ Trực tuyến NetNam\": \"NET\",\n",
    "    \"CTCP VTC Dịch vụ truyền hình số\": \"VTC\",\n",
    "    \"CTCP Công nghệ Truyền thông DTT\": \"DTT\",\n",
    "\n",
    "    #Ngân hàng\n",
    "    \"MB Bank\": \"MBB\",\n",
    "    \"Vietcombank\": \"VCB\",\n",
    "    \"VietinBank\": \"CTG\",\n",
    "    \"BIDV\": \"BID\",\n",
    "    \"Techcombank\": \"TCB\",\n",
    "    \"ACB\": \"ACB\",\n",
    "    \"TPBank\": \"TPB\",\n",
    "    \"VPBank\": \"VPB\",\n",
    "    \"HDBank\": \"HDB\",\n",
    "    \"Sacombank\": \"STB\",\n",
    "    \"SeABank\": \"SSB\",\n",
    "    \"OCB\": \"OCB\",\n",
    "    \"LienVietPostBank\": \"LPB\",\n",
    "    \"MSB\": \"MSB\",\n",
    "    \"Nam A Bank\": \"NAB\",\n",
    "    \"Bac A Bank\": \"BAB\",\n",
    "    \"Eximbank\": \"EIB\",\n",
    "    \"Nội Bài Bank (NB Bank)\": \"NBB\",\n",
    "    \"Công ty tài chính cổ phần Điện lực (EVNFinance)\": \"EVF\",\n",
    "}\n",
    "\n",
    "valid_companies = {}\n",
    "invalid_companies = {}  # Thêm dictionary để lưu công ty không hợp lệ\n",
    "max_retries = 5\n",
    "    \n",
    "for company_name, ticker_symbol in companies.items():\n",
    "    print(f\"Đang xử lý: {company_name} ({ticker_symbol})\")\n",
    "    \n",
    "    success = False\n",
    "    retries = 0\n",
    "    while not success and retries < max_retries:\n",
    "        try:\n",
    "            # Lấy dữ liệu từ 2019 đến 2024 từ mã cổ phiếu ban đầu\n",
    "            ticker = yf.Ticker(ticker_symbol)\n",
    "            data = ticker.history(start=\"2019-01-01\", end=\"2024-12-31\", interval=\"1d\").iloc[:, :5]\n",
    "            # Kiểm tra nếu dữ liệu có ít hơn 1000 dòng\n",
    "            if len(data) < 1000:\n",
    "                print(f\"⚠️ Dữ liệu của {company_name} ({ticker_symbol}) ít hơn 1000 dòng. Thử mã với đuôi .VN.\")\n",
    "                ticker_symbol_vn = ticker_symbol + \".VN\"\n",
    "                ticker = yf.Ticker(ticker_symbol_vn)\n",
    "                try:\n",
    "                    data_vn = ticker.history(start=\"2019-01-01\", end=\"2024-12-31\", interval=\"1d\")\n",
    "                except Exception as e:\n",
    "                    print(f\"❌ Lỗi khi lấy dữ liệu cho {company_name} : {e}\")\n",
    "\n",
    "                # Gộp dữ liệu từ mã gốc và mã .VN nếu có dữ liệu\n",
    "                if data_vn is not None and not data_vn.empty:\n",
    "                    print(f\"✅ Đã tìm thấy dữ liệu cho {company_name} với mã {ticker_symbol}.VN.\")\n",
    "                    data = pd.concat([data, data_vn.iloc[:, :5]])\n",
    "                    data = data.loc[~data.index.duplicated(keep='last')]  # Loại bỏ các dòng trùng lặp\n",
    "                    data_vn = None\n",
    "    \n",
    "            # Dữ liệu không trống, tiếp tục dù số dòng ít\n",
    "            if data.empty:\n",
    "                print(f\"⚠️ Không có dữ liệu cho {company_name} ({ticker_symbol}). Bỏ qua.\")\n",
    "                invalid_companies[company_name] = ticker_symbol\n",
    "                break\n",
    "\n",
    "            # Làm sạch dữ liệu, chuyển định dạng cột Date (bỏ giờ và timezone)\n",
    "            data = data.reset_index()\n",
    "            data['Date'] = pd.to_datetime(data['Date'], utc=True).dt.date\n",
    "            data = data.set_index('Date')\n",
    "\n",
    "            # Lưu vào file CSV\n",
    "            filename = f\"{company_name}_stock_data.csv\"\n",
    "            data.to_csv(filename)\n",
    "            valid_companies[company_name] = ticker_symbol\n",
    "\n",
    "            print(f\"✅ Đã lưu dữ liệu cho {company_name} ({len(data)} dòng).\")\n",
    "            data = None\n",
    "            success = True  # Gắn cờ thành công\n",
    "    \n",
    "        except Exception as e:\n",
    "            retries += 1\n",
    "            print(f\"❌ Lỗi khi lấy dữ liệu cho {company_name} (thử lại {retries}/{max_retries}): {e}\")\n",
    "            if retries >= max_retries:\n",
    "                print(f\"⚠️ Đã thử {max_retries} lần mà không thành công. Bỏ qua {company_name}.\")\n",
    "                invalid_companies[company_name] = ticker_symbol\n",
    "            time.sleep(2)  # Delay ngắn giữa các lần thử lại\n",
    "    \n",
    "    time.sleep(3)  # Delay giữa các công ty\n",
    "    \n",
    "# Lưu danh sách công ty hợp lệ và không hợp lệ\n",
    "print(\"\\n✅ Hoàn thành.\")\n",
    "print(f\"Tổng số công ty thành công: {len(valid_companies)}\")\n",
    "print(f\"Tổng số công ty không hợp lệ: {len(invalid_companies)}\")\n",
    "    \n",
    "with open(\"valid_companies.json\", \"w\", encoding=\"utf-8\") as f:\n",
    "    json.dump(valid_companies, f, ensure_ascii=False, indent=4)\n",
    "    \n",
    "with open(\"invalid_companies.json\", \"w\", encoding=\"utf-8\") as f:\n",
    "    json.dump(invalid_companies, f, ensure_ascii=False, indent=4)\n",
    "    \n",
    "print(\"✅ Đã lưu danh sách valid_companies vào valid_companies.json\")\n",
    "print(\"✅ Đã lưu danh sách invalid_companies vào invalid_companies.json\")"
   ]
  }
 ],
 "metadata": {
  "kernelspec": {
   "display_name": "Python 3 (ipykernel)",
   "language": "python",
   "name": "python3"
  },
  "language_info": {
   "codemirror_mode": {
    "name": "ipython",
    "version": 3
   },
   "file_extension": ".py",
   "mimetype": "text/x-python",
   "name": "python",
   "nbconvert_exporter": "python",
   "pygments_lexer": "ipython3",
   "version": "3.12.6"
  }
 },
 "nbformat": 4,
 "nbformat_minor": 5
}
