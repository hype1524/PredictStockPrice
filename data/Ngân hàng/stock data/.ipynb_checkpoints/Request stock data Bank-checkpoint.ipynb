{
 "cells": [
  {
   "cell_type": "code",
   "execution_count": 2,
   "id": "5543fc7c-1098-44d0-8e6e-b9eacdba2185",
   "metadata": {},
   "outputs": [
    {
     "name": "stdout",
     "output_type": "stream",
     "text": [
      "Đang xử lý: MB Bank (MBB)\n",
      "✅ Đã lưu dữ liệu cho MB Bank (1509 dòng).\n",
      "Đang xử lý: Vietcombank (VCB)\n",
      "⚠️ Dữ liệu của Vietcombank (VCB) ít hơn 1000 dòng. Thử mã với đuôi .VN.\n",
      "✅ Đã tìm thấy dữ liệu cho Vietcombank với mã VCB.VN.\n",
      "✅ Đã lưu dữ liệu cho Vietcombank (2289 dòng).\n"
     ]
    },
    {
     "name": "stderr",
     "output_type": "stream",
     "text": [
      "$CTG: possibly delisted; no timezone found\n"
     ]
    },
    {
     "name": "stdout",
     "output_type": "stream",
     "text": [
      "Đang xử lý: VietinBank (CTG)\n",
      "⚠️ Dữ liệu của VietinBank (CTG) ít hơn 1000 dòng. Thử mã với đuôi .VN.\n",
      "✅ Đã tìm thấy dữ liệu cho VietinBank với mã CTG.VN.\n",
      "✅ Đã lưu dữ liệu cho VietinBank (1495 dòng).\n"
     ]
    },
    {
     "name": "stderr",
     "output_type": "stream",
     "text": [
      "C:\\Users\\hype1\\AppData\\Local\\Temp\\ipykernel_6900\\1108657726.py:55: FutureWarning: The behavior of array concatenation with empty entries is deprecated. In a future version, this will no longer exclude empty items when determining the result dtype. To retain the old behavior, exclude the empty entries before the concat operation.\n",
      "  data = pd.concat([data, data_vn.iloc[:, :5]])\n",
      "$BID: possibly delisted; no timezone found\n"
     ]
    },
    {
     "name": "stdout",
     "output_type": "stream",
     "text": [
      "Đang xử lý: BIDV (BID)\n",
      "⚠️ Dữ liệu của BIDV (BID) ít hơn 1000 dòng. Thử mã với đuôi .VN.\n",
      "✅ Đã tìm thấy dữ liệu cho BIDV với mã BID.VN.\n",
      "✅ Đã lưu dữ liệu cho BIDV (1499 dòng).\n"
     ]
    },
    {
     "name": "stderr",
     "output_type": "stream",
     "text": [
      "C:\\Users\\hype1\\AppData\\Local\\Temp\\ipykernel_6900\\1108657726.py:55: FutureWarning: The behavior of array concatenation with empty entries is deprecated. In a future version, this will no longer exclude empty items when determining the result dtype. To retain the old behavior, exclude the empty entries before the concat operation.\n",
      "  data = pd.concat([data, data_vn.iloc[:, :5]])\n"
     ]
    },
    {
     "name": "stdout",
     "output_type": "stream",
     "text": [
      "Đang xử lý: Techcombank (TCB)\n",
      "⚠️ Dữ liệu của Techcombank (TCB) ít hơn 1000 dòng. Thử mã với đuôi .VN.\n",
      "❌ Lỗi khi lấy dữ liệu cho Techcombank : Length mismatch: Expected axis has 2 elements, new values have 1 elements\n",
      "✅ Đã lưu dữ liệu cho Techcombank (786 dòng).\n",
      "Đang xử lý: ACB (ACB)\n",
      "✅ Đã lưu dữ liệu cho ACB (1509 dòng).\n",
      "Đang xử lý: TPBank (TPB)\n",
      "✅ Đã lưu dữ liệu cho TPBank (1509 dòng).\n",
      "Đang xử lý: VPBank (VPB)\n",
      "⚠️ Dữ liệu của VPBank (VPB) ít hơn 1000 dòng. Thử mã với đuôi .VN.\n",
      "❌ Lỗi khi lấy dữ liệu cho VPBank : Length mismatch: Expected axis has 2 elements, new values have 1 elements\n",
      "✅ Đã lưu dữ liệu cho VPBank (790 dòng).\n",
      "Đang xử lý: HDBank (HDB)\n",
      "✅ Đã lưu dữ liệu cho HDBank (1509 dòng).\n"
     ]
    },
    {
     "name": "stderr",
     "output_type": "stream",
     "text": [
      "$STB: possibly delisted; no timezone found\n"
     ]
    },
    {
     "name": "stdout",
     "output_type": "stream",
     "text": [
      "Đang xử lý: Sacombank (STB)\n",
      "⚠️ Dữ liệu của Sacombank (STB) ít hơn 1000 dòng. Thử mã với đuôi .VN.\n",
      "✅ Đã tìm thấy dữ liệu cho Sacombank với mã STB.VN.\n",
      "✅ Đã lưu dữ liệu cho Sacombank (356 dòng).\n"
     ]
    },
    {
     "name": "stderr",
     "output_type": "stream",
     "text": [
      "C:\\Users\\hype1\\AppData\\Local\\Temp\\ipykernel_6900\\1108657726.py:55: FutureWarning: The behavior of array concatenation with empty entries is deprecated. In a future version, this will no longer exclude empty items when determining the result dtype. To retain the old behavior, exclude the empty entries before the concat operation.\n",
      "  data = pd.concat([data, data_vn.iloc[:, :5]])\n"
     ]
    },
    {
     "name": "stdout",
     "output_type": "stream",
     "text": [
      "Đang xử lý: SeABank (SSB)\n",
      "✅ Đã lưu dữ liệu cho SeABank (1509 dòng).\n",
      "Đang xử lý: OCB (OCB)\n"
     ]
    },
    {
     "name": "stderr",
     "output_type": "stream",
     "text": [
      "$OCB: possibly delisted; no price data found  (1d 2019-01-01 -> 2024-12-31)\n"
     ]
    },
    {
     "name": "stdout",
     "output_type": "stream",
     "text": [
      "⚠️ Dữ liệu của OCB (OCB) ít hơn 1000 dòng. Thử mã với đuôi .VN.\n",
      "✅ Đã tìm thấy dữ liệu cho OCB với mã OCB.VN.\n",
      "✅ Đã lưu dữ liệu cho OCB (977 dòng).\n"
     ]
    },
    {
     "name": "stderr",
     "output_type": "stream",
     "text": [
      "C:\\Users\\hype1\\AppData\\Local\\Temp\\ipykernel_6900\\1108657726.py:55: FutureWarning: The behavior of array concatenation with empty entries is deprecated. In a future version, this will no longer exclude empty items when determining the result dtype. To retain the old behavior, exclude the empty entries before the concat operation.\n",
      "  data = pd.concat([data, data_vn.iloc[:, :5]])\n"
     ]
    },
    {
     "name": "stdout",
     "output_type": "stream",
     "text": [
      "Đang xử lý: LienVietPostBank (LPB)\n"
     ]
    },
    {
     "name": "stderr",
     "output_type": "stream",
     "text": [
      "$LPB: possibly delisted; no price data found  (1d 2019-01-01 -> 2024-12-31)\n"
     ]
    },
    {
     "name": "stdout",
     "output_type": "stream",
     "text": [
      "⚠️ Dữ liệu của LienVietPostBank (LPB) ít hơn 1000 dòng. Thử mã với đuôi .VN.\n",
      "✅ Đã tìm thấy dữ liệu cho LienVietPostBank với mã LPB.VN.\n",
      "✅ Đã lưu dữ liệu cho LienVietPostBank (1036 dòng).\n"
     ]
    },
    {
     "name": "stderr",
     "output_type": "stream",
     "text": [
      "C:\\Users\\hype1\\AppData\\Local\\Temp\\ipykernel_6900\\1108657726.py:55: FutureWarning: The behavior of array concatenation with empty entries is deprecated. In a future version, this will no longer exclude empty items when determining the result dtype. To retain the old behavior, exclude the empty entries before the concat operation.\n",
      "  data = pd.concat([data, data_vn.iloc[:, :5]])\n"
     ]
    },
    {
     "name": "stdout",
     "output_type": "stream",
     "text": [
      "Đang xử lý: MSB (MSB)\n",
      "✅ Đã lưu dữ liệu cho MSB (1509 dòng).\n",
      "Đang xử lý: Nam A Bank (NAB)\n"
     ]
    },
    {
     "name": "stderr",
     "output_type": "stream",
     "text": [
      "$NAB: possibly delisted; no price data found  (1d 2019-01-01 -> 2024-12-31)\n"
     ]
    },
    {
     "name": "stdout",
     "output_type": "stream",
     "text": [
      "⚠️ Dữ liệu của Nam A Bank (NAB) ít hơn 1000 dòng. Thử mã với đuôi .VN.\n",
      "✅ Đã tìm thấy dữ liệu cho Nam A Bank với mã NAB.VN.\n",
      "✅ Đã lưu dữ liệu cho Nam A Bank (208 dòng).\n"
     ]
    },
    {
     "name": "stderr",
     "output_type": "stream",
     "text": [
      "C:\\Users\\hype1\\AppData\\Local\\Temp\\ipykernel_6900\\1108657726.py:55: FutureWarning: The behavior of array concatenation with empty entries is deprecated. In a future version, this will no longer exclude empty items when determining the result dtype. To retain the old behavior, exclude the empty entries before the concat operation.\n",
      "  data = pd.concat([data, data_vn.iloc[:, :5]])\n"
     ]
    },
    {
     "name": "stdout",
     "output_type": "stream",
     "text": [
      "Đang xử lý: Bac A Bank (BAB)\n",
      "✅ Đã lưu dữ liệu cho Bac A Bank (1509 dòng).\n",
      "Đang xử lý: Eximbank (EIB)\n",
      "⚠️ Dữ liệu của Eximbank (EIB) ít hơn 1000 dòng. Thử mã với đuôi .VN.\n",
      "❌ Lỗi khi lấy dữ liệu cho Eximbank : Length mismatch: Expected axis has 2 elements, new values have 1 elements\n",
      "✅ Đã lưu dữ liệu cho Eximbank (794 dòng).\n",
      "Đang xử lý: Nội Bài Bank (NB Bank) (NBB)\n",
      "✅ Đã lưu dữ liệu cho Nội Bài Bank (NB Bank) (1509 dòng).\n",
      "Đang xử lý: Công ty tài chính cổ phần Điện lực (EVNFinance) (EVF)\n",
      "✅ Đã lưu dữ liệu cho Công ty tài chính cổ phần Điện lực (EVNFinance) (1509 dòng).\n",
      "\n",
      "✅ Hoàn thành.\n"
     ]
    }
   ],
   "source": [
    "import yfinance as yf\n",
    "import pandas as pd\n",
    "import json\n",
    "import time\n",
    "\n",
    "# Danh sách các mã cổ phiếu của các công ty\n",
    "companies = {\n",
    "    #Ngân hàng\n",
    "    \"MB Bank\": \"MBB\",\n",
    "    \"Vietcombank\": \"VCB\",\n",
    "    \"VietinBank\": \"CTG\",\n",
    "    \"BIDV\": \"BID\",\n",
    "    \"Techcombank\": \"TCB\",\n",
    "    \"ACB\": \"ACB\",\n",
    "    \"TPBank\": \"TPB\",\n",
    "    \"VPBank\": \"VPB\",\n",
    "    \"HDBank\": \"HDB\",\n",
    "    \"Sacombank\": \"STB\",\n",
    "    \"SeABank\": \"SSB\",\n",
    "    \"OCB\": \"OCB\",\n",
    "    \"LienVietPostBank\": \"LPB\",\n",
    "    \"MSB\": \"MSB\",\n",
    "    \"Nam A Bank\": \"NAB\",\n",
    "    \"Bac A Bank\": \"BAB\",\n",
    "    \"Eximbank\": \"EIB\",\n",
    "    \"Nội Bài Bank (NB Bank)\": \"NBB\",\n",
    "    \"Công ty tài chính cổ phần Điện lực (EVNFinance)\": \"EVF\"\n",
    "}\n",
    "\n",
    "max_retries = 5\n",
    "    \n",
    "for company_name, ticker_symbol in companies.items():\n",
    "    print(f\"Đang xử lý: {company_name} ({ticker_symbol})\")\n",
    "    \n",
    "    success = False\n",
    "    retries = 0\n",
    "    while not success and retries < max_retries:\n",
    "        try:\n",
    "            # Lấy dữ liệu từ 2019 đến 2024 từ mã cổ phiếu ban đầu\n",
    "            ticker = yf.Ticker(ticker_symbol)\n",
    "            data = ticker.history(start=\"2019-01-01\", end=\"2024-12-31\", interval=\"1d\").iloc[:, :5]\n",
    "            # Kiểm tra nếu dữ liệu có ít hơn 1000 dòng\n",
    "            if len(data) < 1000:\n",
    "                print(f\"⚠️ Dữ liệu của {company_name} ({ticker_symbol}) ít hơn 1000 dòng. Thử mã với đuôi .VN.\")\n",
    "                ticker_symbol_vn = ticker_symbol + \".VN\"\n",
    "                ticker = yf.Ticker(ticker_symbol_vn)\n",
    "                try:\n",
    "                    data_vn = ticker.history(start=\"2019-01-01\", end=\"2024-12-31\", interval=\"1d\")\n",
    "                except Exception as e:\n",
    "                    print(f\"❌ Lỗi khi lấy dữ liệu cho {company_name} : {e}\")\n",
    "\n",
    "                # Gộp dữ liệu từ mã gốc và mã .VN nếu có dữ liệu\n",
    "                if data_vn is not None and not data_vn.empty:\n",
    "                    print(f\"✅ Đã tìm thấy dữ liệu cho {company_name} với mã {ticker_symbol}.VN.\")\n",
    "                    data = pd.concat([data, data_vn.iloc[:, :5]])\n",
    "                    data = data.loc[~data.index.duplicated(keep='last')]  # Loại bỏ các dòng trùng lặp\n",
    "                    data_vn = None\n",
    "    \n",
    "            # Dữ liệu không trống, tiếp tục dù số dòng ít\n",
    "            if data.empty:\n",
    "                print(f\"⚠️ Không có dữ liệu cho {company_name} ({ticker_symbol}). Bỏ qua.\")\n",
    "                break\n",
    "\n",
    "            # Làm sạch dữ liệu, chuyển định dạng cột Date (bỏ giờ và timezone)\n",
    "            data = data.reset_index()\n",
    "            data['Date'] = pd.to_datetime(data['Date'], utc=True).dt.date\n",
    "            data = data.set_index('Date')\n",
    "\n",
    "            # Lưu vào file CSV\n",
    "            filename = f\"{company_name}_stock_data.csv\"\n",
    "            data.to_csv(filename)\n",
    "\n",
    "            print(f\"✅ Đã lưu dữ liệu cho {company_name} ({len(data)} dòng).\")\n",
    "            data = None\n",
    "            success = True  # Gắn cờ thành công\n",
    "    \n",
    "        except Exception as e:\n",
    "            retries += 1\n",
    "            print(f\"❌ Lỗi khi lấy dữ liệu cho {company_name} (thử lại {retries}/{max_retries}): {e}\")\n",
    "            if retries >= max_retries:\n",
    "                print(f\"⚠️ Đã thử {max_retries} lần mà không thành công. Bỏ qua {company_name}.\")\n",
    "            time.sleep(2)  # Delay ngắn giữa các lần thử lại\n",
    "    \n",
    "    time.sleep(3)  # Delay giữa các công ty\n",
    "    \n",
    "# Lưu danh sách công ty hợp lệ và không hợp lệ\n",
    "print(\"\\n✅ Hoàn thành.\")"
   ]
  },
  {
   "cell_type": "code",
   "execution_count": null,
   "id": "d3d85bef-ab20-4e1e-9781-458ef7211063",
   "metadata": {},
   "outputs": [],
   "source": []
  }
 ],
 "metadata": {
  "kernelspec": {
   "display_name": "Python 3 (ipykernel)",
   "language": "python",
   "name": "python3"
  },
  "language_info": {
   "codemirror_mode": {
    "name": "ipython",
    "version": 3
   },
   "file_extension": ".py",
   "mimetype": "text/x-python",
   "name": "python",
   "nbconvert_exporter": "python",
   "pygments_lexer": "ipython3",
   "version": "3.12.6"
  }
 },
 "nbformat": 4,
 "nbformat_minor": 5
}
